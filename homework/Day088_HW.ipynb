{
 "cells": [
  {
   "cell_type": "markdown",
   "metadata": {},
   "source": [
    "## Work\n",
    "1. 請嘗試寫一個 callback 用來記錄各類別在訓練過程中，對驗證集的 True Positive 與 True Negative"
   ]
  },
  {
   "cell_type": "code",
   "execution_count": 1,
   "metadata": {},
   "outputs": [
    {
     "name": "stderr",
     "output_type": "stream",
     "text": [
      "Using TensorFlow backend.\n"
     ]
    }
   ],
   "source": [
    "import os\n",
    "import keras\n",
    "\n",
    "# Disable GPU\n",
    "os.environ[\"CUDA_VISIBLE_DEVICES\"] = \"\""
   ]
  },
  {
   "cell_type": "code",
   "execution_count": 2,
   "metadata": {},
   "outputs": [],
   "source": [
    "train, test = keras.datasets.cifar10.load_data()"
   ]
  },
  {
   "cell_type": "code",
   "execution_count": 3,
   "metadata": {},
   "outputs": [],
   "source": [
    "## 資料前處理\n",
    "def preproc_x(x, flatten=True):\n",
    "    x = x / 255.\n",
    "    if flatten:\n",
    "        x = x.reshape((len(x), -1))\n",
    "    return x\n",
    "\n",
    "def preproc_y(y, num_classes=10):\n",
    "    if y.shape[-1] == 1:\n",
    "        y = keras.utils.to_categorical(y, num_classes)\n",
    "    return y    "
   ]
  },
  {
   "cell_type": "code",
   "execution_count": 4,
   "metadata": {},
   "outputs": [],
   "source": [
    "x_train, y_train = train\n",
    "x_test, y_test = test\n",
    "\n",
    "# Preproc the inputs\n",
    "x_train = preproc_x(x_train)\n",
    "x_test = preproc_x(x_test)\n",
    "\n",
    "# Preprc the outputs\n",
    "y_train = preproc_y(y_train)\n",
    "y_test = preproc_y(y_test)"
   ]
  },
  {
   "cell_type": "code",
   "execution_count": 7,
   "metadata": {},
   "outputs": [],
   "source": [
    "from keras.layers import BatchNormalization\n",
    "\"\"\"\n",
    "建立神經網路，並加入 BN layer\n",
    "\"\"\"\n",
    "def build_mlp(input_shape, output_units=10, num_neurons=[256, 256, 256]):\n",
    "    input_layer = keras.layers.Input(input_shape)\n",
    "    \n",
    "    for i, n_units in enumerate(num_neurons):\n",
    "        if i == 0:\n",
    "            x = keras.layers.Dense(units=n_units, \n",
    "                                   activation=\"relu\", \n",
    "                                   name=\"hidden_layer\"+str(i+1))(input_layer)\n",
    "            x = BatchNormalization()(x)\n",
    "        else:\n",
    "            x = keras.layers.Dense(units=n_units, \n",
    "                                   activation=\"relu\", \n",
    "                                   name=\"hidden_layer\"+str(i+1))(x)\n",
    "            x = BatchNormalization()(x)\n",
    "    \n",
    "    out = keras.layers.Dense(units=output_units, activation=\"softmax\", name=\"output\")(x)\n",
    "    \n",
    "    model = keras.models.Model(inputs=[input_layer], outputs=[out])\n",
    "    return model"
   ]
  },
  {
   "cell_type": "code",
   "execution_count": 8,
   "metadata": {},
   "outputs": [],
   "source": [
    "## 超參數設定\n",
    "LEARNING_RATE = 1e-3\n",
    "EPOCHS = 25\n",
    "BATCH_SIZE = 1024\n",
    "MOMENTUM = 0.95"
   ]
  },
  {
   "cell_type": "code",
   "execution_count": 32,
   "metadata": {},
   "outputs": [],
   "source": [
    "# 載入 Callbacks\n",
    "from keras.callbacks import Callback\n",
    "from sklearn.model_selection import cross_validate\n",
    "from sklearn.metrics import fbeta_score, make_scorer\n",
    "\n",
    "def tn(y_true, y_pred): return confusion_matrix(y_true, y_pred)[0, 0]\n",
    "def fp(y_true, y_pred): return confusion_matrix(y_true, y_pred)[0, 1]\n",
    "def fn(y_true, y_pred): return confusion_matrix(y_true, y_pred)[1, 0]\n",
    "def tp(y_true, y_pred): return confusion_matrix(y_true, y_pred)[1, 1]\n",
    "scoring = {'tp': make_scorer(tp), 'tn': make_scorer(tn),\n",
    "            'fp': make_scorer(fp), 'fn': make_scorer(fn)}\n",
    "   \n",
    "# Record_fp_tp\n",
    "class Record_tp_tn(Callback):\n",
    "    \"\"\"Code Here\n",
    "    撰寫一個紀錄 ture positive 與 true negative 數量的 callbacks    \n",
    "    \"\"\"\n",
    "    def on_train_begin(self, epoch, logs = {}):\n",
    "        logs = logs or {}\n",
    "        record_items = [\"val_auc\", \"val_fp\", \"val_fn\", \"val_tp\", \"val_tn\"]\n",
    "        for i in record_items:\n",
    "            if i not in self.params['metrics']:\n",
    "                self.params['metrics'].append(i)\n",
    "    \n",
    "    def on_epoch_end(self, epoch, logs = {}, thres=0.5):\n",
    "            logs = logs or {}\n",
    "            y_true = self.validation_data[1].argmax(axis = 1)\n",
    "            y_pred = self.model.predict(self.validation_data[0])\n",
    "            y_pred = (y_pred[:, 1] >= thres) * 1\n",
    "\n",
    "            #logs[\"val_f1sc\"] = f1_score(y_true = y_true, y_pred = y_pred, average=\"weighted\")\n",
    "            logs[\"val_tp\"] = scoring[\"tp\"]\n",
    "            logs[\"val_tn\"] = scoring[\"tn\"]\n",
    "        \n",
    "rec_tptn = Record_tp_tn()"
   ]
  },
  {
   "cell_type": "code",
   "execution_count": 33,
   "metadata": {
    "scrolled": true
   },
   "outputs": [
    {
     "name": "stdout",
     "output_type": "stream",
     "text": [
      "_________________________________________________________________\n",
      "Layer (type)                 Output Shape              Param #   \n",
      "=================================================================\n",
      "input_9 (InputLayer)         (None, 3072)              0         \n",
      "_________________________________________________________________\n",
      "hidden_layer1 (Dense)        (None, 256)               786688    \n",
      "_________________________________________________________________\n",
      "batch_normalization_25 (Batc (None, 256)               1024      \n",
      "_________________________________________________________________\n",
      "hidden_layer2 (Dense)        (None, 256)               65792     \n",
      "_________________________________________________________________\n",
      "batch_normalization_26 (Batc (None, 256)               1024      \n",
      "_________________________________________________________________\n",
      "hidden_layer3 (Dense)        (None, 256)               65792     \n",
      "_________________________________________________________________\n",
      "batch_normalization_27 (Batc (None, 256)               1024      \n",
      "_________________________________________________________________\n",
      "output (Dense)               (None, 10)                2570      \n",
      "=================================================================\n",
      "Total params: 923,914\n",
      "Trainable params: 922,378\n",
      "Non-trainable params: 1,536\n",
      "_________________________________________________________________\n",
      "Train on 50000 samples, validate on 10000 samples\n",
      "Epoch 1/25\n",
      "50000/50000 [==============================] - 8s 156us/step - loss: 2.2390 - acc: 0.2630 - val_loss: 2.1714 - val_acc: 0.3043\n",
      "Epoch 2/25\n",
      "50000/50000 [==============================] - 6s 113us/step - loss: 1.7680 - acc: 0.3854 - val_loss: 1.8506 - val_acc: 0.3717\n",
      "Epoch 3/25\n",
      "50000/50000 [==============================] - 5s 109us/step - loss: 1.6377 - acc: 0.4273 - val_loss: 1.7542 - val_acc: 0.3988\n",
      "Epoch 4/25\n",
      "50000/50000 [==============================] - 6s 119us/step - loss: 1.5662 - acc: 0.4541 - val_loss: 1.6466 - val_acc: 0.4251\n",
      "Epoch 5/25\n",
      "50000/50000 [==============================] - 7s 131us/step - loss: 1.5132 - acc: 0.4704 - val_loss: 1.6143 - val_acc: 0.4343\n",
      "Epoch 6/25\n",
      "50000/50000 [==============================] - 6s 130us/step - loss: 1.4686 - acc: 0.4864 - val_loss: 1.5876 - val_acc: 0.4436\n",
      "Epoch 7/25\n",
      "50000/50000 [==============================] - 7s 132us/step - loss: 1.4305 - acc: 0.5010 - val_loss: 1.5575 - val_acc: 0.4565\n",
      "Epoch 8/25\n",
      "50000/50000 [==============================] - 6s 129us/step - loss: 1.3983 - acc: 0.5121 - val_loss: 1.5333 - val_acc: 0.4582\n",
      "Epoch 9/25\n",
      "50000/50000 [==============================] - 6s 130us/step - loss: 1.3696 - acc: 0.5235 - val_loss: 1.5312 - val_acc: 0.4609\n",
      "Epoch 10/25\n",
      "50000/50000 [==============================] - 7s 130us/step - loss: 1.3413 - acc: 0.5316 - val_loss: 1.5089 - val_acc: 0.4741\n",
      "Epoch 11/25\n",
      "50000/50000 [==============================] - 6s 129us/step - loss: 1.3150 - acc: 0.5402 - val_loss: 1.4935 - val_acc: 0.4776\n",
      "Epoch 12/25\n",
      "50000/50000 [==============================] - 7s 134us/step - loss: 1.2928 - acc: 0.5498 - val_loss: 1.4789 - val_acc: 0.4796\n",
      "Epoch 13/25\n",
      "50000/50000 [==============================] - 7s 130us/step - loss: 1.2681 - acc: 0.5574 - val_loss: 1.4678 - val_acc: 0.4850\n",
      "Epoch 14/25\n",
      "50000/50000 [==============================] - 6s 128us/step - loss: 1.2460 - acc: 0.5658 - val_loss: 1.4635 - val_acc: 0.4892\n",
      "Epoch 15/25\n",
      "50000/50000 [==============================] - 7s 136us/step - loss: 1.2264 - acc: 0.5746 - val_loss: 1.4579 - val_acc: 0.4924\n",
      "Epoch 16/25\n",
      "50000/50000 [==============================] - 7s 130us/step - loss: 1.2061 - acc: 0.5820 - val_loss: 1.4605 - val_acc: 0.4925\n",
      "Epoch 17/25\n",
      "50000/50000 [==============================] - 6s 130us/step - loss: 1.1870 - acc: 0.5885 - val_loss: 1.4554 - val_acc: 0.4930\n",
      "Epoch 18/25\n",
      "50000/50000 [==============================] - 7s 130us/step - loss: 1.1668 - acc: 0.5942 - val_loss: 1.4412 - val_acc: 0.4938\n",
      "Epoch 19/25\n",
      "50000/50000 [==============================] - 6s 129us/step - loss: 1.1516 - acc: 0.6005 - val_loss: 1.4406 - val_acc: 0.4985\n",
      "Epoch 20/25\n",
      "50000/50000 [==============================] - 6s 129us/step - loss: 1.1313 - acc: 0.6069 - val_loss: 1.4417 - val_acc: 0.4947\n",
      "Epoch 21/25\n",
      "50000/50000 [==============================] - 6s 128us/step - loss: 1.1149 - acc: 0.6152 - val_loss: 1.4297 - val_acc: 0.4998\n",
      "Epoch 22/25\n",
      "50000/50000 [==============================] - 6s 129us/step - loss: 1.0975 - acc: 0.6220 - val_loss: 1.4279 - val_acc: 0.5042\n",
      "Epoch 23/25\n",
      "50000/50000 [==============================] - 7s 138us/step - loss: 1.0811 - acc: 0.6269 - val_loss: 1.4313 - val_acc: 0.5048\n",
      "Epoch 24/25\n",
      "50000/50000 [==============================] - 6s 130us/step - loss: 1.0647 - acc: 0.6321 - val_loss: 1.4333 - val_acc: 0.5044\n",
      "Epoch 25/25\n",
      "50000/50000 [==============================] - 7s 131us/step - loss: 1.0485 - acc: 0.6400 - val_loss: 1.4329 - val_acc: 0.5020\n"
     ]
    }
   ],
   "source": [
    "model = build_mlp(input_shape=x_train.shape[1:])\n",
    "model.summary()\n",
    "optimizer = keras.optimizers.SGD(lr=LEARNING_RATE, nesterov=True, momentum=MOMENTUM)\n",
    "model.compile(loss=\"categorical_crossentropy\", metrics=[\"accuracy\"], optimizer=optimizer)\n",
    "\n",
    "\"\"\"Code Here\n",
    "將 callbacks 放入模型訓練流程中\n",
    "\"\"\"\n",
    "model.fit(x_train, y_train, \n",
    "          epochs=EPOCHS, \n",
    "          batch_size=BATCH_SIZE, \n",
    "          validation_data=(x_test, y_test), \n",
    "          shuffle=True,\n",
    "          callbacks=[rec_tptn]\n",
    "         )\n",
    "# Collect results\n",
    "train_loss = model.history.history[\"loss\"]\n",
    "valid_loss = model.history.history[\"val_loss\"]\n",
    "train_acc = model.history.history[\"acc\"]\n",
    "valid_acc = model.history.history[\"val_acc\"]\n",
    "\n",
    "\"\"\"Code Here\n",
    "將 tp/tn 從訓練完的模型中取出\n",
    "\"\"\"\n",
    "valid_tp = model.history.history['val_tp']\n",
    "valid_tn = model.history.history['val_tn']"
   ]
  },
  {
   "cell_type": "code",
   "execution_count": null,
   "metadata": {},
   "outputs": [],
   "source": [
    "import matplotlib.pyplot as plt\n",
    "%matplotlib inline\n",
    "\n",
    "plt.plot(range(len(train_loss)), train_loss, label=\"train loss\")\n",
    "plt.plot(range(len(valid_loss)), valid_loss, label=\"valid loss\")\n",
    "plt.legend()\n",
    "plt.title(\"Loss\")\n",
    "plt.show()\n",
    "\n",
    "plt.plot(range(len(train_acc)), train_acc, label=\"train accuracy\")\n",
    "plt.plot(range(len(valid_acc)), valid_acc, label=\"valid accuracy\")\n",
    "plt.legend()\n",
    "plt.title(\"Accuracy\")\n",
    "plt.show()\n",
    "\n",
    "plt.plot(range(len(valid_tp)), valid_tp, label=\"valid tp\", color=\"navy\")\n",
    "plt.plot(range(len(valid_tn)), valid_tn, label=\"valid tn\", color=\"red\")\n",
    "plt.legend()\n",
    "plt.title(\"True positives and True Negatives\")\n",
    "plt.show()\n"
   ]
  }
 ],
 "metadata": {
  "kernelspec": {
   "display_name": "Python 3",
   "language": "python",
   "name": "python3"
  },
  "language_info": {
   "codemirror_mode": {
    "name": "ipython",
    "version": 3
   },
   "file_extension": ".py",
   "mimetype": "text/x-python",
   "name": "python",
   "nbconvert_exporter": "python",
   "pygments_lexer": "ipython3",
   "version": "3.7.3"
  }
 },
 "nbformat": 4,
 "nbformat_minor": 2
}
