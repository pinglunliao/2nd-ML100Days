{
 "cells": [
  {
   "cell_type": "markdown",
   "metadata": {},
   "source": [
    "## Work\n",
    "1. 請嘗試將 preproc_x 替換成以每筆資料的 min/max 進行標準化至 -1 ~ 1 間，再進行訓練\n",
    "2. 請嘗試將 mlp 疊更深 (e.g 5~10 層)，進行訓練後觀察 learning curve 的走勢\n",
    "3. (optional) 請改用 GPU 進行訓練 (如果你有 GPU 的話)，比較使用 CPU 與 GPU 的訓練速度"
   ]
  },
  {
   "cell_type": "code",
   "execution_count": 1,
   "metadata": {},
   "outputs": [
    {
     "name": "stderr",
     "output_type": "stream",
     "text": [
      "'nvidia-smi' 不是內部或外部命令、可執行的程式或批次檔。\n"
     ]
    }
   ],
   "source": [
    "## \n",
    "\"\"\"\n",
    "Your code here (optional)\n",
    "確認硬體資源\n",
    "\"\"\"\n",
    "!nvidia-smi"
   ]
  },
  {
   "cell_type": "code",
   "execution_count": 2,
   "metadata": {},
   "outputs": [
    {
     "name": "stderr",
     "output_type": "stream",
     "text": [
      "Using TensorFlow backend.\n"
     ]
    }
   ],
   "source": [
    "import os\n",
    "import keras\n",
    "\n",
    "# 請嘗試設定 GPU：os.environ\n",
    "# 本範例不需使用 GPU, 將 GPU 設定為 \"無\"\n",
    "os.environ[\"CUDA_VISIBLE_DEVICES\"] = \"\""
   ]
  },
  {
   "cell_type": "code",
   "execution_count": 4,
   "metadata": {},
   "outputs": [],
   "source": [
    "train, test = keras.datasets.cifar10.load_data()"
   ]
  },
  {
   "cell_type": "code",
   "execution_count": 5,
   "metadata": {},
   "outputs": [],
   "source": [
    "## 資料前處理\n",
    "def preproc_x(x, flatten=True):\n",
    "    x = x / 255.\n",
    "    if flatten:\n",
    "        x = x.reshape((len(x), -1))\n",
    "    return x\n",
    "\n",
    "def preproc_y(y, num_classes=10):\n",
    "    if y.shape[-1] == 1:\n",
    "        y = keras.utils.to_categorical(y, num_classes)\n",
    "    return y    \n",
    "    pass"
   ]
  },
  {
   "cell_type": "code",
   "execution_count": 6,
   "metadata": {},
   "outputs": [],
   "source": [
    "x_train, y_train = train\n",
    "x_test, y_test = test\n",
    "\n",
    "# Preproc the inputs\n",
    "x_train = preproc_x(x_train)\n",
    "x_test = preproc_x(x_test)\n",
    "\n",
    "# Preprc the outputs\n",
    "y_train = preproc_y(y_train)\n",
    "y_test = preproc_y(y_test)"
   ]
  },
  {
   "cell_type": "code",
   "execution_count": 13,
   "metadata": {},
   "outputs": [
    {
     "name": "stderr",
     "output_type": "stream",
     "text": [
      "WARNING: Logging before flag parsing goes to stderr.\n",
      "W1021 15:01:06.146690 11600 deprecation_wrapper.py:119] From C:\\ProgramData\\Anaconda3\\lib\\site-packages\\keras\\backend\\tensorflow_backend.py:74: The name tf.get_default_graph is deprecated. Please use tf.compat.v1.get_default_graph instead.\n",
      "\n",
      "W1021 15:01:06.148691 11600 deprecation_wrapper.py:119] From C:\\ProgramData\\Anaconda3\\lib\\site-packages\\keras\\backend\\tensorflow_backend.py:517: The name tf.placeholder is deprecated. Please use tf.compat.v1.placeholder instead.\n",
      "\n",
      "W1021 15:01:06.152687 11600 deprecation_wrapper.py:119] From C:\\ProgramData\\Anaconda3\\lib\\site-packages\\keras\\backend\\tensorflow_backend.py:4138: The name tf.random_uniform is deprecated. Please use tf.random.uniform instead.\n",
      "\n"
     ]
    },
    {
     "name": "stdout",
     "output_type": "stream",
     "text": [
      "_________________________________________________________________\n",
      "Layer (type)                 Output Shape              Param #   \n",
      "=================================================================\n",
      "input_1 (InputLayer)         (None, 3072)              0         \n",
      "_________________________________________________________________\n",
      "hidden_layer1 (Dense)        (None, 512)               1573376   \n",
      "_________________________________________________________________\n",
      "hidden_layer2 (Dense)        (None, 256)               131328    \n",
      "_________________________________________________________________\n",
      "hidden_layer3 (Dense)        (None, 128)               32896     \n",
      "_________________________________________________________________\n",
      "output (Dense)               (None, 10)                1290      \n",
      "=================================================================\n",
      "Total params: 1,738,890\n",
      "Trainable params: 1,738,890\n",
      "Non-trainable params: 0\n",
      "_________________________________________________________________\n"
     ]
    }
   ],
   "source": [
    "\"\"\"Code Here\n",
    "建立你的神經網路\n",
    "\"\"\"\n",
    "def build_mlp(input_shape, output_units=10, num_neurons=[512, 256, 128]):\n",
    "    input_layer = keras.layers.Input(input_shape)\n",
    "    \n",
    "    for i, n_units in enumerate(num_neurons):\n",
    "        if i == 0:\n",
    "            x = keras.layers.Dense(units=n_units, activation=\"relu\", name=\"hidden_layer\"+str(i+1))(input_layer)\n",
    "        else:\n",
    "            x = keras.layers.Dense(units=n_units, activation=\"relu\", name=\"hidden_layer\"+str(i+1))(x)\n",
    "    \n",
    "    out = keras.layers.Dense(units=output_units, activation=\"softmax\", name=\"output\")(x)\n",
    "    \n",
    "    model = keras.models.Model(inputs=[input_layer], outputs=[out])\n",
    "    return model\n",
    "model = build_mlp(input_shape=x_train.shape[1:])\n",
    "model.summary()"
   ]
  },
  {
   "cell_type": "code",
   "execution_count": 14,
   "metadata": {},
   "outputs": [],
   "source": [
    "## 超參數設定\n",
    "LEARNING_RATE = 0.001\n",
    "EPOCHS = 100\n",
    "BATCH_SIZE = 256"
   ]
  },
  {
   "cell_type": "code",
   "execution_count": 15,
   "metadata": {},
   "outputs": [
    {
     "name": "stderr",
     "output_type": "stream",
     "text": [
      "W1021 15:01:10.759163 11600 deprecation_wrapper.py:119] From C:\\ProgramData\\Anaconda3\\lib\\site-packages\\keras\\optimizers.py:790: The name tf.train.Optimizer is deprecated. Please use tf.compat.v1.train.Optimizer instead.\n",
      "\n",
      "W1021 15:01:10.770161 11600 deprecation_wrapper.py:119] From C:\\ProgramData\\Anaconda3\\lib\\site-packages\\keras\\backend\\tensorflow_backend.py:3295: The name tf.log is deprecated. Please use tf.math.log instead.\n",
      "\n"
     ]
    }
   ],
   "source": [
    "optimizer = keras.optimizers.Adam(lr=LEARNING_RATE)\n",
    "model.compile(loss=\"categorical_crossentropy\", metrics=[\"accuracy\"], optimizer=optimizer)"
   ]
  },
  {
   "cell_type": "code",
   "execution_count": 16,
   "metadata": {},
   "outputs": [
    {
     "name": "stderr",
     "output_type": "stream",
     "text": [
      "W1021 15:01:13.576228 11600 deprecation.py:323] From C:\\ProgramData\\Anaconda3\\lib\\site-packages\\tensorflow\\python\\ops\\math_grad.py:1250: add_dispatch_support.<locals>.wrapper (from tensorflow.python.ops.array_ops) is deprecated and will be removed in a future version.\n",
      "Instructions for updating:\n",
      "Use tf.where in 2.0, which has the same broadcast rule as np.where\n",
      "W1021 15:01:13.635212 11600 deprecation_wrapper.py:119] From C:\\ProgramData\\Anaconda3\\lib\\site-packages\\keras\\backend\\tensorflow_backend.py:986: The name tf.assign_add is deprecated. Please use tf.compat.v1.assign_add instead.\n",
      "\n"
     ]
    },
    {
     "name": "stdout",
     "output_type": "stream",
     "text": [
      "Train on 50000 samples, validate on 10000 samples\n",
      "Epoch 1/100\n",
      "50000/50000 [==============================] - 13s 255us/step - loss: 1.9490 - acc: 0.2989 - val_loss: 1.7694 - val_acc: 0.3725\n",
      "Epoch 2/100\n",
      "50000/50000 [==============================] - 13s 261us/step - loss: 1.7200 - acc: 0.3845 - val_loss: 1.6593 - val_acc: 0.4143\n",
      "Epoch 3/100\n",
      "50000/50000 [==============================] - 15s 293us/step - loss: 1.6145 - acc: 0.4262 - val_loss: 1.5725 - val_acc: 0.4432\n",
      "Epoch 4/100\n",
      "50000/50000 [==============================] - 15s 290us/step - loss: 1.5567 - acc: 0.4430 - val_loss: 1.5322 - val_acc: 0.4542\n",
      "Epoch 5/100\n",
      "50000/50000 [==============================] - 13s 265us/step - loss: 1.5017 - acc: 0.4650 - val_loss: 1.5698 - val_acc: 0.4419\n",
      "Epoch 6/100\n",
      "50000/50000 [==============================] - 14s 270us/step - loss: 1.4685 - acc: 0.4766 - val_loss: 1.4912 - val_acc: 0.4751\n",
      "Epoch 7/100\n",
      "50000/50000 [==============================] - 13s 265us/step - loss: 1.4307 - acc: 0.4903 - val_loss: 1.4558 - val_acc: 0.4885\n",
      "Epoch 8/100\n",
      "50000/50000 [==============================] - 13s 263us/step - loss: 1.4013 - acc: 0.5008 - val_loss: 1.4416 - val_acc: 0.4885\n",
      "Epoch 9/100\n",
      "50000/50000 [==============================] - 13s 266us/step - loss: 1.3773 - acc: 0.5090 - val_loss: 1.4438 - val_acc: 0.4910\n",
      "Epoch 10/100\n",
      "50000/50000 [==============================] - 13s 266us/step - loss: 1.3467 - acc: 0.5184 - val_loss: 1.4774 - val_acc: 0.4868\n",
      "Epoch 11/100\n",
      "50000/50000 [==============================] - 13s 268us/step - loss: 1.3198 - acc: 0.5318 - val_loss: 1.4126 - val_acc: 0.4965\n",
      "Epoch 12/100\n",
      "50000/50000 [==============================] - 13s 269us/step - loss: 1.3049 - acc: 0.5342 - val_loss: 1.3925 - val_acc: 0.5070\n",
      "Epoch 13/100\n",
      "50000/50000 [==============================] - 13s 267us/step - loss: 1.2790 - acc: 0.5448 - val_loss: 1.3937 - val_acc: 0.5066\n",
      "Epoch 14/100\n",
      "50000/50000 [==============================] - 13s 266us/step - loss: 1.2523 - acc: 0.5522 - val_loss: 1.3952 - val_acc: 0.5084\n",
      "Epoch 15/100\n",
      "50000/50000 [==============================] - 13s 267us/step - loss: 1.2345 - acc: 0.5609 - val_loss: 1.4087 - val_acc: 0.4967\n",
      "Epoch 16/100\n",
      "50000/50000 [==============================] - 13s 267us/step - loss: 1.2042 - acc: 0.5689 - val_loss: 1.3763 - val_acc: 0.5156\n",
      "Epoch 17/100\n",
      "50000/50000 [==============================] - 13s 267us/step - loss: 1.1866 - acc: 0.5796 - val_loss: 1.3604 - val_acc: 0.5183\n",
      "Epoch 18/100\n",
      "50000/50000 [==============================] - 13s 267us/step - loss: 1.1693 - acc: 0.5861 - val_loss: 1.3780 - val_acc: 0.5107\n",
      "Epoch 19/100\n",
      "50000/50000 [==============================] - 13s 270us/step - loss: 1.1474 - acc: 0.5921 - val_loss: 1.3589 - val_acc: 0.5186\n",
      "Epoch 20/100\n",
      "50000/50000 [==============================] - 13s 269us/step - loss: 1.1332 - acc: 0.5969 - val_loss: 1.4255 - val_acc: 0.5020\n",
      "Epoch 21/100\n",
      "50000/50000 [==============================] - 14s 271us/step - loss: 1.1106 - acc: 0.6050 - val_loss: 1.4036 - val_acc: 0.5183\n",
      "Epoch 22/100\n",
      "50000/50000 [==============================] - 14s 277us/step - loss: 1.1006 - acc: 0.6065 - val_loss: 1.4013 - val_acc: 0.5132\n",
      "Epoch 23/100\n",
      "50000/50000 [==============================] - 14s 272us/step - loss: 1.0759 - acc: 0.6174 - val_loss: 1.3769 - val_acc: 0.5237\n",
      "Epoch 24/100\n",
      "50000/50000 [==============================] - 14s 271us/step - loss: 1.0533 - acc: 0.6234 - val_loss: 1.3937 - val_acc: 0.5141\n",
      "Epoch 25/100\n",
      "50000/50000 [==============================] - 14s 281us/step - loss: 1.0323 - acc: 0.6311 - val_loss: 1.4145 - val_acc: 0.5161\n",
      "Epoch 26/100\n",
      "50000/50000 [==============================] - 14s 279us/step - loss: 1.0092 - acc: 0.6395 - val_loss: 1.4285 - val_acc: 0.5151\n",
      "Epoch 27/100\n",
      "50000/50000 [==============================] - 14s 279us/step - loss: 0.9985 - acc: 0.6420 - val_loss: 1.3817 - val_acc: 0.5327\n",
      "Epoch 28/100\n",
      "50000/50000 [==============================] - 14s 279us/step - loss: 0.9728 - acc: 0.6506 - val_loss: 1.4158 - val_acc: 0.5264\n",
      "Epoch 29/100\n",
      "50000/50000 [==============================] - 14s 280us/step - loss: 0.9577 - acc: 0.6572 - val_loss: 1.4235 - val_acc: 0.5205\n",
      "Epoch 30/100\n",
      "50000/50000 [==============================] - 14s 277us/step - loss: 0.9482 - acc: 0.6598 - val_loss: 1.4731 - val_acc: 0.5144\n",
      "Epoch 31/100\n",
      "50000/50000 [==============================] - 14s 277us/step - loss: 0.9242 - acc: 0.6680 - val_loss: 1.4635 - val_acc: 0.5269\n",
      "Epoch 32/100\n",
      "50000/50000 [==============================] - 14s 279us/step - loss: 0.9061 - acc: 0.6761 - val_loss: 1.4967 - val_acc: 0.5162\n",
      "Epoch 33/100\n",
      "50000/50000 [==============================] - 14s 281us/step - loss: 0.8845 - acc: 0.6830 - val_loss: 1.4750 - val_acc: 0.5280\n",
      "Epoch 34/100\n",
      "50000/50000 [==============================] - 14s 281us/step - loss: 0.8747 - acc: 0.6861 - val_loss: 1.4774 - val_acc: 0.5201\n",
      "Epoch 35/100\n",
      "50000/50000 [==============================] - 14s 280us/step - loss: 0.8608 - acc: 0.6919 - val_loss: 1.5039 - val_acc: 0.5273\n",
      "Epoch 36/100\n",
      "50000/50000 [==============================] - 14s 280us/step - loss: 0.8437 - acc: 0.6991 - val_loss: 1.5335 - val_acc: 0.5125\n",
      "Epoch 37/100\n",
      "50000/50000 [==============================] - 14s 281us/step - loss: 0.8157 - acc: 0.7049 - val_loss: 1.5442 - val_acc: 0.5210\n",
      "Epoch 38/100\n",
      "50000/50000 [==============================] - 14s 285us/step - loss: 0.8035 - acc: 0.7123 - val_loss: 1.5502 - val_acc: 0.5265\n",
      "Epoch 39/100\n",
      "50000/50000 [==============================] - 14s 283us/step - loss: 0.7895 - acc: 0.7174 - val_loss: 1.5439 - val_acc: 0.5306\n",
      "Epoch 40/100\n",
      "50000/50000 [==============================] - 14s 283us/step - loss: 0.7814 - acc: 0.7208 - val_loss: 1.6109 - val_acc: 0.5175\n",
      "Epoch 41/100\n",
      "50000/50000 [==============================] - 14s 283us/step - loss: 0.7646 - acc: 0.7273 - val_loss: 1.6115 - val_acc: 0.5217\n",
      "Epoch 42/100\n",
      "50000/50000 [==============================] - 14s 285us/step - loss: 0.7449 - acc: 0.7331 - val_loss: 1.6368 - val_acc: 0.5198\n",
      "Epoch 43/100\n",
      "50000/50000 [==============================] - 14s 289us/step - loss: 0.7410 - acc: 0.7357 - val_loss: 1.6919 - val_acc: 0.5078\n",
      "Epoch 44/100\n",
      "50000/50000 [==============================] - 15s 299us/step - loss: 0.7224 - acc: 0.7414 - val_loss: 1.6431 - val_acc: 0.5215\n",
      "Epoch 45/100\n",
      "50000/50000 [==============================] - 14s 289us/step - loss: 0.7100 - acc: 0.7449 - val_loss: 1.7270 - val_acc: 0.5174\n",
      "Epoch 46/100\n",
      "50000/50000 [==============================] - 14s 283us/step - loss: 0.7057 - acc: 0.7488 - val_loss: 1.7284 - val_acc: 0.5155\n",
      "Epoch 47/100\n",
      "50000/50000 [==============================] - 14s 282us/step - loss: 0.6919 - acc: 0.7528 - val_loss: 1.6849 - val_acc: 0.5242\n",
      "Epoch 48/100\n",
      "50000/50000 [==============================] - 14s 281us/step - loss: 0.6803 - acc: 0.7548 - val_loss: 1.7736 - val_acc: 0.5129\n",
      "Epoch 49/100\n",
      "50000/50000 [==============================] - 14s 281us/step - loss: 0.6571 - acc: 0.7653 - val_loss: 1.7841 - val_acc: 0.5191\n",
      "Epoch 50/100\n",
      "50000/50000 [==============================] - 14s 280us/step - loss: 0.6519 - acc: 0.7669 - val_loss: 1.7868 - val_acc: 0.5171\n",
      "Epoch 51/100\n",
      "50000/50000 [==============================] - 14s 281us/step - loss: 0.6272 - acc: 0.7748 - val_loss: 1.8166 - val_acc: 0.5153\n",
      "Epoch 52/100\n",
      "50000/50000 [==============================] - 14s 280us/step - loss: 0.6150 - acc: 0.7798 - val_loss: 1.8453 - val_acc: 0.5163\n",
      "Epoch 53/100\n",
      "50000/50000 [==============================] - 14s 281us/step - loss: 0.6209 - acc: 0.7761 - val_loss: 1.8531 - val_acc: 0.5148\n",
      "Epoch 54/100\n",
      "50000/50000 [==============================] - 14s 281us/step - loss: 0.5980 - acc: 0.7839 - val_loss: 1.8607 - val_acc: 0.5192\n",
      "Epoch 55/100\n",
      "50000/50000 [==============================] - 14s 285us/step - loss: 0.5900 - acc: 0.7876 - val_loss: 1.9186 - val_acc: 0.5114\n",
      "Epoch 56/100\n",
      "50000/50000 [==============================] - 14s 283us/step - loss: 0.6011 - acc: 0.7836 - val_loss: 1.8875 - val_acc: 0.5212\n",
      "Epoch 57/100\n",
      "50000/50000 [==============================] - 14s 283us/step - loss: 0.5839 - acc: 0.7903 - val_loss: 1.8759 - val_acc: 0.5136\n",
      "Epoch 58/100\n",
      "50000/50000 [==============================] - 14s 280us/step - loss: 0.5519 - acc: 0.8024 - val_loss: 2.0008 - val_acc: 0.5169\n"
     ]
    },
    {
     "name": "stdout",
     "output_type": "stream",
     "text": [
      "Epoch 59/100\n",
      "50000/50000 [==============================] - 14s 276us/step - loss: 0.5378 - acc: 0.8076 - val_loss: 1.9698 - val_acc: 0.5189\n",
      "Epoch 60/100\n",
      "50000/50000 [==============================] - 14s 276us/step - loss: 0.5260 - acc: 0.8109 - val_loss: 1.9993 - val_acc: 0.5171\n",
      "Epoch 61/100\n",
      "50000/50000 [==============================] - 14s 275us/step - loss: 0.5234 - acc: 0.8132 - val_loss: 2.0963 - val_acc: 0.5144\n",
      "Epoch 62/100\n",
      "50000/50000 [==============================] - 14s 275us/step - loss: 0.5178 - acc: 0.8135 - val_loss: 2.0220 - val_acc: 0.5190\n",
      "Epoch 63/100\n",
      "50000/50000 [==============================] - 14s 277us/step - loss: 0.5072 - acc: 0.8174 - val_loss: 2.1757 - val_acc: 0.5068\n",
      "Epoch 64/100\n",
      "50000/50000 [==============================] - 14s 274us/step - loss: 0.5031 - acc: 0.8190 - val_loss: 2.0884 - val_acc: 0.5169\n",
      "Epoch 65/100\n",
      "50000/50000 [==============================] - 14s 275us/step - loss: 0.4985 - acc: 0.8217 - val_loss: 2.1486 - val_acc: 0.5120\n",
      "Epoch 66/100\n",
      "50000/50000 [==============================] - 14s 278us/step - loss: 0.4766 - acc: 0.8289 - val_loss: 2.1607 - val_acc: 0.5147\n",
      "Epoch 67/100\n",
      "50000/50000 [==============================] - 14s 275us/step - loss: 0.4645 - acc: 0.8335 - val_loss: 2.2125 - val_acc: 0.5183\n",
      "Epoch 68/100\n",
      "50000/50000 [==============================] - 14s 275us/step - loss: 0.4846 - acc: 0.8273 - val_loss: 2.1794 - val_acc: 0.5133\n",
      "Epoch 69/100\n",
      "50000/50000 [==============================] - 14s 276us/step - loss: 0.4547 - acc: 0.8381 - val_loss: 2.2208 - val_acc: 0.5065\n",
      "Epoch 70/100\n",
      "50000/50000 [==============================] - 14s 276us/step - loss: 0.4469 - acc: 0.8399 - val_loss: 2.2487 - val_acc: 0.5114\n",
      "Epoch 71/100\n",
      "50000/50000 [==============================] - 14s 275us/step - loss: 0.4417 - acc: 0.8411 - val_loss: 2.2724 - val_acc: 0.5053\n",
      "Epoch 72/100\n",
      "50000/50000 [==============================] - 14s 277us/step - loss: 0.4342 - acc: 0.8428 - val_loss: 2.2998 - val_acc: 0.5079\n",
      "Epoch 73/100\n",
      "50000/50000 [==============================] - 14s 276us/step - loss: 0.4223 - acc: 0.8498 - val_loss: 2.3164 - val_acc: 0.5160\n",
      "Epoch 74/100\n",
      "50000/50000 [==============================] - 14s 277us/step - loss: 0.4173 - acc: 0.8501 - val_loss: 2.4337 - val_acc: 0.4996\n",
      "Epoch 75/100\n",
      "50000/50000 [==============================] - 14s 279us/step - loss: 0.4223 - acc: 0.8470 - val_loss: 2.4044 - val_acc: 0.5047\n",
      "Epoch 76/100\n",
      "50000/50000 [==============================] - 14s 277us/step - loss: 0.4174 - acc: 0.8502 - val_loss: 2.4398 - val_acc: 0.5071\n",
      "Epoch 77/100\n",
      "50000/50000 [==============================] - 14s 277us/step - loss: 0.4104 - acc: 0.8531 - val_loss: 2.4449 - val_acc: 0.5095\n",
      "Epoch 78/100\n",
      "50000/50000 [==============================] - 14s 275us/step - loss: 0.3901 - acc: 0.8602 - val_loss: 2.4311 - val_acc: 0.5068\n",
      "Epoch 79/100\n",
      "50000/50000 [==============================] - 14s 275us/step - loss: 0.3893 - acc: 0.8593 - val_loss: 2.4782 - val_acc: 0.5118\n",
      "Epoch 80/100\n",
      "50000/50000 [==============================] - 14s 277us/step - loss: 0.3920 - acc: 0.8578 - val_loss: 2.4830 - val_acc: 0.5043\n",
      "Epoch 81/100\n",
      "50000/50000 [==============================] - 14s 278us/step - loss: 0.3724 - acc: 0.8663 - val_loss: 2.6029 - val_acc: 0.5006\n",
      "Epoch 82/100\n",
      "50000/50000 [==============================] - 15s 297us/step - loss: 0.3731 - acc: 0.8632 - val_loss: 2.6091 - val_acc: 0.5034\n",
      "Epoch 83/100\n",
      "50000/50000 [==============================] - 14s 281us/step - loss: 0.3668 - acc: 0.8680 - val_loss: 2.6945 - val_acc: 0.4990\n",
      "Epoch 84/100\n",
      "50000/50000 [==============================] - 14s 283us/step - loss: 0.3538 - acc: 0.8715 - val_loss: 2.6383 - val_acc: 0.5049\n",
      "Epoch 85/100\n",
      "50000/50000 [==============================] - 14s 285us/step - loss: 0.3637 - acc: 0.8691 - val_loss: 2.6833 - val_acc: 0.5023\n",
      "Epoch 86/100\n",
      "50000/50000 [==============================] - 14s 287us/step - loss: 0.3352 - acc: 0.8798 - val_loss: 2.7172 - val_acc: 0.5031\n",
      "Epoch 87/100\n",
      "50000/50000 [==============================] - 14s 287us/step - loss: 0.3491 - acc: 0.8741 - val_loss: 2.7265 - val_acc: 0.5096\n",
      "Epoch 88/100\n",
      "50000/50000 [==============================] - 15s 302us/step - loss: 0.3471 - acc: 0.8759 - val_loss: 2.8062 - val_acc: 0.4926\n",
      "Epoch 89/100\n",
      "50000/50000 [==============================] - 15s 295us/step - loss: 0.3343 - acc: 0.8795 - val_loss: 2.7270 - val_acc: 0.5017\n",
      "Epoch 90/100\n",
      "50000/50000 [==============================] - 14s 285us/step - loss: 0.3372 - acc: 0.8782 - val_loss: 2.7765 - val_acc: 0.5097\n",
      "Epoch 91/100\n",
      "50000/50000 [==============================] - 14s 286us/step - loss: 0.3309 - acc: 0.8793 - val_loss: 2.8607 - val_acc: 0.5080\n",
      "Epoch 92/100\n",
      "50000/50000 [==============================] - 14s 287us/step - loss: 0.3133 - acc: 0.8867 - val_loss: 2.8725 - val_acc: 0.4986\n",
      "Epoch 93/100\n",
      "50000/50000 [==============================] - 14s 287us/step - loss: 0.3099 - acc: 0.8875 - val_loss: 2.8995 - val_acc: 0.5086\n",
      "Epoch 94/100\n",
      "50000/50000 [==============================] - 15s 297us/step - loss: 0.3183 - acc: 0.8847 - val_loss: 2.9753 - val_acc: 0.5016\n",
      "Epoch 95/100\n",
      "50000/50000 [==============================] - 15s 290us/step - loss: 0.3099 - acc: 0.8875 - val_loss: 2.8780 - val_acc: 0.5069\n",
      "Epoch 96/100\n",
      "50000/50000 [==============================] - 14s 289us/step - loss: 0.3147 - acc: 0.8857 - val_loss: 2.9107 - val_acc: 0.5027\n",
      "Epoch 97/100\n",
      "50000/50000 [==============================] - 15s 292us/step - loss: 0.3372 - acc: 0.8780 - val_loss: 2.9929 - val_acc: 0.4970\n",
      "Epoch 98/100\n",
      "50000/50000 [==============================] - 14s 287us/step - loss: 0.2798 - acc: 0.8994 - val_loss: 3.0469 - val_acc: 0.4996\n",
      "Epoch 99/100\n",
      "50000/50000 [==============================] - 14s 289us/step - loss: 0.2910 - acc: 0.8955 - val_loss: 3.0591 - val_acc: 0.5001\n",
      "Epoch 100/100\n",
      "50000/50000 [==============================] - 14s 288us/step - loss: 0.3073 - acc: 0.8892 - val_loss: 3.0462 - val_acc: 0.4934\n"
     ]
    },
    {
     "data": {
      "text/plain": [
       "<keras.callbacks.History at 0x1f736f752b0>"
      ]
     },
     "execution_count": 16,
     "metadata": {},
     "output_type": "execute_result"
    }
   ],
   "source": [
    "model.fit(x_train, y_train, \n",
    "          epochs=EPOCHS, \n",
    "          batch_size=BATCH_SIZE, \n",
    "          validation_data=(x_test, y_test), \n",
    "          shuffle=True)"
   ]
  },
  {
   "cell_type": "code",
   "execution_count": 18,
   "metadata": {},
   "outputs": [
    {
     "data": {
      "image/png": "[encoded data removed]",
      "text/plain": [
       "<Figure size 432x288 with 1 Axes>"
      ]
     },
     "metadata": {
      "needs_background": "light"
     },
     "output_type": "display_data"
    },
    {
     "data": {
      "image/png": "[encoded data removed]",
      "text/plain": [
       "<Figure size 432x288 with 1 Axes>"
      ]
     },
     "metadata": {
      "needs_background": "light"
     },
     "output_type": "display_data"
    }
   ],
   "source": [
    "import matplotlib.pyplot as plt\n",
    "\n",
    "\n",
    "train_loss = model.history.history[\"loss\"]\n",
    "valid_loss = model.history.history[\"val_loss\"]\n",
    "\n",
    "train_acc = model.history.history[\"acc\"]\n",
    "valid_acc = model.history.history[\"val_acc\"]\n",
    "\n",
    "plt.plot(range(len(train_loss)), train_loss, label=\"train loss\")\n",
    "plt.plot(range(len(valid_loss)), valid_loss, label=\"valid loss\")\n",
    "plt.legend()\n",
    "plt.title(\"Loss\")\n",
    "plt.show()\n",
    "\n",
    "plt.plot(range(len(train_acc)), train_acc, label=\"train accuracy\")\n",
    "plt.plot(range(len(valid_acc)), valid_acc, label=\"valid accuracy\")\n",
    "plt.legend()\n",
    "plt.title(\"Accuracy\")\n",
    "plt.show()"
   ]
  }
 ],
 "metadata": {
  "kernelspec": {
   "display_name": "Python 3",
   "language": "python",
   "name": "python3"
  },
  "language_info": {
   "codemirror_mode": {
    "name": "ipython",
    "version": 3
   },
   "file_extension": ".py",
   "mimetype": "text/x-python",
   "name": "python",
   "nbconvert_exporter": "python",
   "pygments_lexer": "ipython3",
   "version": "3.7.3"
  }
 },
 "nbformat": 4,
 "nbformat_minor": 2
}
