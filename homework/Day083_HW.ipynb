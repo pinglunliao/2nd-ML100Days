{
 "cells": [
  {
   "cell_type": "markdown",
   "metadata": {},
   "source": [
    "## Work\n",
    "1. 試比較有 BN 在 Batch_size = 2, 16, 32, 128, 256 下的差異\n",
    "2. 請嘗試將 BN 放在 Activation 之前，並比較訓練結果\n",
    "3. 請於 BN 放在 Input Layer 後，並比較結果"
   ]
  },
  {
   "cell_type": "code",
   "execution_count": 2,
   "metadata": {},
   "outputs": [
    {
     "name": "stderr",
     "output_type": "stream",
     "text": [
      "Using TensorFlow backend.\n"
     ]
    }
   ],
   "source": [
    "import os\n",
    "import keras\n",
    "import itertools\n",
    "# Disable GPU\n",
    "os.environ[\"CUDA_VISIBLE_DEVICES\"] = \"\""
   ]
  },
  {
   "cell_type": "code",
   "execution_count": 3,
   "metadata": {},
   "outputs": [],
   "source": [
    "train, test = keras.datasets.cifar10.load_data()"
   ]
  },
  {
   "cell_type": "code",
   "execution_count": 4,
   "metadata": {},
   "outputs": [],
   "source": [
    "## 資料前處理\n",
    "def preproc_x(x, flatten=True):\n",
    "    x = x / 255.\n",
    "    if flatten:\n",
    "        x = x.reshape((len(x), -1))\n",
    "    return x\n",
    "\n",
    "def preproc_y(y, num_classes=10):\n",
    "    if y.shape[-1] == 1:\n",
    "        y = keras.utils.to_categorical(y, num_classes)\n",
    "    return y    "
   ]
  },
  {
   "cell_type": "code",
   "execution_count": 5,
   "metadata": {},
   "outputs": [],
   "source": [
    "x_train, y_train = train\n",
    "x_test, y_test = test\n",
    "\n",
    "# Preproc the inputs\n",
    "x_train = preproc_x(x_train)\n",
    "x_test = preproc_x(x_test)\n",
    "\n",
    "# Preprc the outputs\n",
    "y_train = preproc_y(y_train)\n",
    "y_test = preproc_y(y_test)"
   ]
  },
  {
   "cell_type": "code",
   "execution_count": 14,
   "metadata": {},
   "outputs": [],
   "source": [
    "from keras.layers import BatchNormalization\n",
    "\n",
    "\"\"\"\n",
    "建立神經網路，並加入 BN layer\n",
    "\"\"\"\n",
    "def build_mlp(input_shape, output_units=10, num_neurons=[512, 256, 128]):\n",
    "    input_layer = keras.layers.Input(input_shape)\n",
    "    \n",
    "    for i, n_units in enumerate(num_neurons):\n",
    "        if i == 0:\n",
    "            x = keras.layers.Dense(units=n_units, \n",
    "                                   activation=\"relu\", \n",
    "                                   name=\"hidden_layer\"+str(i+1))(input_layer)\n",
    "            x = BatchNormalization()(x)\n",
    "        else:\n",
    "            x = keras.layers.Dense(units=n_units, \n",
    "                                   activation=\"relu\", \n",
    "                                   name=\"hidden_layer\"+str(i+1))(x)\n",
    "            x = BatchNormalization()(x)\n",
    "    \n",
    "    out = keras.layers.Dense(units=output_units, activation=\"softmax\", name=\"output\")(x)\n",
    "    \n",
    "    model = keras.models.Model(inputs=[input_layer], outputs=[out])\n",
    "    return model"
   ]
  },
  {
   "cell_type": "code",
   "execution_count": 15,
   "metadata": {},
   "outputs": [],
   "source": [
    "\"\"\"\n",
    "試比較有 BN 在 Batch_size = 2, 16, 32, 128, 256 下的差異\n",
    "請嘗試將 BN 放在 Activation 之前，並比較訓練結果\n",
    "請於 BN 放在 Input Layer 後，並比較結果\n",
    "\"\"\"\n",
    "\"\"\"Code Here\n",
    "設定超參數\n",
    "\"\"\"\n",
    "## 超參數設定\n",
    "LEARNING_RATE = 1e-3\n",
    "EPOCHS = 50\n",
    "BATCH_SIZE = 1024\n",
    "MOMENTUM = 0.95"
   ]
  },
  {
   "cell_type": "code",
   "execution_count": 16,
   "metadata": {
    "scrolled": true
   },
   "outputs": [
    {
     "name": "stdout",
     "output_type": "stream",
     "text": [
      "_________________________________________________________________\n",
      "Layer (type)                 Output Shape              Param #   \n",
      "=================================================================\n",
      "input_3 (InputLayer)         (None, 3072)              0         \n",
      "_________________________________________________________________\n",
      "hidden_layer1 (Dense)        (None, 512)               1573376   \n",
      "_________________________________________________________________\n",
      "batch_normalization_5 (Batch (None, 512)               2048      \n",
      "_________________________________________________________________\n",
      "hidden_layer2 (Dense)        (None, 256)               131328    \n",
      "_________________________________________________________________\n",
      "batch_normalization_6 (Batch (None, 256)               1024      \n",
      "_________________________________________________________________\n",
      "hidden_layer3 (Dense)        (None, 128)               32896     \n",
      "_________________________________________________________________\n",
      "batch_normalization_7 (Batch (None, 128)               512       \n",
      "_________________________________________________________________\n",
      "output (Dense)               (None, 10)                1290      \n",
      "=================================================================\n",
      "Total params: 1,742,474\n",
      "Trainable params: 1,740,682\n",
      "Non-trainable params: 1,792\n",
      "_________________________________________________________________\n",
      "Train on 50000 samples, validate on 10000 samples\n",
      "Epoch 1/50\n",
      "50000/50000 [==============================] - 9s 173us/step - loss: 2.2259 - acc: 0.2664 - val_loss: 2.0629 - val_acc: 0.3118\n",
      "Epoch 2/50\n",
      "50000/50000 [==============================] - 8s 151us/step - loss: 1.7467 - acc: 0.3872 - val_loss: 1.7954 - val_acc: 0.3810\n",
      "Epoch 3/50\n",
      "50000/50000 [==============================] - 7s 142us/step - loss: 1.6215 - acc: 0.4302 - val_loss: 1.6974 - val_acc: 0.4098\n",
      "Epoch 4/50\n",
      "50000/50000 [==============================] - 9s 178us/step - loss: 1.5495 - acc: 0.4575 - val_loss: 1.6499 - val_acc: 0.4228\n",
      "Epoch 5/50\n",
      "50000/50000 [==============================] - 9s 177us/step - loss: 1.4940 - acc: 0.4763 - val_loss: 1.6221 - val_acc: 0.4289\n",
      "Epoch 6/50\n",
      "50000/50000 [==============================] - 9s 177us/step - loss: 1.4496 - acc: 0.4917 - val_loss: 1.5715 - val_acc: 0.4420\n",
      "Epoch 7/50\n",
      "50000/50000 [==============================] - 9s 177us/step - loss: 1.4089 - acc: 0.5073 - val_loss: 1.5421 - val_acc: 0.4517\n",
      "Epoch 8/50\n",
      "50000/50000 [==============================] - 9s 177us/step - loss: 1.3756 - acc: 0.5196 - val_loss: 1.5371 - val_acc: 0.4586\n",
      "Epoch 9/50\n",
      "50000/50000 [==============================] - 10s 196us/step - loss: 1.3432 - acc: 0.5306 - val_loss: 1.5179 - val_acc: 0.4575\n",
      "Epoch 10/50\n",
      "50000/50000 [==============================] - 9s 179us/step - loss: 1.3148 - acc: 0.5423 - val_loss: 1.5069 - val_acc: 0.4648\n",
      "Epoch 11/50\n",
      "50000/50000 [==============================] - 9s 175us/step - loss: 1.2852 - acc: 0.5518 - val_loss: 1.5016 - val_acc: 0.4709\n",
      "Epoch 12/50\n",
      "50000/50000 [==============================] - 9s 177us/step - loss: 1.2585 - acc: 0.5623 - val_loss: 1.4777 - val_acc: 0.4745\n",
      "Epoch 13/50\n",
      "50000/50000 [==============================] - 9s 177us/step - loss: 1.2311 - acc: 0.5720 - val_loss: 1.4967 - val_acc: 0.4739\n",
      "Epoch 14/50\n",
      "50000/50000 [==============================] - 9s 177us/step - loss: 1.2070 - acc: 0.5827 - val_loss: 1.4733 - val_acc: 0.4807\n",
      "Epoch 15/50\n",
      "50000/50000 [==============================] - 9s 175us/step - loss: 1.1840 - acc: 0.5895 - val_loss: 1.4597 - val_acc: 0.4870\n",
      "Epoch 16/50\n",
      "50000/50000 [==============================] - 9s 176us/step - loss: 1.1582 - acc: 0.6012 - val_loss: 1.4656 - val_acc: 0.4831\n",
      "Epoch 17/50\n",
      "50000/50000 [==============================] - 9s 181us/step - loss: 1.1369 - acc: 0.6087 - val_loss: 1.4677 - val_acc: 0.4844\n",
      "Epoch 18/50\n",
      "50000/50000 [==============================] - 9s 176us/step - loss: 1.1144 - acc: 0.6177 - val_loss: 1.4583 - val_acc: 0.4902\n",
      "Epoch 19/50\n",
      "50000/50000 [==============================] - 9s 176us/step - loss: 1.0932 - acc: 0.6249 - val_loss: 1.4558 - val_acc: 0.4895\n",
      "Epoch 20/50\n",
      "50000/50000 [==============================] - 9s 176us/step - loss: 1.0694 - acc: 0.6334 - val_loss: 1.4589 - val_acc: 0.4846\n",
      "Epoch 21/50\n",
      "50000/50000 [==============================] - 9s 176us/step - loss: 1.0473 - acc: 0.6431 - val_loss: 1.4593 - val_acc: 0.4925\n",
      "Epoch 22/50\n",
      "50000/50000 [==============================] - 10s 199us/step - loss: 1.0282 - acc: 0.6505 - val_loss: 1.4730 - val_acc: 0.4873\n",
      "Epoch 23/50\n",
      "50000/50000 [==============================] - 9s 185us/step - loss: 1.0077 - acc: 0.6580 - val_loss: 1.4528 - val_acc: 0.4959\n",
      "Epoch 24/50\n",
      "50000/50000 [==============================] - 9s 177us/step - loss: 0.9867 - acc: 0.6655 - val_loss: 1.4550 - val_acc: 0.4950\n",
      "Epoch 25/50\n",
      "50000/50000 [==============================] - 9s 181us/step - loss: 0.9670 - acc: 0.6735 - val_loss: 1.4543 - val_acc: 0.4942\n",
      "Epoch 26/50\n",
      "50000/50000 [==============================] - 9s 185us/step - loss: 0.9457 - acc: 0.6812 - val_loss: 1.4596 - val_acc: 0.4970\n",
      "Epoch 27/50\n",
      "50000/50000 [==============================] - 9s 184us/step - loss: 0.9244 - acc: 0.6918 - val_loss: 1.4627 - val_acc: 0.5033\n",
      "Epoch 28/50\n",
      "50000/50000 [==============================] - 9s 182us/step - loss: 0.9057 - acc: 0.6972 - val_loss: 1.4770 - val_acc: 0.4932\n",
      "Epoch 29/50\n",
      "50000/50000 [==============================] - 9s 185us/step - loss: 0.8848 - acc: 0.7059 - val_loss: 1.4622 - val_acc: 0.4977\n",
      "Epoch 30/50\n",
      "50000/50000 [==============================] - 9s 185us/step - loss: 0.8660 - acc: 0.7142 - val_loss: 1.4759 - val_acc: 0.4938\n",
      "Epoch 31/50\n",
      "50000/50000 [==============================] - 9s 184us/step - loss: 0.8451 - acc: 0.7215 - val_loss: 1.4770 - val_acc: 0.4993\n",
      "Epoch 32/50\n",
      "50000/50000 [==============================] - 9s 182us/step - loss: 0.8279 - acc: 0.7287 - val_loss: 1.4841 - val_acc: 0.4993\n",
      "Epoch 33/50\n",
      "50000/50000 [==============================] - 9s 185us/step - loss: 0.8088 - acc: 0.7362 - val_loss: 1.4903 - val_acc: 0.4984\n",
      "Epoch 34/50\n",
      "50000/50000 [==============================] - 9s 185us/step - loss: 0.7884 - acc: 0.7441 - val_loss: 1.4908 - val_acc: 0.4990\n",
      "Epoch 35/50\n",
      "50000/50000 [==============================] - 9s 190us/step - loss: 0.7678 - acc: 0.7518 - val_loss: 1.5098 - val_acc: 0.4997\n",
      "Epoch 36/50\n",
      "50000/50000 [==============================] - 9s 187us/step - loss: 0.7509 - acc: 0.7595 - val_loss: 1.5178 - val_acc: 0.4966\n",
      "Epoch 37/50\n",
      "50000/50000 [==============================] - 9s 186us/step - loss: 0.7306 - acc: 0.7668 - val_loss: 1.5065 - val_acc: 0.5030\n",
      "Epoch 38/50\n",
      "50000/50000 [==============================] - 9s 189us/step - loss: 0.7136 - acc: 0.7742 - val_loss: 1.5169 - val_acc: 0.5001\n",
      "Epoch 39/50\n",
      "50000/50000 [==============================] - 9s 185us/step - loss: 0.6942 - acc: 0.7799 - val_loss: 1.5264 - val_acc: 0.4981\n",
      "Epoch 40/50\n",
      "50000/50000 [==============================] - 9s 186us/step - loss: 0.6752 - acc: 0.7886 - val_loss: 1.5411 - val_acc: 0.4916\n",
      "Epoch 41/50\n",
      "50000/50000 [==============================] - 9s 187us/step - loss: 0.6575 - acc: 0.7964 - val_loss: 1.5727 - val_acc: 0.4932\n",
      "Epoch 42/50\n",
      "50000/50000 [==============================] - 9s 185us/step - loss: 0.6398 - acc: 0.8030 - val_loss: 1.5765 - val_acc: 0.4931\n",
      "Epoch 43/50\n",
      "50000/50000 [==============================] - 9s 186us/step - loss: 0.6221 - acc: 0.8110 - val_loss: 1.5725 - val_acc: 0.4932\n",
      "Epoch 44/50\n",
      "50000/50000 [==============================] - 9s 188us/step - loss: 0.6031 - acc: 0.8176 - val_loss: 1.6002 - val_acc: 0.4995\n",
      "Epoch 45/50\n",
      "50000/50000 [==============================] - 9s 187us/step - loss: 0.5873 - acc: 0.8243 - val_loss: 1.5956 - val_acc: 0.4905\n",
      "Epoch 46/50\n",
      "50000/50000 [==============================] - 9s 188us/step - loss: 0.5699 - acc: 0.8312 - val_loss: 1.6130 - val_acc: 0.4928\n",
      "Epoch 47/50\n",
      "50000/50000 [==============================] - 9s 188us/step - loss: 0.5530 - acc: 0.8379 - val_loss: 1.6139 - val_acc: 0.4977\n",
      "Epoch 48/50\n",
      "50000/50000 [==============================] - 10s 193us/step - loss: 0.5359 - acc: 0.8434 - val_loss: 1.6430 - val_acc: 0.4922\n",
      "Epoch 49/50\n"
     ]
    },
    {
     "name": "stdout",
     "output_type": "stream",
     "text": [
      "50000/50000 [==============================] - 9s 185us/step - loss: 0.5189 - acc: 0.8524 - val_loss: 1.6496 - val_acc: 0.4949\n",
      "Epoch 50/50\n",
      "50000/50000 [==============================] - 9s 185us/step - loss: 0.5041 - acc: 0.8576 - val_loss: 1.6631 - val_acc: 0.4922\n"
     ]
    }
   ],
   "source": [
    "model = build_mlp(input_shape=x_train.shape[1:])\n",
    "model.summary()\n",
    "optimizer = keras.optimizers.SGD(lr=LEARNING_RATE, nesterov=True, momentum=MOMENTUM)\n",
    "model.compile(loss=\"categorical_crossentropy\", metrics=[\"accuracy\"], optimizer=optimizer)\n",
    "\n",
    "model.fit(x_train, y_train, \n",
    "          epochs=EPOCHS, \n",
    "          batch_size=BATCH_SIZE, \n",
    "          validation_data=(x_test, y_test), \n",
    "          shuffle=True)\n",
    "\n",
    "# Collect results\n",
    "train_loss = model.history.history[\"loss\"]\n",
    "valid_loss = model.history.history[\"val_loss\"]\n",
    "train_acc = model.history.history[\"acc\"]\n",
    "valid_acc = model.history.history[\"val_acc\"]"
   ]
  },
  {
   "cell_type": "code",
   "execution_count": 17,
   "metadata": {},
   "outputs": [
    {
     "data": {
      "image/png": "[encoded data removed]",
      "text/plain": [
       "<Figure size 432x288 with 1 Axes>"
      ]
     },
     "metadata": {
      "needs_background": "light"
     },
     "output_type": "display_data"
    },
    {
     "data": {
      "image/png": "[encoded data removed]",
      "text/plain": [
       "<Figure size 432x288 with 1 Axes>"
      ]
     },
     "metadata": {
      "needs_background": "light"
     },
     "output_type": "display_data"
    }
   ],
   "source": [
    "import matplotlib.pyplot as plt\n",
    "%matplotlib inline\n",
    "\n",
    "plt.plot(range(len(train_loss)), train_loss, label=\"train loss\")\n",
    "plt.plot(range(len(valid_loss)), valid_loss, label=\"valid loss\")\n",
    "plt.legend()\n",
    "plt.title(\"Loss\")\n",
    "plt.show()\n",
    "\n",
    "plt.plot(range(len(train_acc)), train_acc, label=\"train accuracy\")\n",
    "plt.plot(range(len(valid_acc)), valid_acc, label=\"valid accuracy\")\n",
    "plt.legend()\n",
    "plt.title(\"Accuracy\")\n",
    "plt.show()"
   ]
  }
 ],
 "metadata": {
  "kernelspec": {
   "display_name": "Python 3",
   "language": "python",
   "name": "python3"
  },
  "language_info": {
   "codemirror_mode": {
    "name": "ipython",
    "version": 3
   },
   "file_extension": ".py",
   "mimetype": "text/x-python",
   "name": "python",
   "nbconvert_exporter": "python",
   "pygments_lexer": "ipython3",
   "version": "3.7.3"
  }
 },
 "nbformat": 4,
 "nbformat_minor": 2
}
