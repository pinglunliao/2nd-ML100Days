{
 "cells": [
  {
   "cell_type": "markdown",
   "metadata": {},
   "source": [
    "## Work\n",
    "1. 試比較 save_best_only 與否的差異\n",
    "2. 請僅存入將 save_weights_only 設定為 True, 並嘗試 reset ipynb 並將模型與權重重新建回並預測 x_test"
   ]
  },
  {
   "cell_type": "code",
   "execution_count": 9,
   "metadata": {},
   "outputs": [],
   "source": [
    "import os\n",
    "import keras\n",
    "\n",
    "# Disable GPU\n",
    "os.environ[\"CUDA_VISIBLE_DEVICES\"] = \"\""
   ]
  },
  {
   "cell_type": "code",
   "execution_count": 10,
   "metadata": {},
   "outputs": [],
   "source": [
    "train, test = keras.datasets.cifar10.load_data()"
   ]
  },
  {
   "cell_type": "code",
   "execution_count": 11,
   "metadata": {},
   "outputs": [],
   "source": [
    "## 資料前處理\n",
    "def preproc_x(x, flatten=True):\n",
    "    x = x / 255.\n",
    "    if flatten:\n",
    "        x = x.reshape((len(x), -1))\n",
    "    return x\n",
    "\n",
    "def preproc_y(y, num_classes=10):\n",
    "    if y.shape[-1] == 1:\n",
    "        y = keras.utils.to_categorical(y, num_classes)\n",
    "    return y    "
   ]
  },
  {
   "cell_type": "code",
   "execution_count": 12,
   "metadata": {},
   "outputs": [],
   "source": [
    "x_train, y_train = train\n",
    "x_test, y_test = test\n",
    "\n",
    "# Preproc the inputs\n",
    "x_train = preproc_x(x_train)\n",
    "x_test = preproc_x(x_test)\n",
    "\n",
    "# Preprc the outputs\n",
    "y_train = preproc_y(y_train)\n",
    "y_test = preproc_y(y_test)"
   ]
  },
  {
   "cell_type": "code",
   "execution_count": 13,
   "metadata": {},
   "outputs": [],
   "source": [
    "from keras.layers import BatchNormalization\n",
    "\n",
    "\"\"\"\n",
    "建立神經網路，並加入 BN layer\n",
    "\"\"\"\n",
    "def build_mlp(input_shape, output_units=10, num_neurons=[512, 256, 128]):\n",
    "    input_layer = keras.layers.Input(input_shape)\n",
    "    \n",
    "    for i, n_units in enumerate(num_neurons):\n",
    "        if i == 0:\n",
    "            x = keras.layers.Dense(units=n_units, \n",
    "                                   activation=\"relu\", \n",
    "                                   name=\"hidden_layer\"+str(i+1))(input_layer)\n",
    "            x = BatchNormalization()(x)\n",
    "        else:\n",
    "            x = keras.layers.Dense(units=n_units, \n",
    "                                   activation=\"relu\", \n",
    "                                   name=\"hidden_layer\"+str(i+1))(x)\n",
    "            x = BatchNormalization()(x)\n",
    "    \n",
    "    out = keras.layers.Dense(units=output_units, activation=\"softmax\", name=\"output\")(x)\n",
    "    \n",
    "    model = keras.models.Model(inputs=[input_layer], outputs=[out])\n",
    "    return model"
   ]
  },
  {
   "cell_type": "code",
   "execution_count": 14,
   "metadata": {},
   "outputs": [],
   "source": [
    "## 超參數設定\n",
    "LEARNING_RATE = 1e-3\n",
    "EPOCHS = 50\n",
    "BATCH_SIZE = 1024\n",
    "MOMENTUM = 0.95"
   ]
  },
  {
   "cell_type": "code",
   "execution_count": 15,
   "metadata": {},
   "outputs": [
    {
     "name": "stdout",
     "output_type": "stream",
     "text": [
      "_________________________________________________________________\n",
      "Layer (type)                 Output Shape              Param #   \n",
      "=================================================================\n",
      "input_2 (InputLayer)         (None, 3072)              0         \n",
      "_________________________________________________________________\n",
      "hidden_layer1 (Dense)        (None, 512)               1573376   \n",
      "_________________________________________________________________\n",
      "batch_normalization_4 (Batch (None, 512)               2048      \n",
      "_________________________________________________________________\n",
      "hidden_layer2 (Dense)        (None, 256)               131328    \n",
      "_________________________________________________________________\n",
      "batch_normalization_5 (Batch (None, 256)               1024      \n",
      "_________________________________________________________________\n",
      "hidden_layer3 (Dense)        (None, 128)               32896     \n",
      "_________________________________________________________________\n",
      "batch_normalization_6 (Batch (None, 128)               512       \n",
      "_________________________________________________________________\n",
      "output (Dense)               (None, 10)                1290      \n",
      "=================================================================\n",
      "Total params: 1,742,474\n",
      "Trainable params: 1,740,682\n",
      "Non-trainable params: 1,792\n",
      "_________________________________________________________________\n",
      "Train on 50000 samples, validate on 10000 samples\n",
      "Epoch 1/50\n",
      "50000/50000 [==============================] - 8s 155us/step - loss: 2.2165 - acc: 0.2670 - val_loss: 2.1311 - val_acc: 0.3130\n",
      "Epoch 2/50\n",
      "50000/50000 [==============================] - 7s 139us/step - loss: 1.7474 - acc: 0.3909 - val_loss: 1.8864 - val_acc: 0.3669\n",
      "Epoch 3/50\n",
      "50000/50000 [==============================] - 7s 146us/step - loss: 1.6189 - acc: 0.4344 - val_loss: 1.7010 - val_acc: 0.4083\n",
      "Epoch 4/50\n",
      "50000/50000 [==============================] - 11s 212us/step - loss: 1.5401 - acc: 0.4601 - val_loss: 1.6343 - val_acc: 0.4252\n",
      "Epoch 5/50\n",
      "50000/50000 [==============================] - 10s 191us/step - loss: 1.4840 - acc: 0.4788 - val_loss: 1.6078 - val_acc: 0.4388\n",
      "Epoch 6/50\n",
      "50000/50000 [==============================] - 8s 168us/step - loss: 1.4398 - acc: 0.4981 - val_loss: 1.5677 - val_acc: 0.4484\n",
      "Epoch 7/50\n",
      "50000/50000 [==============================] - 9s 183us/step - loss: 1.3998 - acc: 0.5112 - val_loss: 1.5434 - val_acc: 0.4571\n",
      "Epoch 8/50\n",
      "50000/50000 [==============================] - 9s 187us/step - loss: 1.3640 - acc: 0.5236 - val_loss: 1.5243 - val_acc: 0.4593\n",
      "Epoch 9/50\n",
      "50000/50000 [==============================] - 9s 175us/step - loss: 1.3305 - acc: 0.5358 - val_loss: 1.5114 - val_acc: 0.4650\n",
      "Epoch 10/50\n",
      "50000/50000 [==============================] - 10s 194us/step - loss: 1.3009 - acc: 0.5482 - val_loss: 1.5009 - val_acc: 0.4688\n",
      "Epoch 11/50\n",
      "50000/50000 [==============================] - 10s 206us/step - loss: 1.2728 - acc: 0.5573 - val_loss: 1.5014 - val_acc: 0.4724\n",
      "Epoch 12/50\n",
      "50000/50000 [==============================] - 9s 188us/step - loss: 1.2464 - acc: 0.5674 - val_loss: 1.4859 - val_acc: 0.4809\n",
      "Epoch 13/50\n",
      "50000/50000 [==============================] - 9s 175us/step - loss: 1.2187 - acc: 0.5795 - val_loss: 1.4861 - val_acc: 0.4805\n",
      "Epoch 14/50\n",
      "50000/50000 [==============================] - 10s 207us/step - loss: 1.1951 - acc: 0.5877 - val_loss: 1.4745 - val_acc: 0.4816\n",
      "Epoch 15/50\n",
      "50000/50000 [==============================] - 9s 189us/step - loss: 1.1723 - acc: 0.5973 - val_loss: 1.4717 - val_acc: 0.4852\n",
      "Epoch 16/50\n",
      "50000/50000 [==============================] - 10s 201us/step - loss: 1.1475 - acc: 0.6047 - val_loss: 1.4736 - val_acc: 0.4828\n",
      "Epoch 17/50\n",
      "50000/50000 [==============================] - 9s 174us/step - loss: 1.1252 - acc: 0.6125 - val_loss: 1.4850 - val_acc: 0.4817\n",
      "Epoch 18/50\n",
      "50000/50000 [==============================] - 9s 176us/step - loss: 1.1023 - acc: 0.6220 - val_loss: 1.4708 - val_acc: 0.4919\n",
      "Epoch 19/50\n",
      "50000/50000 [==============================] - 9s 185us/step - loss: 1.0815 - acc: 0.6303 - val_loss: 1.4954 - val_acc: 0.4860\n",
      "Epoch 20/50\n",
      "50000/50000 [==============================] - 13s 251us/step - loss: 1.0580 - acc: 0.6399 - val_loss: 1.4718 - val_acc: 0.4893\n",
      "Epoch 21/50\n",
      "50000/50000 [==============================] - 9s 179us/step - loss: 1.0357 - acc: 0.6485 - val_loss: 1.4691 - val_acc: 0.4932\n",
      "Epoch 22/50\n",
      "50000/50000 [==============================] - 9s 174us/step - loss: 1.0158 - acc: 0.6551 - val_loss: 1.4733 - val_acc: 0.4884\n",
      "Epoch 23/50\n",
      "50000/50000 [==============================] - 9s 189us/step - loss: 0.9947 - acc: 0.6643 - val_loss: 1.4751 - val_acc: 0.4942\n",
      "Epoch 24/50\n",
      "50000/50000 [==============================] - 9s 179us/step - loss: 0.9745 - acc: 0.6717 - val_loss: 1.4678 - val_acc: 0.4922\n",
      "Epoch 25/50\n",
      "50000/50000 [==============================] - 9s 172us/step - loss: 0.9540 - acc: 0.6802 - val_loss: 1.4781 - val_acc: 0.4908\n",
      "Epoch 26/50\n",
      "50000/50000 [==============================] - 9s 182us/step - loss: 0.9333 - acc: 0.6864 - val_loss: 1.4692 - val_acc: 0.4951\n",
      "Epoch 27/50\n",
      "50000/50000 [==============================] - 9s 180us/step - loss: 0.9120 - acc: 0.6948 - val_loss: 1.4948 - val_acc: 0.4859\n",
      "Epoch 28/50\n",
      "50000/50000 [==============================] - 10s 197us/step - loss: 0.8933 - acc: 0.7032 - val_loss: 1.4896 - val_acc: 0.4902\n",
      "Epoch 29/50\n",
      "50000/50000 [==============================] - 10s 194us/step - loss: 0.8723 - acc: 0.7110 - val_loss: 1.4920 - val_acc: 0.4928\n",
      "Epoch 30/50\n",
      "50000/50000 [==============================] - 10s 191us/step - loss: 0.8523 - acc: 0.7184 - val_loss: 1.5016 - val_acc: 0.4899\n",
      "Epoch 31/50\n",
      "50000/50000 [==============================] - 11s 215us/step - loss: 0.8332 - acc: 0.7256 - val_loss: 1.5154 - val_acc: 0.4906: 0.8300 - acc\n",
      "Epoch 32/50\n",
      "50000/50000 [==============================] - 10s 207us/step - loss: 0.8169 - acc: 0.7328 - val_loss: 1.5185 - val_acc: 0.4848\n",
      "Epoch 33/50\n",
      "50000/50000 [==============================] - 9s 183us/step - loss: 0.7924 - acc: 0.7434 - val_loss: 1.5260 - val_acc: 0.4892\n",
      "Epoch 34/50\n",
      "50000/50000 [==============================] - 10s 199us/step - loss: 0.7733 - acc: 0.7495 - val_loss: 1.5347 - val_acc: 0.4883\n",
      "Epoch 35/50\n",
      "50000/50000 [==============================] - 10s 198us/step - loss: 0.7559 - acc: 0.7577 - val_loss: 1.5392 - val_acc: 0.4913\n",
      "Epoch 36/50\n",
      "50000/50000 [==============================] - 9s 180us/step - loss: 0.7371 - acc: 0.7646 - val_loss: 1.5477 - val_acc: 0.4926\n",
      "Epoch 37/50\n",
      "50000/50000 [==============================] - 10s 192us/step - loss: 0.7198 - acc: 0.7722 - val_loss: 1.5530 - val_acc: 0.4902\n",
      "Epoch 38/50\n",
      "50000/50000 [==============================] - 8s 166us/step - loss: 0.6992 - acc: 0.7814 - val_loss: 1.5674 - val_acc: 0.4930\n",
      "Epoch 39/50\n",
      "50000/50000 [==============================] - 9s 178us/step - loss: 0.6806 - acc: 0.7862 - val_loss: 1.5629 - val_acc: 0.4889\n",
      "Epoch 40/50\n",
      "50000/50000 [==============================] - 11s 225us/step - loss: 0.6610 - acc: 0.7943 - val_loss: 1.5772 - val_acc: 0.4906\n",
      "Epoch 41/50\n",
      "50000/50000 [==============================] - 9s 176us/step - loss: 0.6464 - acc: 0.7995 - val_loss: 1.6065 - val_acc: 0.4786\n",
      "Epoch 42/50\n",
      "50000/50000 [==============================] - 9s 180us/step - loss: 0.6266 - acc: 0.8099 - val_loss: 1.6026 - val_acc: 0.4905\n",
      "Epoch 43/50\n",
      "50000/50000 [==============================] - 11s 227us/step - loss: 0.6097 - acc: 0.8154 - val_loss: 1.6050 - val_acc: 0.4884\n",
      "Epoch 44/50\n",
      "50000/50000 [==============================] - 11s 211us/step - loss: 0.5916 - acc: 0.8222 - val_loss: 1.6546 - val_acc: 0.4790\n",
      "Epoch 45/50\n",
      "50000/50000 [==============================] - 9s 188us/step - loss: 0.5746 - acc: 0.8290 - val_loss: 1.6530 - val_acc: 0.4866\n",
      "Epoch 46/50\n",
      "50000/50000 [==============================] - 9s 188us/step - loss: 0.5570 - acc: 0.8357 - val_loss: 1.6567 - val_acc: 0.4847\n",
      "Epoch 47/50\n",
      "50000/50000 [==============================] - 10s 196us/step - loss: 0.5405 - acc: 0.8429 - val_loss: 1.6544 - val_acc: 0.4890\n",
      "Epoch 48/50\n",
      "50000/50000 [==============================] - 10s 200us/step - loss: 0.5228 - acc: 0.8502 - val_loss: 1.6896 - val_acc: 0.4793\n",
      "Epoch 49/50\n"
     ]
    },
    {
     "name": "stdout",
     "output_type": "stream",
     "text": [
      "50000/50000 [==============================] - 11s 222us/step - loss: 0.5066 - acc: 0.8555 - val_loss: 1.7029 - val_acc: 0.4809\n",
      "Epoch 50/50\n",
      "50000/50000 [==============================] - 9s 187us/step - loss: 0.4913 - acc: 0.8641 - val_loss: 1.7165 - val_acc: 0.4805\n"
     ]
    },
    {
     "ename": "ValueError",
     "evalue": "Cannot create group in read only mode.",
     "output_type": "error",
     "traceback": [
      "\u001b[1;31m---------------------------------------------------------------------------\u001b[0m",
      "\u001b[1;31mValueError\u001b[0m                                Traceback (most recent call last)",
      "\u001b[1;32m<ipython-input-15-763e85b40305>\u001b[0m in \u001b[0;36m<module>\u001b[1;34m\u001b[0m\n\u001b[0;32m     29\u001b[0m \u001b[1;33m\u001b[0m\u001b[0m\n\u001b[0;32m     30\u001b[0m \u001b[1;31m# Load back\u001b[0m\u001b[1;33m\u001b[0m\u001b[1;33m\u001b[0m\u001b[1;33m\u001b[0m\u001b[0m\n\u001b[1;32m---> 31\u001b[1;33m \u001b[0mmodel\u001b[0m \u001b[1;33m=\u001b[0m \u001b[0mkeras\u001b[0m\u001b[1;33m.\u001b[0m\u001b[0mmodels\u001b[0m\u001b[1;33m.\u001b[0m\u001b[0mload_model\u001b[0m\u001b[1;33m(\u001b[0m\u001b[1;34m\"./tmp.h5\"\u001b[0m\u001b[1;33m)\u001b[0m\u001b[1;33m\u001b[0m\u001b[1;33m\u001b[0m\u001b[0m\n\u001b[0m\u001b[0;32m     32\u001b[0m \u001b[0mloss_loadback\u001b[0m\u001b[1;33m,\u001b[0m \u001b[0macc_loadback\u001b[0m \u001b[1;33m=\u001b[0m \u001b[0mmodel\u001b[0m\u001b[1;33m.\u001b[0m\u001b[0mevaluate\u001b[0m\u001b[1;33m(\u001b[0m\u001b[0mx_test\u001b[0m\u001b[1;33m,\u001b[0m \u001b[0my_test\u001b[0m\u001b[1;33m)\u001b[0m\u001b[1;33m\u001b[0m\u001b[1;33m\u001b[0m\u001b[0m\n",
      "\u001b[1;32mC:\\ProgramData\\Anaconda3\\lib\\site-packages\\keras\\engine\\saving.py\u001b[0m in \u001b[0;36mload_model\u001b[1;34m(filepath, custom_objects, compile)\u001b[0m\n\u001b[0;32m    417\u001b[0m     \u001b[0mf\u001b[0m \u001b[1;33m=\u001b[0m \u001b[0mh5dict\u001b[0m\u001b[1;33m(\u001b[0m\u001b[0mfilepath\u001b[0m\u001b[1;33m,\u001b[0m \u001b[1;34m'r'\u001b[0m\u001b[1;33m)\u001b[0m\u001b[1;33m\u001b[0m\u001b[1;33m\u001b[0m\u001b[0m\n\u001b[0;32m    418\u001b[0m     \u001b[1;32mtry\u001b[0m\u001b[1;33m:\u001b[0m\u001b[1;33m\u001b[0m\u001b[1;33m\u001b[0m\u001b[0m\n\u001b[1;32m--> 419\u001b[1;33m         \u001b[0mmodel\u001b[0m \u001b[1;33m=\u001b[0m \u001b[0m_deserialize_model\u001b[0m\u001b[1;33m(\u001b[0m\u001b[0mf\u001b[0m\u001b[1;33m,\u001b[0m \u001b[0mcustom_objects\u001b[0m\u001b[1;33m,\u001b[0m \u001b[0mcompile\u001b[0m\u001b[1;33m)\u001b[0m\u001b[1;33m\u001b[0m\u001b[1;33m\u001b[0m\u001b[0m\n\u001b[0m\u001b[0;32m    420\u001b[0m     \u001b[1;32mfinally\u001b[0m\u001b[1;33m:\u001b[0m\u001b[1;33m\u001b[0m\u001b[1;33m\u001b[0m\u001b[0m\n\u001b[0;32m    421\u001b[0m         \u001b[1;32mif\u001b[0m \u001b[0mopened_new_file\u001b[0m\u001b[1;33m:\u001b[0m\u001b[1;33m\u001b[0m\u001b[1;33m\u001b[0m\u001b[0m\n",
      "\u001b[1;32mC:\\ProgramData\\Anaconda3\\lib\\site-packages\\keras\\engine\\saving.py\u001b[0m in \u001b[0;36m_deserialize_model\u001b[1;34m(f, custom_objects, compile)\u001b[0m\n\u001b[0;32m    219\u001b[0m         \u001b[1;32mreturn\u001b[0m \u001b[0mobj\u001b[0m\u001b[1;33m\u001b[0m\u001b[1;33m\u001b[0m\u001b[0m\n\u001b[0;32m    220\u001b[0m \u001b[1;33m\u001b[0m\u001b[0m\n\u001b[1;32m--> 221\u001b[1;33m     \u001b[0mmodel_config\u001b[0m \u001b[1;33m=\u001b[0m \u001b[0mf\u001b[0m\u001b[1;33m[\u001b[0m\u001b[1;34m'model_config'\u001b[0m\u001b[1;33m]\u001b[0m\u001b[1;33m\u001b[0m\u001b[1;33m\u001b[0m\u001b[0m\n\u001b[0m\u001b[0;32m    222\u001b[0m     \u001b[1;32mif\u001b[0m \u001b[0mmodel_config\u001b[0m \u001b[1;32mis\u001b[0m \u001b[1;32mNone\u001b[0m\u001b[1;33m:\u001b[0m\u001b[1;33m\u001b[0m\u001b[1;33m\u001b[0m\u001b[0m\n\u001b[0;32m    223\u001b[0m         \u001b[1;32mraise\u001b[0m \u001b[0mValueError\u001b[0m\u001b[1;33m(\u001b[0m\u001b[1;34m'No model found in config.'\u001b[0m\u001b[1;33m)\u001b[0m\u001b[1;33m\u001b[0m\u001b[1;33m\u001b[0m\u001b[0m\n",
      "\u001b[1;32mC:\\ProgramData\\Anaconda3\\lib\\site-packages\\keras\\utils\\io_utils.py\u001b[0m in \u001b[0;36m__getitem__\u001b[1;34m(self, attr)\u001b[0m\n\u001b[0;32m    300\u001b[0m             \u001b[1;32melse\u001b[0m\u001b[1;33m:\u001b[0m\u001b[1;33m\u001b[0m\u001b[1;33m\u001b[0m\u001b[0m\n\u001b[0;32m    301\u001b[0m                 \u001b[1;32mif\u001b[0m \u001b[0mself\u001b[0m\u001b[1;33m.\u001b[0m\u001b[0mread_only\u001b[0m\u001b[1;33m:\u001b[0m\u001b[1;33m\u001b[0m\u001b[1;33m\u001b[0m\u001b[0m\n\u001b[1;32m--> 302\u001b[1;33m                     \u001b[1;32mraise\u001b[0m \u001b[0mValueError\u001b[0m\u001b[1;33m(\u001b[0m\u001b[1;34m'Cannot create group in read only mode.'\u001b[0m\u001b[1;33m)\u001b[0m\u001b[1;33m\u001b[0m\u001b[1;33m\u001b[0m\u001b[0m\n\u001b[0m\u001b[0;32m    303\u001b[0m                 \u001b[0mval\u001b[0m \u001b[1;33m=\u001b[0m \u001b[0mH5Dict\u001b[0m\u001b[1;33m(\u001b[0m\u001b[0mself\u001b[0m\u001b[1;33m.\u001b[0m\u001b[0mdata\u001b[0m\u001b[1;33m.\u001b[0m\u001b[0mcreate_group\u001b[0m\u001b[1;33m(\u001b[0m\u001b[0mattr\u001b[0m\u001b[1;33m)\u001b[0m\u001b[1;33m)\u001b[0m\u001b[1;33m\u001b[0m\u001b[1;33m\u001b[0m\u001b[0m\n\u001b[0;32m    304\u001b[0m         \u001b[1;32mreturn\u001b[0m \u001b[0mval\u001b[0m\u001b[1;33m\u001b[0m\u001b[1;33m\u001b[0m\u001b[0m\n",
      "\u001b[1;31mValueError\u001b[0m: Cannot create group in read only mode."
     ]
    }
   ],
   "source": [
    "\"\"\"\n",
    "# 載入 Callbacks, 並將監控目標設為 validation loss, 且只存最佳參數時的模型\n",
    "\"\"\"\n",
    "from keras.callbacks import ModelCheckpoint\n",
    "\n",
    "model_ckpt = ModelCheckpoint(filepath=\"./tmp.h5\", \n",
    "                             monitor=\"val_loss\", \n",
    "                             save_best_only=True,\n",
    "                            save_weights_only=True)\n",
    "\n",
    "model = build_mlp(input_shape=x_train.shape[1:])\n",
    "model.summary()\n",
    "optimizer = keras.optimizers.SGD(lr=LEARNING_RATE, nesterov=True, momentum=MOMENTUM)\n",
    "model.compile(loss=\"categorical_crossentropy\", metrics=[\"accuracy\"], optimizer=optimizer)\n",
    "\n",
    "model.fit(x_train, y_train, \n",
    "          epochs=EPOCHS, \n",
    "          batch_size=BATCH_SIZE, \n",
    "          validation_data=(x_test, y_test), \n",
    "          shuffle=True,\n",
    "          callbacks=[model_ckpt]\n",
    "         )\n",
    "\n",
    "# Collect results\n",
    "train_loss = model.history.history[\"loss\"]\n",
    "valid_loss = model.history.history[\"val_loss\"]\n",
    "train_acc = model.history.history[\"acc\"]\n",
    "valid_acc = model.history.history[\"val_acc\"]\n",
    "\n",
    "# Load back\n",
    "model = keras.models.load_model(\"./tmp.h5\")\n",
    "loss_loadback, acc_loadback = model.evaluate(x_test, y_test)"
   ]
  },
  {
   "cell_type": "code",
   "execution_count": 16,
   "metadata": {
    "scrolled": true
   },
   "outputs": [
    {
     "ename": "NameError",
     "evalue": "name 'loss_loadback' is not defined",
     "output_type": "error",
     "traceback": [
      "\u001b[1;31m---------------------------------------------------------------------------\u001b[0m",
      "\u001b[1;31mNameError\u001b[0m                                 Traceback (most recent call last)",
      "\u001b[1;32m<ipython-input-16-4609a5bbb928>\u001b[0m in \u001b[0;36m<module>\u001b[1;34m\u001b[0m\n\u001b[0;32m      4\u001b[0m \u001b[0mplt\u001b[0m\u001b[1;33m.\u001b[0m\u001b[0mplot\u001b[0m\u001b[1;33m(\u001b[0m\u001b[0mrange\u001b[0m\u001b[1;33m(\u001b[0m\u001b[0mlen\u001b[0m\u001b[1;33m(\u001b[0m\u001b[0mtrain_loss\u001b[0m\u001b[1;33m)\u001b[0m\u001b[1;33m)\u001b[0m\u001b[1;33m,\u001b[0m \u001b[0mtrain_loss\u001b[0m\u001b[1;33m,\u001b[0m \u001b[0mlabel\u001b[0m\u001b[1;33m=\u001b[0m\u001b[1;34m\"train loss\"\u001b[0m\u001b[1;33m)\u001b[0m\u001b[1;33m\u001b[0m\u001b[1;33m\u001b[0m\u001b[0m\n\u001b[0;32m      5\u001b[0m \u001b[0mplt\u001b[0m\u001b[1;33m.\u001b[0m\u001b[0mplot\u001b[0m\u001b[1;33m(\u001b[0m\u001b[0mrange\u001b[0m\u001b[1;33m(\u001b[0m\u001b[0mlen\u001b[0m\u001b[1;33m(\u001b[0m\u001b[0mvalid_loss\u001b[0m\u001b[1;33m)\u001b[0m\u001b[1;33m)\u001b[0m\u001b[1;33m,\u001b[0m \u001b[0mvalid_loss\u001b[0m\u001b[1;33m,\u001b[0m \u001b[0mlabel\u001b[0m\u001b[1;33m=\u001b[0m\u001b[1;34m\"valid loss\"\u001b[0m\u001b[1;33m)\u001b[0m\u001b[1;33m\u001b[0m\u001b[1;33m\u001b[0m\u001b[0m\n\u001b[1;32m----> 6\u001b[1;33m \u001b[0mplt\u001b[0m\u001b[1;33m.\u001b[0m\u001b[0mhlines\u001b[0m\u001b[1;33m(\u001b[0m\u001b[0my\u001b[0m\u001b[1;33m=\u001b[0m\u001b[0mloss_loadback\u001b[0m\u001b[1;33m,\u001b[0m \u001b[0mxmin\u001b[0m\u001b[1;33m=\u001b[0m\u001b[1;36m0\u001b[0m\u001b[1;33m,\u001b[0m \u001b[0mxmax\u001b[0m\u001b[1;33m=\u001b[0m\u001b[0mlen\u001b[0m\u001b[1;33m(\u001b[0m\u001b[0mtrain_loss\u001b[0m\u001b[1;33m)\u001b[0m\u001b[1;33m,\u001b[0m \u001b[0mcolors\u001b[0m\u001b[1;33m=\u001b[0m\u001b[1;34m'r'\u001b[0m\u001b[1;33m,\u001b[0m \u001b[0mlinestyles\u001b[0m\u001b[1;33m=\u001b[0m\u001b[1;34m'--'\u001b[0m\u001b[1;33m)\u001b[0m\u001b[1;33m\u001b[0m\u001b[1;33m\u001b[0m\u001b[0m\n\u001b[0m\u001b[0;32m      7\u001b[0m \u001b[0mplt\u001b[0m\u001b[1;33m.\u001b[0m\u001b[0mlegend\u001b[0m\u001b[1;33m(\u001b[0m\u001b[1;33m)\u001b[0m\u001b[1;33m\u001b[0m\u001b[1;33m\u001b[0m\u001b[0m\n\u001b[0;32m      8\u001b[0m \u001b[0mplt\u001b[0m\u001b[1;33m.\u001b[0m\u001b[0mtitle\u001b[0m\u001b[1;33m(\u001b[0m\u001b[1;34m\"Loss\"\u001b[0m\u001b[1;33m)\u001b[0m\u001b[1;33m\u001b[0m\u001b[1;33m\u001b[0m\u001b[0m\n",
      "\u001b[1;31mNameError\u001b[0m: name 'loss_loadback' is not defined"
     ]
    },
    {
     "data": {
      "image/png": "[encoded data removed]",
      "text/plain": [
       "<Figure size 432x288 with 1 Axes>"
      ]
     },
     "metadata": {
      "needs_background": "light"
     },
     "output_type": "display_data"
    }
   ],
   "source": [
    "import matplotlib.pyplot as plt\n",
    "%matplotlib inline\n",
    "\n",
    "plt.plot(range(len(train_loss)), train_loss, label=\"train loss\")\n",
    "plt.plot(range(len(valid_loss)), valid_loss, label=\"valid loss\")\n",
    "plt.hlines(y=loss_loadback, xmin=0, xmax=len(train_loss), colors='r', linestyles='--')\n",
    "plt.legend()\n",
    "plt.title(\"Loss\")\n",
    "plt.show()\n",
    "\n",
    "plt.plot(range(len(train_acc)), train_acc, label=\"train accuracy\")\n",
    "plt.plot(range(len(valid_acc)), valid_acc, label=\"valid accuracy\")\n",
    "plt.hlines(y=acc_loadback, xmin=0, xmax=len(train_loss), colors='r', linestyles='--')\n",
    "plt.legend()\n",
    "plt.title(\"Accuracy\")\n",
    "plt.show()"
   ]
  }
 ],
 "metadata": {
  "kernelspec": {
   "display_name": "Python 3",
   "language": "python",
   "name": "python3"
  },
  "language_info": {
   "codemirror_mode": {
    "name": "ipython",
    "version": 3
   },
   "file_extension": ".py",
   "mimetype": "text/x-python",
   "name": "python",
   "nbconvert_exporter": "python",
   "pygments_lexer": "ipython3",
   "version": "3.7.3"
  }
 },
 "nbformat": 4,
 "nbformat_minor": 2
}
