{
 "cells": [
  {
   "cell_type": "markdown",
   "metadata": {},
   "source": [
    "## Work\n",
    "1. 試改變 monitor \"Validation Accuracy\" 並比較結果\n",
    "2. 調整 earlystop 的等待次數至 10, 25 並比較結果"
   ]
  },
  {
   "cell_type": "code",
   "execution_count": 1,
   "metadata": {},
   "outputs": [
    {
     "name": "stderr",
     "output_type": "stream",
     "text": [
      "Using TensorFlow backend.\n"
     ]
    }
   ],
   "source": [
    "import os\n",
    "import keras\n",
    "import matplotlib.pyplot as plt\n",
    "%matplotlib inline\n",
    "\n",
    "\n",
    "# Disable GPU\n",
    "os.environ[\"CUDA_VISIBLE_DEVICES\"] = \"\""
   ]
  },
  {
   "cell_type": "code",
   "execution_count": 2,
   "metadata": {},
   "outputs": [],
   "source": [
    "train, test = keras.datasets.cifar10.load_data()"
   ]
  },
  {
   "cell_type": "code",
   "execution_count": 3,
   "metadata": {},
   "outputs": [],
   "source": [
    "## 資料前處理\n",
    "def preproc_x(x, flatten=True):\n",
    "    x = x / 255.\n",
    "    if flatten:\n",
    "        x = x.reshape((len(x), -1))\n",
    "    return x\n",
    "\n",
    "def preproc_y(y, num_classes=10):\n",
    "    if y.shape[-1] == 1:\n",
    "        y = keras.utils.to_categorical(y, num_classes)\n",
    "    return y    "
   ]
  },
  {
   "cell_type": "code",
   "execution_count": 4,
   "metadata": {},
   "outputs": [],
   "source": [
    "x_train, y_train = train\n",
    "x_test, y_test = test\n",
    "\n",
    "# Preproc the inputs\n",
    "x_train = preproc_x(x_train)\n",
    "x_test = preproc_x(x_test)\n",
    "\n",
    "# Preprc the outputs\n",
    "y_train = preproc_y(y_train)\n",
    "y_test = preproc_y(y_test)"
   ]
  },
  {
   "cell_type": "code",
   "execution_count": 5,
   "metadata": {},
   "outputs": [],
   "source": [
    "from keras.layers import BatchNormalization\n",
    "\n",
    "\"\"\"\n",
    "建立神經網路，並加入 BN layer\n",
    "\"\"\"\n",
    "def build_mlp(input_shape, output_units=10, num_neurons=[512, 256, 128]):\n",
    "    input_layer = keras.layers.Input(input_shape)\n",
    "    \n",
    "    for i, n_units in enumerate(num_neurons):\n",
    "        if i == 0:\n",
    "            x = keras.layers.Dense(units=n_units, \n",
    "                                   activation=\"relu\", \n",
    "                                   name=\"hidden_layer\"+str(i+1))(input_layer)\n",
    "            x = BatchNormalization()(x)\n",
    "        else:\n",
    "            x = keras.layers.Dense(units=n_units, \n",
    "                                   activation=\"relu\", \n",
    "                                   name=\"hidden_layer\"+str(i+1))(x)\n",
    "            x = BatchNormalization()(x)\n",
    "    \n",
    "    out = keras.layers.Dense(units=output_units, activation=\"softmax\", name=\"output\")(x)\n",
    "    \n",
    "    model = keras.models.Model(inputs=[input_layer], outputs=[out])\n",
    "    return model"
   ]
  },
  {
   "cell_type": "code",
   "execution_count": 6,
   "metadata": {},
   "outputs": [],
   "source": [
    "## 超參數設定\n",
    "LEARNING_RATE = 1e-3\n",
    "EPOCHS = 50\n",
    "BATCH_SIZE = 1024\n",
    "MOMENTUM = 0.95"
   ]
  },
  {
   "cell_type": "code",
   "execution_count": 9,
   "metadata": {},
   "outputs": [
    {
     "name": "stdout",
     "output_type": "stream",
     "text": [
      "_________________________________________________________________\n",
      "Layer (type)                 Output Shape              Param #   \n",
      "=================================================================\n",
      "input_2 (InputLayer)         (None, 3072)              0         \n",
      "_________________________________________________________________\n",
      "hidden_layer1 (Dense)        (None, 512)               1573376   \n",
      "_________________________________________________________________\n",
      "batch_normalization_4 (Batch (None, 512)               2048      \n",
      "_________________________________________________________________\n",
      "hidden_layer2 (Dense)        (None, 256)               131328    \n",
      "_________________________________________________________________\n",
      "batch_normalization_5 (Batch (None, 256)               1024      \n",
      "_________________________________________________________________\n",
      "hidden_layer3 (Dense)        (None, 128)               32896     \n",
      "_________________________________________________________________\n",
      "batch_normalization_6 (Batch (None, 128)               512       \n",
      "_________________________________________________________________\n",
      "output (Dense)               (None, 10)                1290      \n",
      "=================================================================\n",
      "Total params: 1,742,474\n",
      "Trainable params: 1,740,682\n",
      "Non-trainable params: 1,792\n",
      "_________________________________________________________________\n",
      "Train on 50000 samples, validate on 10000 samples\n",
      "Epoch 1/50\n",
      "50000/50000 [==============================] - 9s 176us/step - loss: 2.2323 - acc: 0.2697 - val_loss: 2.0745 - val_acc: 0.3165\n",
      "Epoch 2/50\n",
      "50000/50000 [==============================] - 7s 143us/step - loss: 1.7600 - acc: 0.3887 - val_loss: 1.7779 - val_acc: 0.3839\n",
      "Epoch 3/50\n",
      "50000/50000 [==============================] - 7s 144us/step - loss: 1.6334 - acc: 0.4298 - val_loss: 1.6841 - val_acc: 0.4074\n",
      "Epoch 4/50\n",
      "50000/50000 [==============================] - 10s 208us/step - loss: 1.5583 - acc: 0.4573 - val_loss: 1.6343 - val_acc: 0.4282\n",
      "Epoch 5/50\n",
      "50000/50000 [==============================] - 10s 191us/step - loss: 1.5041 - acc: 0.4751 - val_loss: 1.5940 - val_acc: 0.4392\n",
      "Epoch 6/50\n",
      "50000/50000 [==============================] - 10s 191us/step - loss: 1.4545 - acc: 0.4933 - val_loss: 1.5646 - val_acc: 0.4502\n",
      "Epoch 7/50\n",
      "50000/50000 [==============================] - 9s 177us/step - loss: 1.4147 - acc: 0.5075 - val_loss: 1.5498 - val_acc: 0.4518\n",
      "Epoch 8/50\n",
      "50000/50000 [==============================] - 9s 174us/step - loss: 1.3795 - acc: 0.5199 - val_loss: 1.5265 - val_acc: 0.4616\n",
      "Epoch 9/50\n",
      "50000/50000 [==============================] - 9s 174us/step - loss: 1.3483 - acc: 0.5312 - val_loss: 1.4974 - val_acc: 0.4720\n",
      "Epoch 10/50\n",
      "50000/50000 [==============================] - 9s 174us/step - loss: 1.3188 - acc: 0.5414 - val_loss: 1.4960 - val_acc: 0.4665\n",
      "Epoch 11/50\n",
      "50000/50000 [==============================] - 9s 180us/step - loss: 1.2898 - acc: 0.5524 - val_loss: 1.4795 - val_acc: 0.4811\n",
      "Epoch 12/50\n",
      "50000/50000 [==============================] - 9s 180us/step - loss: 1.2644 - acc: 0.5611 - val_loss: 1.4948 - val_acc: 0.4725\n",
      "Epoch 13/50\n",
      "50000/50000 [==============================] - 9s 175us/step - loss: 1.2404 - acc: 0.5717 - val_loss: 1.4684 - val_acc: 0.4876\n",
      "Epoch 14/50\n",
      "50000/50000 [==============================] - 9s 182us/step - loss: 1.2142 - acc: 0.5817 - val_loss: 1.4574 - val_acc: 0.4854\n",
      "Epoch 15/50\n",
      "50000/50000 [==============================] - 9s 181us/step - loss: 1.1890 - acc: 0.5886 - val_loss: 1.4503 - val_acc: 0.4897\n",
      "Epoch 16/50\n",
      "50000/50000 [==============================] - 9s 179us/step - loss: 1.1652 - acc: 0.5992 - val_loss: 1.4478 - val_acc: 0.4937\n",
      "Epoch 17/50\n",
      "50000/50000 [==============================] - 9s 183us/step - loss: 1.1430 - acc: 0.6066 - val_loss: 1.4437 - val_acc: 0.4938\n",
      "Epoch 18/50\n",
      "50000/50000 [==============================] - 9s 179us/step - loss: 1.1223 - acc: 0.6155 - val_loss: 1.4397 - val_acc: 0.4914\n",
      "Epoch 19/50\n",
      "50000/50000 [==============================] - 9s 178us/step - loss: 1.0998 - acc: 0.6240 - val_loss: 1.4399 - val_acc: 0.4973\n",
      "Epoch 20/50\n",
      "50000/50000 [==============================] - 9s 180us/step - loss: 1.0792 - acc: 0.6317 - val_loss: 1.4407 - val_acc: 0.4993\n",
      "Epoch 21/50\n",
      "50000/50000 [==============================] - 9s 181us/step - loss: 1.0569 - acc: 0.6393 - val_loss: 1.4361 - val_acc: 0.5006\n",
      "Epoch 22/50\n",
      "50000/50000 [==============================] - 9s 182us/step - loss: 1.0367 - acc: 0.6481 - val_loss: 1.4367 - val_acc: 0.4997\n",
      "Epoch 23/50\n",
      "50000/50000 [==============================] - 9s 181us/step - loss: 1.0155 - acc: 0.6552 - val_loss: 1.4384 - val_acc: 0.5006\n",
      "Epoch 24/50\n",
      "50000/50000 [==============================] - 9s 185us/step - loss: 0.9973 - acc: 0.6622 - val_loss: 1.4371 - val_acc: 0.4984 - ETA: 2s - loss: 0.9954 -\n",
      "Epoch 25/50\n",
      "50000/50000 [==============================] - 9s 183us/step - loss: 0.9760 - acc: 0.6705 - val_loss: 1.4419 - val_acc: 0.5020\n",
      "Epoch 26/50\n",
      "50000/50000 [==============================] - 9s 183us/step - loss: 0.9554 - acc: 0.6794 - val_loss: 1.4360 - val_acc: 0.5025\n",
      "Epoch 27/50\n",
      "50000/50000 [==============================] - 9s 182us/step - loss: 0.9345 - acc: 0.6884 - val_loss: 1.4524 - val_acc: 0.4982\n",
      "Epoch 28/50\n",
      "50000/50000 [==============================] - 9s 182us/step - loss: 0.9163 - acc: 0.6938 - val_loss: 1.4510 - val_acc: 0.5018\n",
      "Epoch 29/50\n",
      "50000/50000 [==============================] - 9s 180us/step - loss: 0.8953 - acc: 0.7018 - val_loss: 1.4587 - val_acc: 0.4977\n",
      "Epoch 30/50\n",
      "50000/50000 [==============================] - 9s 184us/step - loss: 0.8775 - acc: 0.7098 - val_loss: 1.4671 - val_acc: 0.5001\n",
      "Epoch 31/50\n",
      "50000/50000 [==============================] - 10s 192us/step - loss: 0.8560 - acc: 0.7176 - val_loss: 1.4588 - val_acc: 0.5020\n",
      "Epoch 32/50\n",
      "50000/50000 [==============================] - 10s 191us/step - loss: 0.8373 - acc: 0.7271 - val_loss: 1.4698 - val_acc: 0.5002\n",
      "Epoch 33/50\n",
      "50000/50000 [==============================] - 9s 185us/step - loss: 0.8195 - acc: 0.7321 - val_loss: 1.4896 - val_acc: 0.4970\n",
      "Epoch 34/50\n",
      "50000/50000 [==============================] - 9s 185us/step - loss: 0.7995 - acc: 0.7409 - val_loss: 1.4772 - val_acc: 0.5018\n",
      "Epoch 35/50\n",
      "50000/50000 [==============================] - 9s 183us/step - loss: 0.7782 - acc: 0.7495 - val_loss: 1.4935 - val_acc: 0.5020\n",
      "Epoch 36/50\n",
      "50000/50000 [==============================] - 9s 185us/step - loss: 0.7613 - acc: 0.7539 - val_loss: 1.4938 - val_acc: 0.5044\n",
      "Epoch 37/50\n",
      "50000/50000 [==============================] - 9s 186us/step - loss: 0.7428 - acc: 0.7623 - val_loss: 1.4999 - val_acc: 0.4994\n",
      "Epoch 38/50\n",
      "50000/50000 [==============================] - 9s 186us/step - loss: 0.7218 - acc: 0.7730 - val_loss: 1.5094 - val_acc: 0.4990\n",
      "Epoch 39/50\n",
      "50000/50000 [==============================] - 9s 181us/step - loss: 0.7044 - acc: 0.7775 - val_loss: 1.5130 - val_acc: 0.5024\n",
      "Epoch 40/50\n",
      "50000/50000 [==============================] - 9s 184us/step - loss: 0.6877 - acc: 0.7859 - val_loss: 1.5273 - val_acc: 0.5024\n",
      "Epoch 41/50\n",
      "50000/50000 [==============================] - 9s 181us/step - loss: 0.6678 - acc: 0.7933 - val_loss: 1.5353 - val_acc: 0.5019\n",
      "Epoch 42/50\n",
      "50000/50000 [==============================] - 9s 182us/step - loss: 0.6510 - acc: 0.7990 - val_loss: 1.5479 - val_acc: 0.5010\n",
      "Epoch 43/50\n",
      "50000/50000 [==============================] - 9s 184us/step - loss: 0.6339 - acc: 0.8065 - val_loss: 1.5587 - val_acc: 0.4998\n",
      "Epoch 44/50\n",
      "50000/50000 [==============================] - 10s 192us/step - loss: 0.6162 - acc: 0.8133 - val_loss: 1.5837 - val_acc: 0.4932s - loss: \n",
      "Epoch 45/50\n",
      "50000/50000 [==============================] - 10s 196us/step - loss: 0.5990 - acc: 0.8199 - val_loss: 1.5756 - val_acc: 0.4932\n",
      "Epoch 46/50\n",
      "50000/50000 [==============================] - 9s 182us/step - loss: 0.5823 - acc: 0.8267 - val_loss: 1.5935 - val_acc: 0.4952\n",
      "Epoch 00046: early stopping\n"
     ]
    }
   ],
   "source": [
    "\"\"\"\n",
    "# 載入 Callbacks, 並將 monitor 設定為監控 Validation Accuracy\n",
    "\"\"\"\n",
    "from keras.callbacks import EarlyStopping\n",
    "\n",
    "earlystop = EarlyStopping(monitor=\"val_acc\", \n",
    "                          patience=10, \n",
    "                          verbose=1\n",
    "                          )\n",
    "\n",
    "model = build_mlp(input_shape=x_train.shape[1:])\n",
    "model.summary()\n",
    "optimizer = keras.optimizers.SGD(lr=LEARNING_RATE, nesterov=True, momentum=MOMENTUM)\n",
    "model.compile(loss=\"categorical_crossentropy\", metrics=[\"accuracy\"], optimizer=optimizer)\n",
    "\n",
    "model.fit(x_train, y_train, \n",
    "          epochs=EPOCHS, \n",
    "          batch_size=BATCH_SIZE, \n",
    "          validation_data=(x_test, y_test), \n",
    "          shuffle=True,\n",
    "          callbacks=[earlystop]\n",
    "         )\n",
    "\n",
    "# Collect results\n",
    "train_loss = model.history.history[\"loss\"]\n",
    "valid_loss = model.history.history[\"val_loss\"]\n",
    "train_acc = model.history.history[\"acc\"]\n",
    "valid_acc = model.history.history[\"val_acc\"]\n"
   ]
  },
  {
   "cell_type": "code",
   "execution_count": 10,
   "metadata": {},
   "outputs": [
    {
     "data": {
      "image/png": "[encoded data removed]",
      "text/plain": [
       "<Figure size 432x288 with 1 Axes>"
      ]
     },
     "metadata": {
      "needs_background": "light"
     },
     "output_type": "display_data"
    },
    {
     "data": {
      "image/png": "[encoded data removed]",
      "text/plain": [
       "<Figure size 432x288 with 1 Axes>"
      ]
     },
     "metadata": {
      "needs_background": "light"
     },
     "output_type": "display_data"
    }
   ],
   "source": [
    "import matplotlib.pyplot as plt\n",
    "%matplotlib inline\n",
    "\n",
    "plt.plot(range(len(train_loss)), train_loss, label=\"train loss\")\n",
    "plt.plot(range(len(valid_loss)), valid_loss, label=\"valid loss\")\n",
    "plt.legend()\n",
    "plt.title(\"Loss\")\n",
    "plt.show()\n",
    "\n",
    "plt.plot(range(len(train_acc)), train_acc, label=\"train accuracy\")\n",
    "plt.plot(range(len(valid_acc)), valid_acc, label=\"valid accuracy\")\n",
    "plt.legend()\n",
    "plt.title(\"Accuracy\")\n",
    "plt.show()"
   ]
  }
 ],
 "metadata": {
  "kernelspec": {
   "display_name": "Python 3",
   "language": "python",
   "name": "python3"
  },
  "language_info": {
   "codemirror_mode": {
    "name": "ipython",
    "version": 3
   },
   "file_extension": ".py",
   "mimetype": "text/x-python",
   "name": "python",
   "nbconvert_exporter": "python",
   "pygments_lexer": "ipython3",
   "version": "3.7.3"
  }
 },
 "nbformat": 4,
 "nbformat_minor": 2
}
