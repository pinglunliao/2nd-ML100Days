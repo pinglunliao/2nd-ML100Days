{
 "cells": [
  {
   "cell_type": "markdown",
   "metadata": {},
   "source": [
    "## Work\n",
    "1. 請比較使用不同層數以及不同 Dropout rate 對訓練的效果\n",
    "2. 將 optimizer 改成使用 Adam 並加上適當的 dropout rate 檢視結果"
   ]
  },
  {
   "cell_type": "code",
   "execution_count": 1,
   "metadata": {},
   "outputs": [
    {
     "name": "stderr",
     "output_type": "stream",
     "text": [
      "Using TensorFlow backend.\n"
     ]
    }
   ],
   "source": [
    "import os\n",
    "import keras\n",
    "import itertools\n",
    "# Disable GPU\n",
    "os.environ[\"CUDA_VISIBLE_DEVICES\"] = \"\""
   ]
  },
  {
   "cell_type": "code",
   "execution_count": 2,
   "metadata": {},
   "outputs": [],
   "source": [
    "train, test = keras.datasets.cifar10.load_data()"
   ]
  },
  {
   "cell_type": "code",
   "execution_count": 3,
   "metadata": {},
   "outputs": [],
   "source": [
    "## 資料前處理\n",
    "def preproc_x(x, flatten=True):\n",
    "    x = x / 255.\n",
    "    if flatten:\n",
    "        x = x.reshape((len(x), -1))\n",
    "    return x\n",
    "\n",
    "def preproc_y(y, num_classes=10):\n",
    "    if y.shape[-1] == 1:\n",
    "        y = keras.utils.to_categorical(y, num_classes)\n",
    "    return y    "
   ]
  },
  {
   "cell_type": "code",
   "execution_count": 4,
   "metadata": {},
   "outputs": [],
   "source": [
    "x_train, y_train = train\n",
    "x_test, y_test = test\n",
    "\n",
    "# Preproc the inputs\n",
    "x_train = preproc_x(x_train)\n",
    "x_test = preproc_x(x_test)\n",
    "\n",
    "# Preprc the outputs\n",
    "y_train = preproc_y(y_train)\n",
    "y_test = preproc_y(y_test)"
   ]
  },
  {
   "cell_type": "code",
   "execution_count": 5,
   "metadata": {},
   "outputs": [],
   "source": [
    "from keras.layers import Dropout\n",
    "\n",
    "\"\"\"\n",
    "建立神經網路，並加入 dropout layer\n",
    "\"\"\"\n",
    "def build_mlp(input_shape, output_units=10, num_neurons=[512, 256, 128], drp_ratio=0.2):\n",
    "    input_layer = keras.layers.Input(input_shape)\n",
    "    \n",
    "    for i, n_units in enumerate(num_neurons):\n",
    "        if i == 0:\n",
    "            x = keras.layers.Dense(units=n_units, \n",
    "                                   activation=\"relu\", \n",
    "                                   name=\"hidden_layer\"+str(i+1))(input_layer)\n",
    "            x = Dropout(drp_ratio)(x)\n",
    "        else:\n",
    "            x = keras.layers.Dense(units=n_units, \n",
    "                                   activation=\"relu\", \n",
    "                                   name=\"hidden_layer\"+str(i+1))(x)\n",
    "            x = Dropout(drp_ratio)(x)\n",
    "    \n",
    "    out = keras.layers.Dense(units=output_units, activation=\"softmax\", name=\"output\")(x)\n",
    "    \n",
    "    model = keras.models.Model(inputs=[input_layer], outputs=[out])\n",
    "    return model"
   ]
  },
  {
   "cell_type": "code",
   "execution_count": 6,
   "metadata": {},
   "outputs": [],
   "source": [
    "## 超參數設定\n",
    "LEARNING_RATE = 1e-3\n",
    "EPOCHS = 50\n",
    "BATCH_SIZE = 256\n",
    "MOMENTUM = 0.95\n",
    "Dropout_EXP = 0.25"
   ]
  },
  {
   "cell_type": "code",
   "execution_count": 10,
   "metadata": {
    "scrolled": true
   },
   "outputs": [
    {
     "name": "stderr",
     "output_type": "stream",
     "text": [
      "W1023 08:43:46.608121 10296 deprecation_wrapper.py:119] From C:\\ProgramData\\Anaconda3\\lib\\site-packages\\keras\\optimizers.py:790: The name tf.train.Optimizer is deprecated. Please use tf.compat.v1.train.Optimizer instead.\n",
      "\n",
      "W1023 08:43:46.618098 10296 deprecation_wrapper.py:119] From C:\\ProgramData\\Anaconda3\\lib\\site-packages\\keras\\backend\\tensorflow_backend.py:3295: The name tf.log is deprecated. Please use tf.math.log instead.\n",
      "\n",
      "W1023 08:43:46.707045 10296 deprecation.py:323] From C:\\ProgramData\\Anaconda3\\lib\\site-packages\\tensorflow\\python\\ops\\math_grad.py:1250: add_dispatch_support.<locals>.wrapper (from tensorflow.python.ops.array_ops) is deprecated and will be removed in a future version.\n",
      "Instructions for updating:\n",
      "Use tf.where in 2.0, which has the same broadcast rule as np.where\n"
     ]
    },
    {
     "name": "stdout",
     "output_type": "stream",
     "text": [
      "_________________________________________________________________\n",
      "Layer (type)                 Output Shape              Param #   \n",
      "=================================================================\n",
      "input_3 (InputLayer)         (None, 3072)              0         \n",
      "_________________________________________________________________\n",
      "hidden_layer1 (Dense)        (None, 512)               1573376   \n",
      "_________________________________________________________________\n",
      "dropout_7 (Dropout)          (None, 512)               0         \n",
      "_________________________________________________________________\n",
      "hidden_layer2 (Dense)        (None, 256)               131328    \n",
      "_________________________________________________________________\n",
      "dropout_8 (Dropout)          (None, 256)               0         \n",
      "_________________________________________________________________\n",
      "hidden_layer3 (Dense)        (None, 128)               32896     \n",
      "_________________________________________________________________\n",
      "dropout_9 (Dropout)          (None, 128)               0         \n",
      "_________________________________________________________________\n",
      "output (Dense)               (None, 10)                1290      \n",
      "=================================================================\n",
      "Total params: 1,738,890\n",
      "Trainable params: 1,738,890\n",
      "Non-trainable params: 0\n",
      "_________________________________________________________________\n",
      "Train on 50000 samples, validate on 10000 samples\n",
      "Epoch 1/50\n",
      "50000/50000 [==============================] - 15s 308us/step - loss: 2.0401 - acc: 0.2446 - val_loss: 1.8363 - val_acc: 0.3404\n",
      "Epoch 2/50\n",
      "50000/50000 [==============================] - 13s 259us/step - loss: 1.8798 - acc: 0.3163 - val_loss: 1.7449 - val_acc: 0.3746\n",
      "Epoch 3/50\n",
      "50000/50000 [==============================] - 14s 286us/step - loss: 1.8123 - acc: 0.3439 - val_loss: 1.7257 - val_acc: 0.3710\n",
      "Epoch 4/50\n",
      "50000/50000 [==============================] - 15s 303us/step - loss: 1.7790 - acc: 0.3541 - val_loss: 1.6681 - val_acc: 0.3986\n",
      "Epoch 5/50\n",
      "50000/50000 [==============================] - 14s 287us/step - loss: 1.7552 - acc: 0.3651 - val_loss: 1.6726 - val_acc: 0.4131\n",
      "Epoch 6/50\n",
      "50000/50000 [==============================] - 14s 284us/step - loss: 1.7298 - acc: 0.3716 - val_loss: 1.6421 - val_acc: 0.4227\n",
      "Epoch 7/50\n",
      "50000/50000 [==============================] - 14s 283us/step - loss: 1.7099 - acc: 0.3820 - val_loss: 1.6149 - val_acc: 0.4287\n",
      "Epoch 8/50\n",
      "50000/50000 [==============================] - 14s 284us/step - loss: 1.6971 - acc: 0.3847 - val_loss: 1.6294 - val_acc: 0.4190\n",
      "Epoch 9/50\n",
      "50000/50000 [==============================] - 14s 283us/step - loss: 1.6880 - acc: 0.3897 - val_loss: 1.6253 - val_acc: 0.4290\n",
      "Epoch 10/50\n",
      "50000/50000 [==============================] - 14s 288us/step - loss: 1.6691 - acc: 0.3953 - val_loss: 1.5987 - val_acc: 0.4391\n",
      "Epoch 11/50\n",
      "50000/50000 [==============================] - 14s 284us/step - loss: 1.6680 - acc: 0.3997 - val_loss: 1.6065 - val_acc: 0.4230\n",
      "Epoch 12/50\n",
      "50000/50000 [==============================] - 14s 283us/step - loss: 1.6534 - acc: 0.4040 - val_loss: 1.5710 - val_acc: 0.4470\n",
      "Epoch 13/50\n",
      "50000/50000 [==============================] - 14s 283us/step - loss: 1.6471 - acc: 0.4057 - val_loss: 1.5720 - val_acc: 0.4396\n",
      "Epoch 14/50\n",
      "50000/50000 [==============================] - 14s 285us/step - loss: 1.6293 - acc: 0.4119 - val_loss: 1.5595 - val_acc: 0.4536\n",
      "Epoch 15/50\n",
      "50000/50000 [==============================] - 14s 285us/step - loss: 1.6204 - acc: 0.4183 - val_loss: 1.5485 - val_acc: 0.4554\n",
      "Epoch 16/50\n",
      "50000/50000 [==============================] - 14s 287us/step - loss: 1.6173 - acc: 0.4179 - val_loss: 1.5569 - val_acc: 0.4470\n",
      "Epoch 17/50\n",
      "50000/50000 [==============================] - 14s 283us/step - loss: 1.6140 - acc: 0.4190 - val_loss: 1.5371 - val_acc: 0.4587\n",
      "Epoch 18/50\n",
      "50000/50000 [==============================] - 14s 284us/step - loss: 1.6016 - acc: 0.4243 - val_loss: 1.5478 - val_acc: 0.4532\n",
      "Epoch 19/50\n",
      "50000/50000 [==============================] - 14s 289us/step - loss: 1.6038 - acc: 0.4224 - val_loss: 1.5379 - val_acc: 0.4633\n",
      "Epoch 20/50\n",
      "50000/50000 [==============================] - 14s 285us/step - loss: 1.6065 - acc: 0.4210 - val_loss: 1.5265 - val_acc: 0.4560\n",
      "Epoch 21/50\n",
      "50000/50000 [==============================] - 14s 284us/step - loss: 1.5793 - acc: 0.4297 - val_loss: 1.5229 - val_acc: 0.4699\n",
      "Epoch 22/50\n",
      "50000/50000 [==============================] - 14s 284us/step - loss: 1.5854 - acc: 0.4311 - val_loss: 1.5128 - val_acc: 0.4744\n",
      "Epoch 23/50\n",
      "50000/50000 [==============================] - 14s 285us/step - loss: 1.5759 - acc: 0.4322 - val_loss: 1.4975 - val_acc: 0.4777\n",
      "Epoch 24/50\n",
      "50000/50000 [==============================] - 14s 285us/step - loss: 1.5763 - acc: 0.4337 - val_loss: 1.5133 - val_acc: 0.4686\n",
      "Epoch 25/50\n",
      "50000/50000 [==============================] - 14s 286us/step - loss: 1.5682 - acc: 0.4375 - val_loss: 1.5219 - val_acc: 0.4705\n",
      "Epoch 26/50\n",
      "50000/50000 [==============================] - 14s 285us/step - loss: 1.5649 - acc: 0.4360 - val_loss: 1.5176 - val_acc: 0.4624\n",
      "Epoch 27/50\n",
      "50000/50000 [==============================] - 14s 283us/step - loss: 1.5675 - acc: 0.4355 - val_loss: 1.5249 - val_acc: 0.4567\n",
      "Epoch 28/50\n",
      "50000/50000 [==============================] - 14s 288us/step - loss: 1.5596 - acc: 0.4390 - val_loss: 1.5156 - val_acc: 0.4655\n",
      "Epoch 29/50\n",
      "50000/50000 [==============================] - 15s 290us/step - loss: 1.5588 - acc: 0.4406 - val_loss: 1.5041 - val_acc: 0.4654\n",
      "Epoch 30/50\n",
      "50000/50000 [==============================] - 16s 311us/step - loss: 1.5573 - acc: 0.4378 - val_loss: 1.5024 - val_acc: 0.4665\n",
      "Epoch 31/50\n",
      "50000/50000 [==============================] - 15s 292us/step - loss: 1.5451 - acc: 0.4470 - val_loss: 1.4892 - val_acc: 0.4721\n",
      "Epoch 32/50\n",
      "50000/50000 [==============================] - 15s 309us/step - loss: 1.5516 - acc: 0.4435 - val_loss: 1.5231 - val_acc: 0.4650\n",
      "Epoch 33/50\n",
      "50000/50000 [==============================] - 16s 322us/step - loss: 1.5447 - acc: 0.4457 - val_loss: 1.5111 - val_acc: 0.4664\n",
      "Epoch 34/50\n",
      "50000/50000 [==============================] - 15s 301us/step - loss: 1.5361 - acc: 0.4487 - val_loss: 1.4780 - val_acc: 0.4800\n",
      "Epoch 35/50\n",
      "50000/50000 [==============================] - 14s 286us/step - loss: 1.5391 - acc: 0.4483 - val_loss: 1.4775 - val_acc: 0.4772\n",
      "Epoch 36/50\n",
      "50000/50000 [==============================] - 14s 285us/step - loss: 1.5355 - acc: 0.4501 - val_loss: 1.5109 - val_acc: 0.4626\n",
      "Epoch 37/50\n",
      "50000/50000 [==============================] - 14s 285us/step - loss: 1.5382 - acc: 0.4511 - val_loss: 1.4943 - val_acc: 0.4705\n",
      "Epoch 38/50\n",
      "50000/50000 [==============================] - 14s 285us/step - loss: 1.5267 - acc: 0.4509 - val_loss: 1.5016 - val_acc: 0.4624\n",
      "Epoch 39/50\n",
      "50000/50000 [==============================] - 14s 286us/step - loss: 1.5267 - acc: 0.4497 - val_loss: 1.4929 - val_acc: 0.4732\n",
      "Epoch 40/50\n",
      "50000/50000 [==============================] - 15s 300us/step - loss: 1.5187 - acc: 0.4542 - val_loss: 1.4733 - val_acc: 0.4818\n",
      "Epoch 41/50\n",
      "50000/50000 [==============================] - 15s 298us/step - loss: 1.5155 - acc: 0.4541 - val_loss: 1.4902 - val_acc: 0.4717\n",
      "Epoch 42/50\n",
      "50000/50000 [==============================] - 14s 289us/step - loss: 1.5155 - acc: 0.4553 - val_loss: 1.4837 - val_acc: 0.4768\n",
      "Epoch 43/50\n",
      "50000/50000 [==============================] - 14s 285us/step - loss: 1.5166 - acc: 0.4566 - val_loss: 1.4676 - val_acc: 0.4850\n",
      "Epoch 44/50\n",
      "50000/50000 [==============================] - 14s 287us/step - loss: 1.5051 - acc: 0.4588 - val_loss: 1.4658 - val_acc: 0.4822\n",
      "Epoch 45/50\n",
      "50000/50000 [==============================] - 14s 285us/step - loss: 1.5011 - acc: 0.4614 - val_loss: 1.4721 - val_acc: 0.4805\n",
      "Epoch 46/50\n",
      "50000/50000 [==============================] - 15s 304us/step - loss: 1.5040 - acc: 0.4625 - val_loss: 1.4722 - val_acc: 0.4847\n",
      "Epoch 47/50\n",
      "50000/50000 [==============================] - 14s 289us/step - loss: 1.5071 - acc: 0.4594 - val_loss: 1.4745 - val_acc: 0.4774\n",
      "Epoch 48/50\n",
      "50000/50000 [==============================] - 14s 287us/step - loss: 1.5007 - acc: 0.4587 - val_loss: 1.4806 - val_acc: 0.4796\n",
      "Epoch 49/50\n"
     ]
    },
    {
     "name": "stdout",
     "output_type": "stream",
     "text": [
      "50000/50000 [==============================] - 14s 274us/step - loss: 1.5010 - acc: 0.4619 - val_loss: 1.4836 - val_acc: 0.4703\n",
      "Epoch 50/50\n",
      "50000/50000 [==============================] - 14s 275us/step - loss: 1.4964 - acc: 0.4641 - val_loss: 1.4602 - val_acc: 0.4781\n"
     ]
    }
   ],
   "source": [
    "model = build_mlp(input_shape=x_train.shape[1:], drp_ratio=Dropout_EXP)\n",
    "model.summary()\n",
    "#optimizer = keras.optimizers.SGD(lr=LEARNING_RATE, nesterov=True, momentum=MOMENTUM)\n",
    "optimizer = keras.optimizers.Adam(lr=LEARNING_RATE)\n",
    "model.compile(loss=\"categorical_crossentropy\", metrics=[\"accuracy\"], optimizer=optimizer)\n",
    "\n",
    "model.fit(x_train, y_train, \n",
    "          epochs=EPOCHS, \n",
    "          batch_size=BATCH_SIZE, \n",
    "          validation_data=(x_test, y_test), \n",
    "          shuffle=True)\n",
    "\n",
    "# Collect results\n",
    "train_loss = model.history.history[\"loss\"]\n",
    "valid_loss = model.history.history[\"val_loss\"]\n",
    "train_acc = model.history.history[\"acc\"]\n",
    "valid_acc = model.history.history[\"val_acc\"]"
   ]
  },
  {
   "cell_type": "code",
   "execution_count": 11,
   "metadata": {},
   "outputs": [
    {
     "data": {
      "image/png": "[encoded data removed]",
      "text/plain": [
       "<Figure size 432x288 with 1 Axes>"
      ]
     },
     "metadata": {
      "needs_background": "light"
     },
     "output_type": "display_data"
    },
    {
     "data": {
      "image/png": "[encoded data removed]",
      "text/plain": [
       "<Figure size 432x288 with 1 Axes>"
      ]
     },
     "metadata": {
      "needs_background": "light"
     },
     "output_type": "display_data"
    }
   ],
   "source": [
    "import matplotlib.pyplot as plt\n",
    "%matplotlib inline\n",
    "\n",
    "plt.plot(range(len(train_loss)), train_loss, label=\"train loss\")\n",
    "plt.plot(range(len(valid_loss)), valid_loss, label=\"valid loss\")\n",
    "plt.legend()\n",
    "plt.title(\"Loss\")\n",
    "plt.show()\n",
    "\n",
    "plt.plot(range(len(train_acc)), train_acc, label=\"train accuracy\")\n",
    "plt.plot(range(len(valid_acc)), valid_acc, label=\"valid accuracy\")\n",
    "plt.legend()\n",
    "plt.title(\"Accuracy\")\n",
    "plt.show()"
   ]
  }
 ],
 "metadata": {
  "kernelspec": {
   "display_name": "Python 3",
   "language": "python",
   "name": "python3"
  },
  "language_info": {
   "codemirror_mode": {
    "name": "ipython",
    "version": 3
   },
   "file_extension": ".py",
   "mimetype": "text/x-python",
   "name": "python",
   "nbconvert_exporter": "python",
   "pygments_lexer": "ipython3",
   "version": "3.7.3"
  }
 },
 "nbformat": 4,
 "nbformat_minor": 2
}
