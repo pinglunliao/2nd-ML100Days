{
 "cells": [
  {
   "cell_type": "markdown",
   "metadata": {},
   "source": [
    "## 範例重點\n",
    "* 學習如何在 keras 中撰寫自定義的 loss function\n",
    "* 知道如何在訓練時使用自定義的 loss function"
   ]
  },
  {
   "cell_type": "code",
   "execution_count": 1,
   "metadata": {},
   "outputs": [
    {
     "name": "stderr",
     "output_type": "stream",
     "text": [
      "Using TensorFlow backend.\n"
     ]
    }
   ],
   "source": [
    "import os\n",
    "import keras\n",
    "\n",
    "# 本範例不需使用 GPU, 將 GPU 設定為 \"無\"\n",
    "os.environ[\"CUDA_VISIBLE_DEVICES\"] = \"\""
   ]
  },
  {
   "cell_type": "code",
   "execution_count": 2,
   "metadata": {},
   "outputs": [],
   "source": [
    "train, test = keras.datasets.cifar10.load_data()"
   ]
  },
  {
   "cell_type": "code",
   "execution_count": 3,
   "metadata": {},
   "outputs": [],
   "source": [
    "## 資料前處理\n",
    "def preproc_x(x, flatten=True):\n",
    "    x = x / 255.\n",
    "    if flatten:\n",
    "        x = x.reshape((len(x), -1))\n",
    "    return x\n",
    "\n",
    "def preproc_y(y, num_classes=10):\n",
    "    if y.shape[-1] == 1:\n",
    "        y = keras.utils.to_categorical(y, num_classes)\n",
    "    return y    "
   ]
  },
  {
   "cell_type": "code",
   "execution_count": 4,
   "metadata": {},
   "outputs": [],
   "source": [
    "x_train, y_train = train\n",
    "x_test, y_test = test\n",
    "\n",
    "# 資料前處理 - X 標準化\n",
    "x_train = preproc_x(x_train)\n",
    "x_test = preproc_x(x_test)\n",
    "\n",
    "# 資料前處理 -Y 轉成 onehot\n",
    "y_train = preproc_y(y_train)\n",
    "y_test = preproc_y(y_test)"
   ]
  },
  {
   "cell_type": "code",
   "execution_count": 5,
   "metadata": {},
   "outputs": [],
   "source": [
    "from keras.layers import BatchNormalization\n",
    "\n",
    "\"\"\"\n",
    "建立神經網路，並加入 BN layer\n",
    "\"\"\"\n",
    "def build_mlp(input_shape, output_units=10, num_neurons=[512, 256, 128]):\n",
    "    input_layer = keras.layers.Input(input_shape)\n",
    "    \n",
    "    for i, n_units in enumerate(num_neurons):\n",
    "        if i == 0:\n",
    "            x = keras.layers.Dense(units=n_units, \n",
    "                                   activation=\"relu\", \n",
    "                                   name=\"hidden_layer\"+str(i+1))(input_layer)\n",
    "            x = BatchNormalization()(x)\n",
    "        else:\n",
    "            x = keras.layers.Dense(units=n_units, \n",
    "                                   activation=\"relu\", \n",
    "                                   name=\"hidden_layer\"+str(i+1))(x)\n",
    "            x = BatchNormalization()(x)\n",
    "    \n",
    "    out = keras.layers.Dense(units=output_units, activation=\"softmax\", name=\"output\")(x)\n",
    "    \n",
    "    model = keras.models.Model(inputs=[input_layer], outputs=[out])\n",
    "    return model"
   ]
  },
  {
   "cell_type": "code",
   "execution_count": 6,
   "metadata": {},
   "outputs": [],
   "source": [
    "## 超參數設定\n",
    "LEARNING_RATE = 1e-3\n",
    "EPOCHS = 50\n",
    "BATCH_SIZE = 1024\n",
    "MOMENTUM = 0.95"
   ]
  },
  {
   "cell_type": "code",
   "execution_count": 7,
   "metadata": {},
   "outputs": [],
   "source": [
    "import tensorflow as tf\n",
    "import keras.backend as K\n",
    "\n",
    "\"\"\"\n",
    "# 撰寫自定義的 loss function: focal loss (https://blog.csdn.net/u014380165/article/details/77019084)\n",
    "\"\"\"\n",
    "def focal_loss(gamma=2., alpha=4.):\n",
    "    gamma = float(gamma)\n",
    "    alpha = float(alpha)\n",
    "    def focal_loss_fixed(y_true, y_pred):\n",
    "        \"\"\"Focal loss for multi-classification\n",
    "        FL(p_t)=-alpha(1-p_t)^{gamma}ln(p_t)\n",
    "        \"\"\"\n",
    "        epsilon = 1e-8\n",
    "        y_true = tf.convert_to_tensor(y_true, tf.float32)\n",
    "        y_pred = tf.convert_to_tensor(y_pred, tf.float32)\n",
    "\n",
    "        model_out = tf.add(y_pred, epsilon)\n",
    "        ce = tf.multiply(y_true, -tf.log(model_out))\n",
    "        weight = tf.multiply(y_true, tf.pow(tf.subtract(1., model_out), gamma))\n",
    "        fl = tf.multiply(alpha, tf.multiply(weight, ce))\n",
    "        reduced_fl = tf.reduce_max(fl, axis=1)\n",
    "        return tf.reduce_mean(reduced_fl)\n",
    "    return focal_loss_fixed"
   ]
  },
  {
   "cell_type": "code",
   "execution_count": 9,
   "metadata": {
    "scrolled": true
   },
   "outputs": [
    {
     "name": "stdout",
     "output_type": "stream",
     "text": [
      "_________________________________________________________________\n",
      "Layer (type)                 Output Shape              Param #   \n",
      "=================================================================\n",
      "input_2 (InputLayer)         (None, 3072)              0         \n",
      "_________________________________________________________________\n",
      "hidden_layer1 (Dense)        (None, 512)               1573376   \n",
      "_________________________________________________________________\n",
      "batch_normalization_4 (Batch (None, 512)               2048      \n",
      "_________________________________________________________________\n",
      "hidden_layer2 (Dense)        (None, 256)               131328    \n",
      "_________________________________________________________________\n",
      "batch_normalization_5 (Batch (None, 256)               1024      \n",
      "_________________________________________________________________\n",
      "hidden_layer3 (Dense)        (None, 128)               32896     \n",
      "_________________________________________________________________\n",
      "batch_normalization_6 (Batch (None, 128)               512       \n",
      "_________________________________________________________________\n",
      "output (Dense)               (None, 10)                1290      \n",
      "=================================================================\n",
      "Total params: 1,742,474\n",
      "Trainable params: 1,740,682\n",
      "Non-trainable params: 1,792\n",
      "_________________________________________________________________\n",
      "Train on 50000 samples, validate on 10000 samples\n",
      "Epoch 1/50\n",
      "50000/50000 [==============================] - 8s 165us/step - loss: 6.0212 - acc: 0.3301 - val_loss: 6.6249 - val_acc: 0.3303\n",
      "Epoch 2/50\n",
      "50000/50000 [==============================] - 7s 148us/step - loss: 4.3955 - acc: 0.4416 - val_loss: 4.8744 - val_acc: 0.4094\n",
      "Epoch 3/50\n",
      "50000/50000 [==============================] - 7s 148us/step - loss: 3.9688 - acc: 0.4855 - val_loss: 4.4137 - val_acc: 0.4469\n",
      "Epoch 4/50\n",
      "50000/50000 [==============================] - 9s 173us/step - loss: 3.6859 - acc: 0.5130 - val_loss: 4.3051 - val_acc: 0.4531\n",
      "Epoch 5/50\n",
      "50000/50000 [==============================] - 9s 175us/step - loss: 3.4740 - acc: 0.5351 - val_loss: 4.1873 - val_acc: 0.4670\n",
      "Epoch 6/50\n",
      "50000/50000 [==============================] - 9s 177us/step - loss: 3.2827 - acc: 0.5536 - val_loss: 4.1398 - val_acc: 0.4693\n",
      "Epoch 7/50\n",
      "50000/50000 [==============================] - 9s 177us/step - loss: 3.1222 - acc: 0.5693 - val_loss: 3.9293 - val_acc: 0.4861\n",
      "Epoch 8/50\n",
      "50000/50000 [==============================] - 9s 176us/step - loss: 2.9534 - acc: 0.5885 - val_loss: 4.0381 - val_acc: 0.4823\n",
      "Epoch 9/50\n",
      "50000/50000 [==============================] - 9s 176us/step - loss: 2.8115 - acc: 0.5999 - val_loss: 4.1198 - val_acc: 0.4711\n",
      "Epoch 10/50\n",
      "50000/50000 [==============================] - 9s 188us/step - loss: 2.6646 - acc: 0.6157 - val_loss: 3.8862 - val_acc: 0.4963\n",
      "Epoch 11/50\n",
      "50000/50000 [==============================] - 9s 177us/step - loss: 2.5292 - acc: 0.6328 - val_loss: 3.9144 - val_acc: 0.4902\n",
      "Epoch 12/50\n",
      "50000/50000 [==============================] - 9s 177us/step - loss: 2.3981 - acc: 0.6469 - val_loss: 3.9511 - val_acc: 0.4867\n",
      "Epoch 13/50\n",
      "50000/50000 [==============================] - 9s 177us/step - loss: 2.2743 - acc: 0.6598 - val_loss: 3.9159 - val_acc: 0.4909\n",
      "Epoch 14/50\n",
      "50000/50000 [==============================] - 9s 174us/step - loss: 2.1642 - acc: 0.6738 - val_loss: 4.1239 - val_acc: 0.4817\n",
      "Epoch 15/50\n",
      "50000/50000 [==============================] - 9s 182us/step - loss: 2.0378 - acc: 0.6862 - val_loss: 4.2598 - val_acc: 0.4723\n",
      "Epoch 16/50\n",
      "50000/50000 [==============================] - 9s 177us/step - loss: 1.9205 - acc: 0.7016 - val_loss: 4.0272 - val_acc: 0.4971\n",
      "Epoch 17/50\n",
      "50000/50000 [==============================] - 9s 176us/step - loss: 1.8069 - acc: 0.7149 - val_loss: 4.3497 - val_acc: 0.4729\n",
      "Epoch 18/50\n",
      "50000/50000 [==============================] - 9s 177us/step - loss: 1.6997 - acc: 0.7309 - val_loss: 4.1936 - val_acc: 0.4814\n",
      "Epoch 19/50\n",
      "50000/50000 [==============================] - 9s 175us/step - loss: 1.5918 - acc: 0.7424 - val_loss: 4.3452 - val_acc: 0.4751\n",
      "Epoch 20/50\n",
      "50000/50000 [==============================] - 9s 176us/step - loss: 1.4944 - acc: 0.7545 - val_loss: 4.3217 - val_acc: 0.4844\n",
      "Epoch 21/50\n",
      "50000/50000 [==============================] - 9s 179us/step - loss: 1.3860 - acc: 0.7718 - val_loss: 4.2866 - val_acc: 0.4900\n",
      "Epoch 22/50\n",
      "50000/50000 [==============================] - 9s 181us/step - loss: 1.2871 - acc: 0.7843 - val_loss: 4.4433 - val_acc: 0.4806\n",
      "Epoch 23/50\n",
      "50000/50000 [==============================] - 9s 178us/step - loss: 1.1990 - acc: 0.7976 - val_loss: 4.5859 - val_acc: 0.4759\n",
      "Epoch 24/50\n",
      "50000/50000 [==============================] - 9s 176us/step - loss: 1.1193 - acc: 0.8092 - val_loss: 4.4199 - val_acc: 0.4885\n",
      "Epoch 25/50\n",
      "50000/50000 [==============================] - 9s 176us/step - loss: 1.0248 - acc: 0.8202 - val_loss: 4.6734 - val_acc: 0.4811\n",
      "Epoch 26/50\n",
      "50000/50000 [==============================] - 9s 176us/step - loss: 0.9438 - acc: 0.8334 - val_loss: 4.7693 - val_acc: 0.4826\n",
      "Epoch 27/50\n",
      "50000/50000 [==============================] - 9s 177us/step - loss: 0.8607 - acc: 0.8485 - val_loss: 4.7619 - val_acc: 0.4830\n",
      "Epoch 28/50\n",
      "50000/50000 [==============================] - 9s 178us/step - loss: 0.8040 - acc: 0.8572 - val_loss: 5.0807 - val_acc: 0.4692\n",
      "Epoch 29/50\n",
      "50000/50000 [==============================] - 9s 177us/step - loss: 0.7406 - acc: 0.8677 - val_loss: 5.0217 - val_acc: 0.4859\n",
      "Epoch 30/50\n",
      "50000/50000 [==============================] - 9s 176us/step - loss: 0.6739 - acc: 0.8792 - val_loss: 5.0599 - val_acc: 0.4774\n",
      "Epoch 31/50\n",
      "50000/50000 [==============================] - 9s 175us/step - loss: 0.6118 - acc: 0.8911 - val_loss: 5.0761 - val_acc: 0.4754\n",
      "Epoch 32/50\n",
      "50000/50000 [==============================] - 9s 177us/step - loss: 0.5508 - acc: 0.9027 - val_loss: 5.2372 - val_acc: 0.4865\n",
      "Epoch 33/50\n",
      "50000/50000 [==============================] - 9s 176us/step - loss: 0.5011 - acc: 0.9115 - val_loss: 5.2851 - val_acc: 0.4786\n",
      "Epoch 34/50\n",
      "50000/50000 [==============================] - 9s 177us/step - loss: 0.4574 - acc: 0.9175 - val_loss: 5.3446 - val_acc: 0.4788\n",
      "Epoch 35/50\n",
      "50000/50000 [==============================] - 9s 176us/step - loss: 0.4169 - acc: 0.9262 - val_loss: 5.3098 - val_acc: 0.4895\n",
      "Epoch 36/50\n",
      "50000/50000 [==============================] - 9s 178us/step - loss: 0.3637 - acc: 0.9394 - val_loss: 5.5371 - val_acc: 0.4795\n",
      "Epoch 37/50\n",
      "50000/50000 [==============================] - 9s 181us/step - loss: 0.3315 - acc: 0.9444 - val_loss: 5.5459 - val_acc: 0.4787\n",
      "Epoch 38/50\n",
      "50000/50000 [==============================] - 10s 192us/step - loss: 0.3020 - acc: 0.9501 - val_loss: 5.5652 - val_acc: 0.4838\n",
      "Epoch 39/50\n",
      "50000/50000 [==============================] - 10s 203us/step - loss: 0.2756 - acc: 0.9555 - val_loss: 5.7340 - val_acc: 0.4773\n",
      "Epoch 40/50\n",
      "50000/50000 [==============================] - 10s 195us/step - loss: 0.2509 - acc: 0.9605 - val_loss: 5.7418 - val_acc: 0.4862\n",
      "Epoch 41/50\n",
      "50000/50000 [==============================] - 9s 181us/step - loss: 0.2255 - acc: 0.9663 - val_loss: 5.7960 - val_acc: 0.4827\n",
      "Epoch 42/50\n",
      "50000/50000 [==============================] - 9s 177us/step - loss: 0.2040 - acc: 0.9706 - val_loss: 5.7900 - val_acc: 0.4873\n",
      "Epoch 43/50\n",
      "50000/50000 [==============================] - 9s 176us/step - loss: 0.1763 - acc: 0.9759 - val_loss: 5.9227 - val_acc: 0.4817\n",
      "Epoch 44/50\n",
      "50000/50000 [==============================] - 9s 177us/step - loss: 0.1584 - acc: 0.9799 - val_loss: 5.9266 - val_acc: 0.4891\n",
      "Epoch 45/50\n",
      "50000/50000 [==============================] - 9s 175us/step - loss: 0.1460 - acc: 0.9822 - val_loss: 6.0138 - val_acc: 0.4851\n",
      "Epoch 46/50\n",
      "50000/50000 [==============================] - 9s 178us/step - loss: 0.1301 - acc: 0.9851 - val_loss: 6.1225 - val_acc: 0.4897\n",
      "Epoch 47/50\n",
      "50000/50000 [==============================] - 9s 177us/step - loss: 0.1215 - acc: 0.9860 - val_loss: 6.2539 - val_acc: 0.4805\n",
      "Epoch 48/50\n",
      "50000/50000 [==============================] - 9s 177us/step - loss: 0.1118 - acc: 0.9883 - val_loss: 6.2628 - val_acc: 0.4834\n",
      "Epoch 49/50\n"
     ]
    },
    {
     "name": "stdout",
     "output_type": "stream",
     "text": [
      "50000/50000 [==============================] - 9s 176us/step - loss: 0.1001 - acc: 0.9901 - val_loss: 6.2070 - val_acc: 0.4906\n",
      "Epoch 50/50\n",
      "50000/50000 [==============================] - 9s 175us/step - loss: 0.0883 - acc: 0.9925 - val_loss: 6.2300 - val_acc: 0.4877\n"
     ]
    }
   ],
   "source": [
    "model = build_mlp(input_shape=x_train.shape[1:])\n",
    "model.summary()\n",
    "optimizer = keras.optimizers.SGD(lr=LEARNING_RATE, nesterov=True, momentum=MOMENTUM)\n",
    "\"\"\"\n",
    "# 在 compile 時，使用自定義的 loss function\n",
    "\"\"\"\n",
    "model.compile(loss=focal_loss(), metrics=[\"accuracy\"], optimizer=optimizer)\n",
    "\n",
    "model.fit(x_train, y_train, \n",
    "          epochs=EPOCHS, \n",
    "          batch_size=BATCH_SIZE, \n",
    "          validation_data=(x_test, y_test), \n",
    "          shuffle=True\n",
    "         )\n",
    "\n",
    "# Collect results\n",
    "train_loss = model.history.history[\"loss\"]\n",
    "valid_loss = model.history.history[\"val_loss\"]\n",
    "train_acc = model.history.history[\"acc\"]\n",
    "valid_acc = model.history.history[\"val_acc\"]\n",
    "\n",
    "#valid_f1sc = model.history.history['val_f1sc']"
   ]
  },
  {
   "cell_type": "code",
   "execution_count": 10,
   "metadata": {},
   "outputs": [
    {
     "data": {
      "image/png": "[encoded data removed]",
      "text/plain": [
       "<Figure size 432x288 with 1 Axes>"
      ]
     },
     "metadata": {
      "needs_background": "light"
     },
     "output_type": "display_data"
    },
    {
     "data": {
      "image/png": "[encoded data removed]",
      "text/plain": [
       "<Figure size 432x288 with 1 Axes>"
      ]
     },
     "metadata": {
      "needs_background": "light"
     },
     "output_type": "display_data"
    }
   ],
   "source": [
    "import matplotlib.pyplot as plt\n",
    "%matplotlib inline\n",
    "\n",
    "plt.plot(range(len(train_loss)), train_loss, label=\"train loss\")\n",
    "plt.plot(range(len(valid_loss)), valid_loss, label=\"valid loss\")\n",
    "plt.legend()\n",
    "plt.title(\"Loss\")\n",
    "plt.show()\n",
    "\n",
    "plt.plot(range(len(train_acc)), train_acc, label=\"train accuracy\")\n",
    "plt.plot(range(len(valid_acc)), valid_acc, label=\"valid accuracy\")\n",
    "plt.legend()\n",
    "plt.title(\"Accuracy\")\n",
    "plt.show()"
   ]
  },
  {
   "cell_type": "markdown",
   "metadata": {},
   "source": [
    "## Work\n",
    "1. 請自行定義一個 loss function, 為 0.3 * focal loss + 0.7 cross-entropy，訓練並比較結果\n"
   ]
  }
 ],
 "metadata": {
  "kernelspec": {
   "display_name": "Python 3",
   "language": "python",
   "name": "python3"
  },
  "language_info": {
   "codemirror_mode": {
    "name": "ipython",
    "version": 3
   },
   "file_extension": ".py",
   "mimetype": "text/x-python",
   "name": "python",
   "nbconvert_exporter": "python",
   "pygments_lexer": "ipython3",
   "version": "3.7.3"
  }
 },
 "nbformat": 4,
 "nbformat_minor": 2
}
