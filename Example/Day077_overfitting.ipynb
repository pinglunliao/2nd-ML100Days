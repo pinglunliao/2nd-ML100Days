{
 "cells": [
  {
   "cell_type": "markdown",
   "metadata": {},
   "source": [
    "## 範例重點\n",
    "* 學會從 Keras 內建函式取得資料\n",
    "* 能夠建立簡易的深度學習模型\n",
    "* 觀察並了解 Overfit 現象"
   ]
  },
  {
   "cell_type": "code",
   "execution_count": 1,
   "metadata": {},
   "outputs": [
    {
     "name": "stderr",
     "output_type": "stream",
     "text": [
      "Using TensorFlow backend.\n"
     ]
    }
   ],
   "source": [
    "import os\n",
    "import keras\n",
    "\n",
    "# 本範例不需使用 GPU, 將 GPU 設定為 \"無\"\n",
    "os.environ[\"CUDA_VISIBLE_DEVICES\"] = \"\""
   ]
  },
  {
   "cell_type": "code",
   "execution_count": 2,
   "metadata": {},
   "outputs": [],
   "source": [
    "# 從 Keras 的內建功能中，取得 train 與 test 資料集\n",
    "train, test = keras.datasets.cifar10.load_data()"
   ]
  },
  {
   "cell_type": "code",
   "execution_count": 3,
   "metadata": {},
   "outputs": [],
   "source": [
    "# 將 X 與 Y 獨立放進變數\n",
    "x_train, y_train = train\n",
    "x_test, y_test = test\n",
    "# 資料前處理 - 標準化\n",
    "x_train = x_train / 255.\n",
    "x_test = x_test / 255.\n",
    "\n",
    "# 將資料從圖形 (RGB) 轉為向量 (Single Vector)\n",
    "x_train = x_train.reshape((len(x_train), -1))\n",
    "x_test = x_test.reshape((len(x_test), -1))\n",
    "\n",
    "# 將目標轉為 one-hot encoding\n",
    "y_train = keras.utils.to_categorical(y_train, num_classes=10)\n",
    "y_test = keras.utils.to_categorical(y_test, num_classes=10)"
   ]
  },
  {
   "cell_type": "code",
   "execution_count": 4,
   "metadata": {},
   "outputs": [],
   "source": [
    "# 建立一個有三層隱藏層之神經網路\n",
    "def build_mlp():\n",
    "    input_layer = keras.layers.Input([x_train.shape[-1]])\n",
    "    x = keras.layers.Dense(units=512, activation=\"relu\")(input_layer)\n",
    "    x = keras.layers.Dense(units=256, activation=\"relu\")(x)\n",
    "    x = keras.layers.Dense(units=128, activation=\"relu\")(x)\n",
    "    out = keras.layers.Dense(units=10, activation=\"softmax\")(x)\n",
    "    \n",
    "    model = keras.models.Model(inputs=[input_layer], outputs=[out])\n",
    "    return model"
   ]
  },
  {
   "cell_type": "code",
   "execution_count": 5,
   "metadata": {},
   "outputs": [
    {
     "name": "stderr",
     "output_type": "stream",
     "text": [
      "WARNING: Logging before flag parsing goes to stderr.\n",
      "W1016 09:15:17.111979  7512 deprecation_wrapper.py:119] From C:\\ProgramData\\Anaconda3\\lib\\site-packages\\keras\\backend\\tensorflow_backend.py:74: The name tf.get_default_graph is deprecated. Please use tf.compat.v1.get_default_graph instead.\n",
      "\n",
      "W1016 09:15:17.570234  7512 deprecation_wrapper.py:119] From C:\\ProgramData\\Anaconda3\\lib\\site-packages\\keras\\backend\\tensorflow_backend.py:517: The name tf.placeholder is deprecated. Please use tf.compat.v1.placeholder instead.\n",
      "\n",
      "W1016 09:15:17.709850  7512 deprecation_wrapper.py:119] From C:\\ProgramData\\Anaconda3\\lib\\site-packages\\keras\\backend\\tensorflow_backend.py:4138: The name tf.random_uniform is deprecated. Please use tf.random.uniform instead.\n",
      "\n",
      "W1016 09:15:18.011959  7512 deprecation_wrapper.py:119] From C:\\ProgramData\\Anaconda3\\lib\\site-packages\\keras\\optimizers.py:790: The name tf.train.Optimizer is deprecated. Please use tf.compat.v1.train.Optimizer instead.\n",
      "\n",
      "W1016 09:15:18.071750  7512 deprecation_wrapper.py:119] From C:\\ProgramData\\Anaconda3\\lib\\site-packages\\keras\\backend\\tensorflow_backend.py:3295: The name tf.log is deprecated. Please use tf.math.log instead.\n",
      "\n"
     ]
    },
    {
     "name": "stdout",
     "output_type": "stream",
     "text": [
      "_________________________________________________________________\n",
      "Layer (type)                 Output Shape              Param #   \n",
      "=================================================================\n",
      "input_1 (InputLayer)         (None, 3072)              0         \n",
      "_________________________________________________________________\n",
      "dense_1 (Dense)              (None, 512)               1573376   \n",
      "_________________________________________________________________\n",
      "dense_2 (Dense)              (None, 256)               131328    \n",
      "_________________________________________________________________\n",
      "dense_3 (Dense)              (None, 128)               32896     \n",
      "_________________________________________________________________\n",
      "dense_4 (Dense)              (None, 10)                1290      \n",
      "=================================================================\n",
      "Total params: 1,738,890\n",
      "Trainable params: 1,738,890\n",
      "Non-trainable params: 0\n",
      "_________________________________________________________________\n"
     ]
    }
   ],
   "source": [
    "model = build_mlp()\n",
    "# 用 Keras 內建方法檢視模型各層參數量\n",
    "model.summary()\n",
    "\n",
    "optimizer = keras.optimizers.Adam(lr=0.001)\n",
    "model.compile(loss=\"categorical_crossentropy\", metrics=[\"accuracy\"], optimizer=optimizer)"
   ]
  },
  {
   "cell_type": "code",
   "execution_count": 6,
   "metadata": {},
   "outputs": [
    {
     "name": "stderr",
     "output_type": "stream",
     "text": [
      "W1016 09:15:18.584490  7512 deprecation.py:323] From C:\\ProgramData\\Anaconda3\\lib\\site-packages\\tensorflow\\python\\ops\\math_grad.py:1250: add_dispatch_support.<locals>.wrapper (from tensorflow.python.ops.array_ops) is deprecated and will be removed in a future version.\n",
      "Instructions for updating:\n",
      "Use tf.where in 2.0, which has the same broadcast rule as np.where\n",
      "W1016 09:15:18.708419  7512 deprecation_wrapper.py:119] From C:\\ProgramData\\Anaconda3\\lib\\site-packages\\keras\\backend\\tensorflow_backend.py:986: The name tf.assign_add is deprecated. Please use tf.compat.v1.assign_add instead.\n",
      "\n"
     ]
    },
    {
     "name": "stdout",
     "output_type": "stream",
     "text": [
      "Train on 50000 samples, validate on 10000 samples\n",
      "Epoch 1/100\n",
      "50000/50000 [==============================] - 13s 262us/step - loss: 1.9704 - acc: 0.2906 - val_loss: 1.8009 - val_acc: 0.3558\n",
      "Epoch 2/100\n",
      "50000/50000 [==============================] - 11s 228us/step - loss: 1.7328 - acc: 0.3829 - val_loss: 1.6575 - val_acc: 0.4059\n",
      "Epoch 3/100\n",
      "50000/50000 [==============================] - 13s 263us/step - loss: 1.6244 - acc: 0.4187 - val_loss: 1.6724 - val_acc: 0.4060\n",
      "Epoch 4/100\n",
      "50000/50000 [==============================] - 14s 272us/step - loss: 1.5668 - acc: 0.4418 - val_loss: 1.5912 - val_acc: 0.4293\n",
      "Epoch 5/100\n",
      "50000/50000 [==============================] - 14s 275us/step - loss: 1.5186 - acc: 0.4611 - val_loss: 1.5693 - val_acc: 0.4455\n",
      "Epoch 6/100\n",
      "50000/50000 [==============================] - 14s 281us/step - loss: 1.4759 - acc: 0.4730 - val_loss: 1.4741 - val_acc: 0.4777\n",
      "Epoch 7/100\n",
      "50000/50000 [==============================] - 14s 270us/step - loss: 1.4500 - acc: 0.4845 - val_loss: 1.4746 - val_acc: 0.4741\n",
      "Epoch 8/100\n",
      "50000/50000 [==============================] - 14s 282us/step - loss: 1.4137 - acc: 0.4955 - val_loss: 1.4507 - val_acc: 0.4812\n",
      "Epoch 9/100\n",
      "50000/50000 [==============================] - 13s 255us/step - loss: 1.3862 - acc: 0.5078 - val_loss: 1.4275 - val_acc: 0.4905\n",
      "Epoch 10/100\n",
      "50000/50000 [==============================] - 12s 239us/step - loss: 1.3586 - acc: 0.5137 - val_loss: 1.4492 - val_acc: 0.4848\n",
      "Epoch 11/100\n",
      "50000/50000 [==============================] - 13s 265us/step - loss: 1.3342 - acc: 0.5243 - val_loss: 1.3836 - val_acc: 0.5092\n",
      "Epoch 12/100\n",
      "50000/50000 [==============================] - 15s 305us/step - loss: 1.3018 - acc: 0.5354 - val_loss: 1.4448 - val_acc: 0.4926\n",
      "Epoch 13/100\n",
      "50000/50000 [==============================] - 14s 288us/step - loss: 1.2918 - acc: 0.5399 - val_loss: 1.4826 - val_acc: 0.4801\n",
      "Epoch 14/100\n",
      "50000/50000 [==============================] - 14s 280us/step - loss: 1.2672 - acc: 0.5499 - val_loss: 1.4472 - val_acc: 0.4860\n",
      "Epoch 15/100\n",
      "50000/50000 [==============================] - 14s 277us/step - loss: 1.2451 - acc: 0.5569 - val_loss: 1.4174 - val_acc: 0.4961\n",
      "Epoch 16/100\n",
      "50000/50000 [==============================] - 14s 272us/step - loss: 1.2286 - acc: 0.5624 - val_loss: 1.4236 - val_acc: 0.5020\n",
      "Epoch 17/100\n",
      "50000/50000 [==============================] - 12s 240us/step - loss: 1.2063 - acc: 0.5710 - val_loss: 1.4296 - val_acc: 0.4972\n",
      "Epoch 18/100\n",
      "50000/50000 [==============================] - 12s 239us/step - loss: 1.1809 - acc: 0.5806 - val_loss: 1.3737 - val_acc: 0.5110\n",
      "Epoch 19/100\n",
      "50000/50000 [==============================] - 12s 239us/step - loss: 1.1579 - acc: 0.5881 - val_loss: 1.3876 - val_acc: 0.5137\n",
      "Epoch 20/100\n",
      "50000/50000 [==============================] - 12s 239us/step - loss: 1.1415 - acc: 0.5949 - val_loss: 1.3487 - val_acc: 0.5227\n",
      "Epoch 21/100\n",
      "50000/50000 [==============================] - 12s 239us/step - loss: 1.1206 - acc: 0.6020 - val_loss: 1.3706 - val_acc: 0.5217\n",
      "Epoch 22/100\n",
      "50000/50000 [==============================] - 12s 239us/step - loss: 1.1021 - acc: 0.6054 - val_loss: 1.3731 - val_acc: 0.5242\n",
      "Epoch 23/100\n",
      "50000/50000 [==============================] - 12s 239us/step - loss: 1.0917 - acc: 0.6091 - val_loss: 1.3893 - val_acc: 0.5223\n",
      "Epoch 24/100\n",
      "50000/50000 [==============================] - 12s 241us/step - loss: 1.0574 - acc: 0.6221 - val_loss: 1.3743 - val_acc: 0.5258\n",
      "Epoch 25/100\n",
      "50000/50000 [==============================] - 12s 239us/step - loss: 1.0467 - acc: 0.6270 - val_loss: 1.3940 - val_acc: 0.5297\n",
      "Epoch 26/100\n",
      "50000/50000 [==============================] - 12s 239us/step - loss: 1.0292 - acc: 0.6337 - val_loss: 1.3780 - val_acc: 0.5282\n",
      "Epoch 27/100\n",
      "50000/50000 [==============================] - 12s 240us/step - loss: 1.0117 - acc: 0.6379 - val_loss: 1.4254 - val_acc: 0.5146\n",
      "Epoch 28/100\n",
      "50000/50000 [==============================] - 12s 243us/step - loss: 0.9842 - acc: 0.6483 - val_loss: 1.3930 - val_acc: 0.5354\n",
      "Epoch 29/100\n",
      "50000/50000 [==============================] - 13s 253us/step - loss: 0.9771 - acc: 0.6517 - val_loss: 1.4606 - val_acc: 0.5192\n",
      "Epoch 30/100\n",
      "50000/50000 [==============================] - 13s 263us/step - loss: 0.9525 - acc: 0.6581 - val_loss: 1.4315 - val_acc: 0.5239\n",
      "Epoch 31/100\n",
      "50000/50000 [==============================] - 12s 241us/step - loss: 0.9330 - acc: 0.6664 - val_loss: 1.4393 - val_acc: 0.5231\n",
      "Epoch 32/100\n",
      "50000/50000 [==============================] - 12s 240us/step - loss: 0.9133 - acc: 0.6734 - val_loss: 1.4949 - val_acc: 0.5170\n",
      "Epoch 33/100\n",
      "50000/50000 [==============================] - 12s 240us/step - loss: 0.9051 - acc: 0.6758 - val_loss: 1.4531 - val_acc: 0.5265\n",
      "Epoch 34/100\n",
      "50000/50000 [==============================] - 12s 241us/step - loss: 0.8828 - acc: 0.6811 - val_loss: 1.5316 - val_acc: 0.5214\n",
      "Epoch 35/100\n",
      "50000/50000 [==============================] - 12s 239us/step - loss: 0.8738 - acc: 0.6864 - val_loss: 1.5584 - val_acc: 0.5154\n",
      "Epoch 36/100\n",
      "50000/50000 [==============================] - 12s 239us/step - loss: 0.8441 - acc: 0.6998 - val_loss: 1.5257 - val_acc: 0.5234\n",
      "Epoch 37/100\n",
      "50000/50000 [==============================] - 12s 239us/step - loss: 0.8334 - acc: 0.7016 - val_loss: 1.5098 - val_acc: 0.5315\n",
      "Epoch 38/100\n",
      "50000/50000 [==============================] - 12s 238us/step - loss: 0.8175 - acc: 0.7078 - val_loss: 1.5754 - val_acc: 0.5156\n",
      "Epoch 39/100\n",
      "50000/50000 [==============================] - 12s 241us/step - loss: 0.8045 - acc: 0.7125 - val_loss: 1.5351 - val_acc: 0.5263\n",
      "Epoch 40/100\n",
      "50000/50000 [==============================] - 12s 246us/step - loss: 0.7816 - acc: 0.7228 - val_loss: 1.5528 - val_acc: 0.5269\n",
      "Epoch 41/100\n",
      "50000/50000 [==============================] - 12s 242us/step - loss: 0.7761 - acc: 0.7225 - val_loss: 1.6101 - val_acc: 0.51980s - loss: 0.7737\n",
      "Epoch 42/100\n",
      "50000/50000 [==============================] - 12s 243us/step - loss: 0.7561 - acc: 0.7301 - val_loss: 1.6693 - val_acc: 0.5092\n",
      "Epoch 43/100\n",
      "50000/50000 [==============================] - 12s 243us/step - loss: 0.7395 - acc: 0.7347 - val_loss: 1.6357 - val_acc: 0.5225\n",
      "Epoch 44/100\n",
      "50000/50000 [==============================] - 12s 250us/step - loss: 0.7234 - acc: 0.7410 - val_loss: 1.6368 - val_acc: 0.5211\n",
      "Epoch 45/100\n",
      "50000/50000 [==============================] - 13s 264us/step - loss: 0.7184 - acc: 0.7430 - val_loss: 1.6567 - val_acc: 0.5249\n",
      "Epoch 46/100\n",
      "50000/50000 [==============================] - 13s 257us/step - loss: 0.6989 - acc: 0.7490 - val_loss: 1.7306 - val_acc: 0.5100\n",
      "Epoch 47/100\n",
      "50000/50000 [==============================] - 14s 280us/step - loss: 0.6915 - acc: 0.7541 - val_loss: 1.6956 - val_acc: 0.5187\n",
      "Epoch 48/100\n",
      "50000/50000 [==============================] - 13s 252us/step - loss: 0.6688 - acc: 0.7598 - val_loss: 1.7456 - val_acc: 0.5141\n",
      "Epoch 49/100\n",
      "50000/50000 [==============================] - 12s 248us/step - loss: 0.6684 - acc: 0.7592 - val_loss: 1.7870 - val_acc: 0.5100\n",
      "Epoch 50/100\n",
      "50000/50000 [==============================] - 12s 248us/step - loss: 0.6497 - acc: 0.7678 - val_loss: 1.7788 - val_acc: 0.5099\n",
      "Epoch 51/100\n",
      "50000/50000 [==============================] - 12s 245us/step - loss: 0.6308 - acc: 0.7753 - val_loss: 1.8578 - val_acc: 0.5200\n",
      "Epoch 52/100\n",
      "50000/50000 [==============================] - 12s 249us/step - loss: 0.6281 - acc: 0.7738 - val_loss: 1.8178 - val_acc: 0.5158\n",
      "Epoch 53/100\n",
      "50000/50000 [==============================] - 12s 246us/step - loss: 0.6117 - acc: 0.7793 - val_loss: 1.8508 - val_acc: 0.5172\n",
      "Epoch 54/100\n",
      "50000/50000 [==============================] - 13s 255us/step - loss: 0.5914 - acc: 0.7875 - val_loss: 1.8978 - val_acc: 0.5157\n",
      "Epoch 55/100\n",
      "50000/50000 [==============================] - 12s 241us/step - loss: 0.5924 - acc: 0.7871 - val_loss: 1.8882 - val_acc: 0.5160\n",
      "Epoch 56/100\n",
      "50000/50000 [==============================] - 12s 241us/step - loss: 0.5721 - acc: 0.7941 - val_loss: 1.8806 - val_acc: 0.5173\n",
      "Epoch 57/100\n",
      "50000/50000 [==============================] - 12s 242us/step - loss: 0.5656 - acc: 0.7978 - val_loss: 1.9454 - val_acc: 0.5178\n",
      "Epoch 58/100\n"
     ]
    },
    {
     "name": "stdout",
     "output_type": "stream",
     "text": [
      "50000/50000 [==============================] - 12s 241us/step - loss: 0.5581 - acc: 0.8000 - val_loss: 1.9572 - val_acc: 0.5147\n",
      "Epoch 59/100\n",
      "50000/50000 [==============================] - 12s 240us/step - loss: 0.5470 - acc: 0.8029 - val_loss: 2.0085 - val_acc: 0.5100\n",
      "Epoch 60/100\n",
      "50000/50000 [==============================] - 12s 239us/step - loss: 0.5389 - acc: 0.8063 - val_loss: 2.0645 - val_acc: 0.5146\n",
      "Epoch 61/100\n",
      "50000/50000 [==============================] - 12s 239us/step - loss: 0.5201 - acc: 0.8125 - val_loss: 2.0382 - val_acc: 0.5150\n",
      "Epoch 62/100\n",
      "50000/50000 [==============================] - 12s 240us/step - loss: 0.5241 - acc: 0.8135 - val_loss: 2.1057 - val_acc: 0.5098\n",
      "Epoch 63/100\n",
      "50000/50000 [==============================] - 12s 242us/step - loss: 0.5121 - acc: 0.8156 - val_loss: 2.0856 - val_acc: 0.5141\n",
      "Epoch 64/100\n",
      "50000/50000 [==============================] - 12s 245us/step - loss: 0.5090 - acc: 0.8155 - val_loss: 2.1446 - val_acc: 0.5131\n",
      "Epoch 65/100\n",
      "50000/50000 [==============================] - 12s 242us/step - loss: 0.4840 - acc: 0.8277 - val_loss: 2.1793 - val_acc: 0.5064\n",
      "Epoch 66/100\n",
      "50000/50000 [==============================] - 12s 242us/step - loss: 0.4819 - acc: 0.8269 - val_loss: 2.2551 - val_acc: 0.5043\n",
      "Epoch 67/100\n",
      "50000/50000 [==============================] - 12s 240us/step - loss: 0.4626 - acc: 0.8343 - val_loss: 2.2042 - val_acc: 0.5125\n",
      "Epoch 68/100\n",
      "50000/50000 [==============================] - 12s 242us/step - loss: 0.4632 - acc: 0.8337 - val_loss: 2.2648 - val_acc: 0.5031\n",
      "Epoch 69/100\n",
      "50000/50000 [==============================] - 12s 243us/step - loss: 0.4467 - acc: 0.8401 - val_loss: 2.3191 - val_acc: 0.5060\n",
      "Epoch 70/100\n",
      "50000/50000 [==============================] - 12s 246us/step - loss: 0.4505 - acc: 0.8385 - val_loss: 2.3546 - val_acc: 0.5063\n",
      "Epoch 71/100\n",
      "50000/50000 [==============================] - 12s 241us/step - loss: 0.4518 - acc: 0.8369 - val_loss: 2.3082 - val_acc: 0.5157\n",
      "Epoch 72/100\n",
      "50000/50000 [==============================] - 13s 266us/step - loss: 0.4328 - acc: 0.8452 - val_loss: 2.3105 - val_acc: 0.5051\n",
      "Epoch 73/100\n",
      "50000/50000 [==============================] - 13s 265us/step - loss: 0.4311 - acc: 0.8452 - val_loss: 2.4086 - val_acc: 0.4911\n",
      "Epoch 74/100\n",
      "50000/50000 [==============================] - 12s 241us/step - loss: 0.4241 - acc: 0.8463 - val_loss: 2.4516 - val_acc: 0.4996\n",
      "Epoch 75/100\n",
      "50000/50000 [==============================] - 12s 240us/step - loss: 0.4079 - acc: 0.8538 - val_loss: 2.4663 - val_acc: 0.5064\n",
      "Epoch 76/100\n",
      "50000/50000 [==============================] - 12s 238us/step - loss: 0.4187 - acc: 0.8505 - val_loss: 2.4735 - val_acc: 0.5100\n",
      "Epoch 77/100\n",
      "50000/50000 [==============================] - 12s 248us/step - loss: 0.4004 - acc: 0.8562 - val_loss: 2.5106 - val_acc: 0.5014\n",
      "Epoch 78/100\n",
      "50000/50000 [==============================] - 12s 243us/step - loss: 0.3966 - acc: 0.8574 - val_loss: 2.5485 - val_acc: 0.4997\n",
      "Epoch 79/100\n",
      "50000/50000 [==============================] - 12s 239us/step - loss: 0.3631 - acc: 0.8697 - val_loss: 2.5357 - val_acc: 0.5059\n",
      "Epoch 80/100\n",
      "50000/50000 [==============================] - 12s 241us/step - loss: 0.3996 - acc: 0.8563 - val_loss: 2.6515 - val_acc: 0.5085\n",
      "Epoch 81/100\n",
      "50000/50000 [==============================] - 12s 244us/step - loss: 0.3694 - acc: 0.8681 - val_loss: 2.7112 - val_acc: 0.4990\n",
      "Epoch 82/100\n",
      "50000/50000 [==============================] - 12s 246us/step - loss: 0.3643 - acc: 0.8705 - val_loss: 2.6944 - val_acc: 0.5067\n",
      "Epoch 83/100\n",
      "50000/50000 [==============================] - 12s 239us/step - loss: 0.3657 - acc: 0.8682 - val_loss: 2.7066 - val_acc: 0.4998\n",
      "Epoch 84/100\n",
      "50000/50000 [==============================] - 12s 242us/step - loss: 0.3787 - acc: 0.8633 - val_loss: 2.7253 - val_acc: 0.4919\n",
      "Epoch 85/100\n",
      "50000/50000 [==============================] - 12s 244us/step - loss: 0.3471 - acc: 0.8763 - val_loss: 2.7066 - val_acc: 0.5032\n",
      "Epoch 86/100\n",
      "50000/50000 [==============================] - 12s 240us/step - loss: 0.3482 - acc: 0.8745 - val_loss: 2.7083 - val_acc: 0.4970\n",
      "Epoch 87/100\n",
      "50000/50000 [==============================] - 12s 243us/step - loss: 0.3754 - acc: 0.8632 - val_loss: 2.7217 - val_acc: 0.5031\n",
      "Epoch 88/100\n",
      "50000/50000 [==============================] - 12s 240us/step - loss: 0.3451 - acc: 0.8752 - val_loss: 2.7755 - val_acc: 0.4883\n",
      "Epoch 89/100\n",
      "50000/50000 [==============================] - 12s 241us/step - loss: 0.3231 - acc: 0.8842 - val_loss: 2.8316 - val_acc: 0.4951loss: 0.3231 - ac\n",
      "Epoch 90/100\n",
      "50000/50000 [==============================] - 12s 242us/step - loss: 0.3612 - acc: 0.8697 - val_loss: 2.8645 - val_acc: 0.4965\n",
      "Epoch 91/100\n",
      "50000/50000 [==============================] - 12s 241us/step - loss: 0.3342 - acc: 0.8800 - val_loss: 2.9296 - val_acc: 0.4998\n",
      "Epoch 92/100\n",
      "50000/50000 [==============================] - 12s 242us/step - loss: 0.3090 - acc: 0.8880 - val_loss: 2.7835 - val_acc: 0.5060\n",
      "Epoch 93/100\n",
      "50000/50000 [==============================] - 12s 244us/step - loss: 0.3090 - acc: 0.8880 - val_loss: 2.9274 - val_acc: 0.5066\n",
      "Epoch 94/100\n",
      "50000/50000 [==============================] - 12s 248us/step - loss: 0.3225 - acc: 0.8815 - val_loss: 2.9327 - val_acc: 0.4995\n",
      "Epoch 95/100\n",
      "50000/50000 [==============================] - 12s 240us/step - loss: 0.3204 - acc: 0.8846 - val_loss: 3.1092 - val_acc: 0.4892\n",
      "Epoch 96/100\n",
      "50000/50000 [==============================] - 12s 240us/step - loss: 0.3502 - acc: 0.8748 - val_loss: 2.9540 - val_acc: 0.5044\n",
      "Epoch 97/100\n",
      "50000/50000 [==============================] - 12s 240us/step - loss: 0.3086 - acc: 0.8886 - val_loss: 3.0626 - val_acc: 0.4972\n",
      "Epoch 98/100\n",
      "50000/50000 [==============================] - 12s 239us/step - loss: 0.2933 - acc: 0.8939 - val_loss: 2.9501 - val_acc: 0.5015\n",
      "Epoch 99/100\n",
      "50000/50000 [==============================] - 12s 240us/step - loss: 0.2890 - acc: 0.8973 - val_loss: 3.1067 - val_acc: 0.4956\n",
      "Epoch 100/100\n",
      "50000/50000 [==============================] - 12s 241us/step - loss: 0.2914 - acc: 0.8949 - val_loss: 3.0205 - val_acc: 0.5013\n"
     ]
    },
    {
     "data": {
      "text/plain": [
       "<keras.callbacks.History at 0x2666df0a470>"
      ]
     },
     "execution_count": 6,
     "metadata": {},
     "output_type": "execute_result"
    }
   ],
   "source": [
    "# 訓練模型並檢視驗證集的結果\n",
    "model.fit(x_train, y_train, \n",
    "          epochs=100, \n",
    "          batch_size=256, \n",
    "          validation_data=(x_test, y_test), \n",
    "          shuffle=True)"
   ]
  },
  {
   "cell_type": "code",
   "execution_count": 8,
   "metadata": {},
   "outputs": [
    {
     "data": {
      "image/png": "[encoded data removed]",
      "text/plain": [
       "<Figure size 432x288 with 1 Axes>"
      ]
     },
     "metadata": {
      "needs_background": "light"
     },
     "output_type": "display_data"
    },
    {
     "data": {
      "image/png": "[encoded data removed]",
      "text/plain": [
       "<Figure size 432x288 with 1 Axes>"
      ]
     },
     "metadata": {
      "needs_background": "light"
     },
     "output_type": "display_data"
    }
   ],
   "source": [
    "# 以視覺畫方式檢視訓練過程\n",
    "import matplotlib.pyplot as plt\n",
    "train_loss = model.history.history[\"loss\"]\n",
    "valid_loss = model.history.history[\"val_loss\"]\n",
    "\n",
    "train_acc = model.history.history[\"acc\"]\n",
    "valid_acc = model.history.history[\"val_acc\"]\n",
    "\n",
    "plt.plot(range(len(train_loss)), train_loss, label=\"train loss\")\n",
    "plt.plot(range(len(valid_loss)), valid_loss, label=\"valid loss\")\n",
    "plt.legend()\n",
    "plt.title(\"Loss\")\n",
    "plt.show()\n",
    "\n",
    "plt.plot(range(len(train_acc)), train_acc, label=\"train accuracy\")\n",
    "plt.plot(range(len(valid_acc)), valid_acc, label=\"valid accuracy\")\n",
    "plt.legend()\n",
    "plt.title(\"Accuracy\")\n",
    "plt.show()"
   ]
  },
  {
   "cell_type": "markdown",
   "metadata": {},
   "source": [
    "## 作業\n",
    "1. 請將 Epoch 加到 500 個，並觀察 learning curve 的走勢\n",
    "2. 請將 Optimizer 換成 SGD，並觀察 learning curve 的走勢"
   ]
  }
 ],
 "metadata": {
  "kernelspec": {
   "display_name": "Python 3",
   "language": "python",
   "name": "python3"
  },
  "language_info": {
   "codemirror_mode": {
    "name": "ipython",
    "version": 3
   },
   "file_extension": ".py",
   "mimetype": "text/x-python",
   "name": "python",
   "nbconvert_exporter": "python",
   "pygments_lexer": "ipython3",
   "version": "3.7.3"
  }
 },
 "nbformat": 4,
 "nbformat_minor": 2
}
