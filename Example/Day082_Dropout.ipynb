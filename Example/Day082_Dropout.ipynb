{
 "cells": [
  {
   "cell_type": "markdown",
   "metadata": {},
   "source": [
    "## 範例重點\n",
    "* 知道如何在 keras 中加入 dropout\n",
    "* 了解 dropout 中 ratio 的意義與對訓練的影響"
   ]
  },
  {
   "cell_type": "code",
   "execution_count": 1,
   "metadata": {},
   "outputs": [
    {
     "name": "stderr",
     "output_type": "stream",
     "text": [
      "Using TensorFlow backend.\n"
     ]
    }
   ],
   "source": [
    "import os\n",
    "import keras\n",
    "\n",
    "# 本範例不需使用 GPU, 將 GPU 設定為 \"無\"\n",
    "os.environ[\"CUDA_VISIBLE_DEVICES\"] = \"\""
   ]
  },
  {
   "cell_type": "code",
   "execution_count": 2,
   "metadata": {},
   "outputs": [],
   "source": [
    "train, test = keras.datasets.cifar10.load_data()"
   ]
  },
  {
   "cell_type": "code",
   "execution_count": 3,
   "metadata": {},
   "outputs": [],
   "source": [
    "## 資料前處理\n",
    "def preproc_x(x, flatten=True):\n",
    "    x = x / 255.\n",
    "    if flatten:\n",
    "        x = x.reshape((len(x), -1))\n",
    "    return x\n",
    "\n",
    "def preproc_y(y, num_classes=10):\n",
    "    if y.shape[-1] == 1:\n",
    "        y = keras.utils.to_categorical(y, num_classes)\n",
    "    return y    "
   ]
  },
  {
   "cell_type": "code",
   "execution_count": 4,
   "metadata": {},
   "outputs": [],
   "source": [
    "x_train, y_train = train\n",
    "x_test, y_test = test\n",
    "\n",
    "# 資料前處理 - X 標準化\n",
    "x_train = preproc_x(x_train)\n",
    "x_test = preproc_x(x_test)\n",
    "\n",
    "# 資料前處理 -Y 轉成 onehot\n",
    "y_train = preproc_y(y_train)\n",
    "y_test = preproc_y(y_test)"
   ]
  },
  {
   "cell_type": "code",
   "execution_count": 5,
   "metadata": {},
   "outputs": [],
   "source": [
    "from keras.layers import Dropout\n",
    "\n",
    "\"\"\"\n",
    "建立神經網路，並加入 dropout layer\n",
    "\"\"\"\n",
    "def build_mlp(input_shape, output_units=10, num_neurons=[512, 256, 128], drp_ratio=0.2):\n",
    "    input_layer = keras.layers.Input(input_shape)\n",
    "    \n",
    "    for i, n_units in enumerate(num_neurons):\n",
    "        if i == 0:\n",
    "            x = keras.layers.Dense(units=n_units, \n",
    "                                   activation=\"relu\", \n",
    "                                   name=\"hidden_layer\"+str(i+1))(input_layer)\n",
    "            x = Dropout(drp_ratio)(x)\n",
    "        else:\n",
    "            x = keras.layers.Dense(units=n_units, \n",
    "                                   activation=\"relu\", \n",
    "                                   name=\"hidden_layer\"+str(i+1))(x)\n",
    "            x = Dropout(drp_ratio)(x)\n",
    "    \n",
    "    out = keras.layers.Dense(units=output_units, activation=\"softmax\", name=\"output\")(x)\n",
    "    \n",
    "    model = keras.models.Model(inputs=[input_layer], outputs=[out])\n",
    "    return model"
   ]
  },
  {
   "cell_type": "code",
   "execution_count": 6,
   "metadata": {},
   "outputs": [],
   "source": [
    "## 超參數設定\n",
    "LEARNING_RATE = 1e-3\n",
    "EPOCHS = 50\n",
    "BATCH_SIZE = 256\n",
    "MOMENTUM = 0.95\n",
    "Dropout_EXP = 0.25"
   ]
  },
  {
   "cell_type": "code",
   "execution_count": 7,
   "metadata": {
    "scrolled": true
   },
   "outputs": [
    {
     "name": "stderr",
     "output_type": "stream",
     "text": [
      "WARNING: Logging before flag parsing goes to stderr.\n",
      "W1023 08:27:33.014760 12760 deprecation_wrapper.py:119] From C:\\ProgramData\\Anaconda3\\lib\\site-packages\\keras\\backend\\tensorflow_backend.py:74: The name tf.get_default_graph is deprecated. Please use tf.compat.v1.get_default_graph instead.\n",
      "\n",
      "W1023 08:27:33.689725 12760 deprecation_wrapper.py:119] From C:\\ProgramData\\Anaconda3\\lib\\site-packages\\keras\\backend\\tensorflow_backend.py:517: The name tf.placeholder is deprecated. Please use tf.compat.v1.placeholder instead.\n",
      "\n",
      "W1023 08:27:33.841293 12760 deprecation_wrapper.py:119] From C:\\ProgramData\\Anaconda3\\lib\\site-packages\\keras\\backend\\tensorflow_backend.py:4138: The name tf.random_uniform is deprecated. Please use tf.random.uniform instead.\n",
      "\n",
      "W1023 08:27:34.064392 12760 deprecation_wrapper.py:119] From C:\\ProgramData\\Anaconda3\\lib\\site-packages\\keras\\backend\\tensorflow_backend.py:133: The name tf.placeholder_with_default is deprecated. Please use tf.compat.v1.placeholder_with_default instead.\n",
      "\n",
      "W1023 08:27:34.098403 12760 deprecation.py:506] From C:\\ProgramData\\Anaconda3\\lib\\site-packages\\keras\\backend\\tensorflow_backend.py:3445: calling dropout (from tensorflow.python.ops.nn_ops) with keep_prob is deprecated and will be removed in a future version.\n",
      "Instructions for updating:\n",
      "Please use `rate` instead of `keep_prob`. Rate should be set to `rate = 1 - keep_prob`.\n",
      "W1023 08:27:34.327186 12760 deprecation_wrapper.py:119] From C:\\ProgramData\\Anaconda3\\lib\\site-packages\\keras\\optimizers.py:790: The name tf.train.Optimizer is deprecated. Please use tf.compat.v1.train.Optimizer instead.\n",
      "\n",
      "W1023 08:27:34.349323 12760 deprecation_wrapper.py:119] From C:\\ProgramData\\Anaconda3\\lib\\site-packages\\keras\\backend\\tensorflow_backend.py:3295: The name tf.log is deprecated. Please use tf.math.log instead.\n",
      "\n"
     ]
    },
    {
     "name": "stdout",
     "output_type": "stream",
     "text": [
      "_________________________________________________________________\n",
      "Layer (type)                 Output Shape              Param #   \n",
      "=================================================================\n",
      "input_1 (InputLayer)         (None, 3072)              0         \n",
      "_________________________________________________________________\n",
      "hidden_layer1 (Dense)        (None, 512)               1573376   \n",
      "_________________________________________________________________\n",
      "dropout_1 (Dropout)          (None, 512)               0         \n",
      "_________________________________________________________________\n",
      "hidden_layer2 (Dense)        (None, 256)               131328    \n",
      "_________________________________________________________________\n",
      "dropout_2 (Dropout)          (None, 256)               0         \n",
      "_________________________________________________________________\n",
      "hidden_layer3 (Dense)        (None, 128)               32896     \n",
      "_________________________________________________________________\n",
      "dropout_3 (Dropout)          (None, 128)               0         \n",
      "_________________________________________________________________\n",
      "output (Dense)               (None, 10)                1290      \n",
      "=================================================================\n",
      "Total params: 1,738,890\n",
      "Trainable params: 1,738,890\n",
      "Non-trainable params: 0\n",
      "_________________________________________________________________\n"
     ]
    },
    {
     "name": "stderr",
     "output_type": "stream",
     "text": [
      "W1023 08:27:34.763468 12760 deprecation.py:323] From C:\\ProgramData\\Anaconda3\\lib\\site-packages\\tensorflow\\python\\ops\\math_grad.py:1250: add_dispatch_support.<locals>.wrapper (from tensorflow.python.ops.array_ops) is deprecated and will be removed in a future version.\n",
      "Instructions for updating:\n",
      "Use tf.where in 2.0, which has the same broadcast rule as np.where\n"
     ]
    },
    {
     "name": "stdout",
     "output_type": "stream",
     "text": [
      "Train on 50000 samples, validate on 10000 samples\n",
      "Epoch 1/50\n",
      "50000/50000 [==============================] - 12s 231us/step - loss: 2.1885 - acc: 0.1898 - val_loss: 1.9894 - val_acc: 0.3014\n",
      "Epoch 2/50\n",
      "50000/50000 [==============================] - 10s 204us/step - loss: 1.9947 - acc: 0.2714 - val_loss: 1.8679 - val_acc: 0.3409\n",
      "Epoch 3/50\n",
      "50000/50000 [==============================] - 12s 240us/step - loss: 1.9124 - acc: 0.3051 - val_loss: 1.8091 - val_acc: 0.3607\n",
      "Epoch 4/50\n",
      "50000/50000 [==============================] - 11s 228us/step - loss: 1.8561 - acc: 0.3305 - val_loss: 1.7477 - val_acc: 0.3805\n",
      "Epoch 5/50\n",
      "50000/50000 [==============================] - 12s 233us/step - loss: 1.8139 - acc: 0.3505 - val_loss: 1.7073 - val_acc: 0.4016\n",
      "Epoch 6/50\n",
      "50000/50000 [==============================] - 11s 229us/step - loss: 1.7744 - acc: 0.3662 - val_loss: 1.6679 - val_acc: 0.4141\n",
      "Epoch 7/50\n",
      "50000/50000 [==============================] - 12s 250us/step - loss: 1.7434 - acc: 0.3755 - val_loss: 1.6394 - val_acc: 0.4250\n",
      "Epoch 8/50\n",
      "50000/50000 [==============================] - 12s 248us/step - loss: 1.7187 - acc: 0.3849 - val_loss: 1.6235 - val_acc: 0.4306\n",
      "Epoch 9/50\n",
      "50000/50000 [==============================] - 13s 266us/step - loss: 1.6976 - acc: 0.3928 - val_loss: 1.5934 - val_acc: 0.4426\n",
      "Epoch 10/50\n",
      "50000/50000 [==============================] - 12s 248us/step - loss: 1.6779 - acc: 0.4001 - val_loss: 1.5830 - val_acc: 0.4414\n",
      "Epoch 11/50\n",
      "50000/50000 [==============================] - 13s 255us/step - loss: 1.6513 - acc: 0.4129 - val_loss: 1.5683 - val_acc: 0.4466\n",
      "Epoch 12/50\n",
      "50000/50000 [==============================] - 12s 230us/step - loss: 1.6388 - acc: 0.4180 - val_loss: 1.5445 - val_acc: 0.4605\n",
      "Epoch 13/50\n",
      "50000/50000 [==============================] - 12s 249us/step - loss: 1.6190 - acc: 0.4242 - val_loss: 1.5277 - val_acc: 0.4635\n",
      "Epoch 14/50\n",
      "50000/50000 [==============================] - 12s 232us/step - loss: 1.6030 - acc: 0.4322 - val_loss: 1.5152 - val_acc: 0.4695\n",
      "Epoch 15/50\n",
      "50000/50000 [==============================] - 13s 250us/step - loss: 1.5896 - acc: 0.4339 - val_loss: 1.5045 - val_acc: 0.4691\n",
      "Epoch 16/50\n",
      "50000/50000 [==============================] - 14s 271us/step - loss: 1.5770 - acc: 0.4369 - val_loss: 1.4902 - val_acc: 0.4719\n",
      "Epoch 17/50\n",
      "50000/50000 [==============================] - 13s 262us/step - loss: 1.5599 - acc: 0.4459 - val_loss: 1.4847 - val_acc: 0.4744\n",
      "Epoch 18/50\n",
      "50000/50000 [==============================] - 13s 267us/step - loss: 1.5522 - acc: 0.4487 - val_loss: 1.4701 - val_acc: 0.4801\n",
      "Epoch 19/50\n",
      "50000/50000 [==============================] - 11s 229us/step - loss: 1.5344 - acc: 0.4537 - val_loss: 1.4650 - val_acc: 0.4751\n",
      "Epoch 20/50\n",
      "50000/50000 [==============================] - 12s 242us/step - loss: 1.5257 - acc: 0.4555 - val_loss: 1.4451 - val_acc: 0.4855\n",
      "Epoch 21/50\n",
      "50000/50000 [==============================] - 13s 261us/step - loss: 1.5119 - acc: 0.4618 - val_loss: 1.4372 - val_acc: 0.4899\n",
      "Epoch 22/50\n",
      "50000/50000 [==============================] - 12s 246us/step - loss: 1.5038 - acc: 0.4664 - val_loss: 1.4330 - val_acc: 0.4938\n",
      "Epoch 23/50\n",
      "50000/50000 [==============================] - 13s 255us/step - loss: 1.4910 - acc: 0.4687 - val_loss: 1.4287 - val_acc: 0.4946\n",
      "Epoch 24/50\n",
      "50000/50000 [==============================] - 12s 248us/step - loss: 1.4769 - acc: 0.4727 - val_loss: 1.4207 - val_acc: 0.4969\n",
      "Epoch 25/50\n",
      "50000/50000 [==============================] - 15s 305us/step - loss: 1.4674 - acc: 0.4782 - val_loss: 1.4142 - val_acc: 0.4934\n",
      "Epoch 26/50\n",
      "50000/50000 [==============================] - 13s 254us/step - loss: 1.4647 - acc: 0.4813 - val_loss: 1.4104 - val_acc: 0.4972\n",
      "Epoch 27/50\n",
      "50000/50000 [==============================] - 13s 253us/step - loss: 1.4511 - acc: 0.4850 - val_loss: 1.3934 - val_acc: 0.5060\n",
      "Epoch 28/50\n",
      "50000/50000 [==============================] - 12s 237us/step - loss: 1.4390 - acc: 0.4875 - val_loss: 1.3860 - val_acc: 0.5041\n",
      "Epoch 29/50\n",
      "50000/50000 [==============================] - 13s 266us/step - loss: 1.4327 - acc: 0.4879 - val_loss: 1.3818 - val_acc: 0.5111\n",
      "Epoch 30/50\n",
      "50000/50000 [==============================] - 13s 261us/step - loss: 1.4250 - acc: 0.4927 - val_loss: 1.3752 - val_acc: 0.5102\n",
      "Epoch 31/50\n",
      "50000/50000 [==============================] - 12s 239us/step - loss: 1.4164 - acc: 0.4967 - val_loss: 1.3752 - val_acc: 0.5105\n",
      "Epoch 32/50\n",
      "50000/50000 [==============================] - 15s 292us/step - loss: 1.4054 - acc: 0.4999 - val_loss: 1.3692 - val_acc: 0.5129\n",
      "Epoch 33/50\n",
      "50000/50000 [==============================] - 12s 249us/step - loss: 1.3956 - acc: 0.5041 - val_loss: 1.3730 - val_acc: 0.5055\n",
      "Epoch 34/50\n",
      "50000/50000 [==============================] - 13s 255us/step - loss: 1.3895 - acc: 0.5056 - val_loss: 1.3616 - val_acc: 0.5133\n",
      "Epoch 35/50\n",
      "50000/50000 [==============================] - 12s 239us/step - loss: 1.3837 - acc: 0.5058 - val_loss: 1.3613 - val_acc: 0.5192\n",
      "Epoch 36/50\n",
      "50000/50000 [==============================] - 12s 246us/step - loss: 1.3772 - acc: 0.5073 - val_loss: 1.3478 - val_acc: 0.5208\n",
      "Epoch 37/50\n",
      "50000/50000 [==============================] - 12s 244us/step - loss: 1.3681 - acc: 0.5118 - val_loss: 1.3520 - val_acc: 0.5166\n",
      "Epoch 38/50\n",
      "50000/50000 [==============================] - 13s 250us/step - loss: 1.3642 - acc: 0.5129 - val_loss: 1.3498 - val_acc: 0.5177\n",
      "Epoch 39/50\n",
      "50000/50000 [==============================] - 12s 248us/step - loss: 1.3528 - acc: 0.5159 - val_loss: 1.3437 - val_acc: 0.5195\n",
      "Epoch 40/50\n",
      "50000/50000 [==============================] - 12s 246us/step - loss: 1.3508 - acc: 0.5181 - val_loss: 1.3388 - val_acc: 0.5211\n",
      "Epoch 41/50\n",
      "50000/50000 [==============================] - 13s 261us/step - loss: 1.3400 - acc: 0.5213 - val_loss: 1.3323 - val_acc: 0.5240\n",
      "Epoch 42/50\n",
      "50000/50000 [==============================] - 12s 239us/step - loss: 1.3324 - acc: 0.5248 - val_loss: 1.3325 - val_acc: 0.5229\n",
      "Epoch 43/50\n",
      "50000/50000 [==============================] - 12s 249us/step - loss: 1.3333 - acc: 0.5232 - val_loss: 1.3263 - val_acc: 0.5269\n",
      "Epoch 44/50\n",
      "50000/50000 [==============================] - 12s 242us/step - loss: 1.3245 - acc: 0.5256 - val_loss: 1.3289 - val_acc: 0.5252\n",
      "Epoch 45/50\n",
      "50000/50000 [==============================] - 12s 234us/step - loss: 1.3133 - acc: 0.5313 - val_loss: 1.3184 - val_acc: 0.5302\n",
      "Epoch 46/50\n",
      "50000/50000 [==============================] - 13s 255us/step - loss: 1.3096 - acc: 0.5311 - val_loss: 1.3139 - val_acc: 0.5306\n",
      "Epoch 47/50\n",
      "50000/50000 [==============================] - 12s 247us/step - loss: 1.3021 - acc: 0.5344 - val_loss: 1.3155 - val_acc: 0.5260\n",
      "Epoch 48/50\n",
      "50000/50000 [==============================] - 14s 282us/step - loss: 1.2969 - acc: 0.5365 - val_loss: 1.3052 - val_acc: 0.5344\n",
      "Epoch 49/50\n",
      "50000/50000 [==============================] - 14s 279us/step - loss: 1.2895 - acc: 0.5394 - val_loss: 1.3087 - val_acc: 0.5291\n",
      "Epoch 50/50\n",
      "50000/50000 [==============================] - 11s 228us/step - loss: 1.2835 - acc: 0.5411 - val_loss: 1.3049 - val_acc: 0.5330\n"
     ]
    }
   ],
   "source": [
    "model = build_mlp(input_shape=x_train.shape[1:], drp_ratio=Dropout_EXP)\n",
    "model.summary()\n",
    "optimizer = keras.optimizers.SGD(lr=LEARNING_RATE, nesterov=True, momentum=MOMENTUM)\n",
    "model.compile(loss=\"categorical_crossentropy\", metrics=[\"accuracy\"], optimizer=optimizer)\n",
    "\n",
    "model.fit(x_train, y_train, \n",
    "          epochs=EPOCHS, \n",
    "          batch_size=BATCH_SIZE, \n",
    "          validation_data=(x_test, y_test), \n",
    "          shuffle=True)\n",
    "\n",
    "# Collect results\n",
    "train_loss = model.history.history[\"loss\"]\n",
    "valid_loss = model.history.history[\"val_loss\"]\n",
    "train_acc = model.history.history[\"acc\"]\n",
    "valid_acc = model.history.history[\"val_acc\"]"
   ]
  },
  {
   "cell_type": "code",
   "execution_count": 8,
   "metadata": {},
   "outputs": [
    {
     "data": {
      "image/png": "[encoded data removed]",
      "text/plain": [
       "<Figure size 432x288 with 1 Axes>"
      ]
     },
     "metadata": {
      "needs_background": "light"
     },
     "output_type": "display_data"
    },
    {
     "data": {
      "image/png": "[encoded data removed]",
      "text/plain": [
       "<Figure size 432x288 with 1 Axes>"
      ]
     },
     "metadata": {
      "needs_background": "light"
     },
     "output_type": "display_data"
    }
   ],
   "source": [
    "import matplotlib.pyplot as plt\n",
    "%matplotlib inline\n",
    "\n",
    "plt.plot(range(len(train_loss)), train_loss, label=\"train loss\")\n",
    "plt.plot(range(len(valid_loss)), valid_loss, label=\"valid loss\")\n",
    "plt.legend()\n",
    "plt.title(\"Loss\")\n",
    "plt.show()\n",
    "\n",
    "plt.plot(range(len(train_acc)), train_acc, label=\"train accuracy\")\n",
    "plt.plot(range(len(valid_acc)), valid_acc, label=\"valid accuracy\")\n",
    "plt.legend()\n",
    "plt.title(\"Accuracy\")\n",
    "plt.show()"
   ]
  },
  {
   "cell_type": "markdown",
   "metadata": {},
   "source": [
    "## Work\n",
    "1. 請比較使用不同層數以及不同 Dropout rate 對訓練的效果\n",
    "2. 將 optimizer 改成使用 Adam 並加上適當的 dropout rate 檢視結果"
   ]
  }
 ],
 "metadata": {
  "kernelspec": {
   "display_name": "Python 3",
   "language": "python",
   "name": "python3"
  },
  "language_info": {
   "codemirror_mode": {
    "name": "ipython",
    "version": 3
   },
   "file_extension": ".py",
   "mimetype": "text/x-python",
   "name": "python",
   "nbconvert_exporter": "python",
   "pygments_lexer": "ipython3",
   "version": "3.7.3"
  }
 },
 "nbformat": 4,
 "nbformat_minor": 2
}
