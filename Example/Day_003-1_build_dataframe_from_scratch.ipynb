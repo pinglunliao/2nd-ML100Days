{
 "cells": [
  {
   "cell_type": "code",
   "execution_count": 4,
   "metadata": {},
   "outputs": [],
   "source": [
    "import pandas as pd"
   ]
  },
  {
   "cell_type": "markdown",
   "metadata": {
    "collapsed": true
   },
   "source": [
    "### 方法一"
   ]
  },
  {
   "cell_type": "code",
   "execution_count": 5,
   "metadata": {},
   "outputs": [],
   "source": [
    "data = {'weekday': ['Sun', 'Sun', 'Mon', 'Mon'],\n",
    "        'city': ['Austin', 'Dallas', 'Austin', 'Dallas'],\n",
    "        'visitor': [139, 237, 326, 456]}"
   ]
  },
  {
   "cell_type": "code",
   "execution_count": 6,
   "metadata": {},
   "outputs": [
    {
     "name": "stdout",
     "output_type": "stream",
     "text": [
      "  weekday    city  visitor\n",
      "0     Sun  Austin      139\n",
      "1     Sun  Dallas      237\n",
      "2     Mon  Austin      326\n",
      "3     Mon  Dallas      456\n"
     ]
    }
   ],
   "source": [
    "visitors_1 = pd.DataFrame(data)\n",
    "print(visitors_1)"
   ]
  },
  {
   "cell_type": "markdown",
   "metadata": {},
   "source": [
    "### 方法二"
   ]
  },
  {
   "cell_type": "code",
   "execution_count": 4,
   "metadata": {
    "collapsed": true
   },
   "outputs": [],
   "source": [
    "cities = ['Austin', 'Dallas', 'Austin', 'Dallas']\n",
    "weekdays = ['Sun', 'Sun', 'Mon', 'Mon']\n",
    "visitors = [139, 237, 326, 456]\n",
    "\n",
    "list_labels = ['city', 'weekday', 'visitor']\n",
    "list_cols = [cities, weekdays, visitors]\n",
    "\n",
    "zipped = list(zip(list_labels, list_cols))"
   ]
  },
  {
   "cell_type": "code",
   "execution_count": 5,
   "metadata": {},
   "outputs": [
    {
     "name": "stdout",
     "output_type": "stream",
     "text": [
      "     city  visitor weekday\n",
      "0  Austin      139     Sun\n",
      "1  Dallas      237     Sun\n",
      "2  Austin      326     Mon\n",
      "3  Dallas      456     Mon\n"
     ]
    }
   ],
   "source": [
    "visitors_2 = pd.DataFrame(dict(zipped))\n",
    "print(visitors_2)"
   ]
  },
  {
   "cell_type": "markdown",
   "metadata": {},
   "source": [
    "## 一個簡單例子\n",
    "假設你想知道如果利用 pandas 計算上述資料中，每個 weekday 的平均 visitor 數量，\n",
    "\n",
    "通過 google 你找到了 https://stackoverflow.com/questions/30482071/how-to-calculate-mean-values-grouped-on-another-column-in-pandas\n",
    "\n",
    "想要測試的時候就可以用 visitors_1 這個只有 4 筆資料的資料集來測試程式碼"
   ]
  },
  {
   "cell_type": "code",
   "execution_count": 7,
   "metadata": {},
   "outputs": [
    {
     "data": {
      "text/plain": [
       "weekday\n",
       "Mon    456\n",
       "Sun    237\n",
       "Name: visitor, dtype: int64"
      ]
     },
     "execution_count": 7,
     "metadata": {},
     "output_type": "execute_result"
    }
   ],
   "source": [
    "visitors_1.groupby(by=\"weekday\")['visitor'].max()"
   ]
  },
  {
   "cell_type": "markdown",
   "metadata": {},
   "source": [
    "## 練習時間\n",
    "在小量的資料上，我們用眼睛就可以看得出來程式碼是否有跑出我們理想中的結果\n",
    "\n",
    "請嘗試想像一個你需要的資料結構 (裡面的值可以是隨機的)，然後用上述的方法把它變成 pandas DataFrame\n",
    "\n",
    "#### Ex: 想像一個 dataframe 有兩個欄位，一個是國家，一個是人口，求人口數最多的國家\n",
    "\n",
    "### Hints: [隨機產生數值](https://blog.csdn.net/christianashannon/article/details/78867204)"
   ]
  },
  {
   "cell_type": "code",
   "execution_count": 2,
   "metadata": {},
   "outputs": [
    {
     "name": "stdout",
     "output_type": "stream",
     "text": [
      "    nation  population\n",
      "0      949        5760\n",
      "1     1611        5323\n",
      "2     3325         195\n",
      "3     1736        3842\n",
      "4     3100        2369\n",
      "5      360        2030\n",
      "6     2745        9907\n",
      "7     4685        6186\n",
      "8     6275         554\n",
      "9      174        6606\n",
      "10    6269         798\n",
      "11    4505        2375\n",
      "12    1861        3059\n",
      "13    9337        8566\n",
      "14    5691        3614\n",
      "15    9533        4829\n",
      "16    1257        3330\n",
      "17    4477        5595\n",
      "18    9227        9023\n",
      "19    2603        7884\n",
      "20    7988        8341\n",
      "21    2010        1733\n",
      "22    5117        5816\n",
      "23    8227        2593\n",
      "24    7952        8200\n",
      "25    5488         220\n",
      "26    9276        7824\n",
      "27    3591        8497\n",
      "28    3798        5636\n",
      "29    5495        5784\n",
      "..     ...         ...\n",
      "70    4614        9286\n",
      "71      24        5377\n",
      "72    8932        8314\n",
      "73    4041        1446\n",
      "74    2988        7870\n",
      "75    9290        7819\n",
      "76    5498        6212\n",
      "77    4350        7430\n",
      "78    9295        2219\n",
      "79    7916        9540\n",
      "80    3109        9681\n",
      "81    2373        8168\n",
      "82    5366        7929\n",
      "83    8448          91\n",
      "84    5869        2634\n",
      "85    9065        3764\n",
      "86    9880        3319\n",
      "87    7273        8041\n",
      "88    8408        5915\n",
      "89    1452        3411\n",
      "90     581        5826\n",
      "91    2823        5302\n",
      "92    9065        5829\n",
      "93    7156        3560\n",
      "94    4382        3549\n",
      "95    9194        3445\n",
      "96    2089        8081\n",
      "97    6711        1837\n",
      "98    6669        2414\n",
      "99    8995         707\n",
      "\n",
      "[100 rows x 2 columns]\n"
     ]
    }
   ],
   "source": [
    "import pandas as pd\n",
    "import numpy as np\n",
    "data = {'nation': np.random.randint(10000,size=100),\n",
    "        'population': np.random.randint(10000,size=100)}\n",
    "nationPopulation = pd.DataFrame(data)\n",
    "print(nationPopulation)"
   ]
  }
 ],
 "metadata": {
  "kernelspec": {
   "display_name": "Python 3",
   "language": "python",
   "name": "python3"
  },
  "language_info": {
   "codemirror_mode": {
    "name": "ipython",
    "version": 3
   },
   "file_extension": ".py",
   "mimetype": "text/x-python",
   "name": "python",
   "nbconvert_exporter": "python",
   "pygments_lexer": "ipython3",
   "version": "3.7.1"
  }
 },
 "nbformat": 4,
 "nbformat_minor": 2
}
