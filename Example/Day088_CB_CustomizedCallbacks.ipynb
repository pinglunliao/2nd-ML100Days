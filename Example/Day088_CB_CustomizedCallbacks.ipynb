{
 "cells": [
  {
   "cell_type": "markdown",
   "metadata": {},
   "source": [
    "## 範例重點\n",
    "* 學習如何在 keras 中加入自定義的 callbacks\n",
    "* 知道 callback function 可以動作的時機"
   ]
  },
  {
   "cell_type": "code",
   "execution_count": 1,
   "metadata": {},
   "outputs": [
    {
     "name": "stderr",
     "output_type": "stream",
     "text": [
      "Using TensorFlow backend.\n"
     ]
    }
   ],
   "source": [
    "import os\n",
    "import keras\n",
    "\n",
    "# 本範例不需使用 GPU, 將 GPU 設定為 \"無\"\n",
    "os.environ[\"CUDA_VISIBLE_DEVICES\"] = \"\""
   ]
  },
  {
   "cell_type": "code",
   "execution_count": 2,
   "metadata": {},
   "outputs": [],
   "source": [
    "train, test = keras.datasets.cifar10.load_data()"
   ]
  },
  {
   "cell_type": "code",
   "execution_count": 3,
   "metadata": {},
   "outputs": [],
   "source": [
    "## 資料前處理\n",
    "def preproc_x(x, flatten=True):\n",
    "    x = x / 255.\n",
    "    if flatten:\n",
    "        x = x.reshape((len(x), -1))\n",
    "    return x\n",
    "\n",
    "def preproc_y(y, num_classes=10):\n",
    "    if y.shape[-1] == 1:\n",
    "        y = keras.utils.to_categorical(y, num_classes)\n",
    "    return y    "
   ]
  },
  {
   "cell_type": "code",
   "execution_count": 4,
   "metadata": {},
   "outputs": [],
   "source": [
    "x_train, y_train = train\n",
    "x_test, y_test = test\n",
    "\n",
    "# 資料前處理 - X 標準化\n",
    "x_train = preproc_x(x_train)\n",
    "x_test = preproc_x(x_test)\n",
    "\n",
    "# 資料前處理 -Y 轉成 onehot\n",
    "y_train = preproc_y(y_train)\n",
    "y_test = preproc_y(y_test)"
   ]
  },
  {
   "cell_type": "code",
   "execution_count": 5,
   "metadata": {},
   "outputs": [],
   "source": [
    "from keras.layers import BatchNormalization\n",
    "\n",
    "\"\"\"\n",
    "建立神經網路，並加入 BN layer\n",
    "\"\"\"\n",
    "def build_mlp(input_shape, output_units=10, num_neurons=[512, 256, 128]):\n",
    "    input_layer = keras.layers.Input(input_shape)\n",
    "    \n",
    "    for i, n_units in enumerate(num_neurons):\n",
    "        if i == 0:\n",
    "            x = keras.layers.Dense(units=n_units, \n",
    "                                   activation=\"relu\", \n",
    "                                   name=\"hidden_layer\"+str(i+1))(input_layer)\n",
    "            x = BatchNormalization()(x)\n",
    "        else:\n",
    "            x = keras.layers.Dense(units=n_units, \n",
    "                                   activation=\"relu\", \n",
    "                                   name=\"hidden_layer\"+str(i+1))(x)\n",
    "            x = BatchNormalization()(x)\n",
    "    \n",
    "    out = keras.layers.Dense(units=output_units, activation=\"softmax\", name=\"output\")(x)\n",
    "    \n",
    "    model = keras.models.Model(inputs=[input_layer], outputs=[out])\n",
    "    return model"
   ]
  },
  {
   "cell_type": "code",
   "execution_count": 6,
   "metadata": {},
   "outputs": [],
   "source": [
    "## 超參數設定\n",
    "LEARNING_RATE = 1e-3\n",
    "EPOCHS = 50\n",
    "BATCH_SIZE = 1024\n",
    "MOMENTUM = 0.95"
   ]
  },
  {
   "cell_type": "code",
   "execution_count": 7,
   "metadata": {},
   "outputs": [],
   "source": [
    "\"\"\"\n",
    "# 載入 Callbacks，撰寫一個 f1 score 的 callback function\n",
    "\"\"\"\n",
    "\n",
    "from keras.callbacks import Callback\n",
    "from sklearn.metrics import f1_score\n",
    "\n",
    "class f1sc(Callback):\n",
    "    def on_train_begin(self, epoch, logs = {}):\n",
    "        logs = logs or {}\n",
    "        record_items = [\"val_auc\", \"val_f1sc\", \"val_fp\", \"val_fn\", \"val_tp\", \"val_tn\"]\n",
    "        for i in record_items:\n",
    "            if i not in self.params['metrics']:\n",
    "                self.params['metrics'].append(i)\n",
    "    \n",
    "    def on_epoch_end(self, epoch, logs = {}, thres=0.5):\n",
    "        logs = logs or {}\n",
    "        y_true = self.validation_data[1].argmax(axis = 1)\n",
    "        y_pred = self.model.predict(self.validation_data[0])\n",
    "        y_pred = (y_pred[:, 1] >= thres) * 1\n",
    "        \n",
    "        logs[\"val_f1sc\"] = f1_score(y_true = y_true, y_pred = y_pred, average=\"weighted\")\n",
    "        \n",
    "log_f1sc = f1sc()"
   ]
  },
  {
   "cell_type": "code",
   "execution_count": 9,
   "metadata": {
    "scrolled": true
   },
   "outputs": [
    {
     "name": "stderr",
     "output_type": "stream",
     "text": [
      "WARNING: Logging before flag parsing goes to stderr.\n",
      "W1031 11:40:37.895277 15384 deprecation_wrapper.py:119] From C:\\ProgramData\\Anaconda3\\lib\\site-packages\\keras\\backend\\tensorflow_backend.py:74: The name tf.get_default_graph is deprecated. Please use tf.compat.v1.get_default_graph instead.\n",
      "\n",
      "W1031 11:40:38.376007 15384 deprecation_wrapper.py:119] From C:\\ProgramData\\Anaconda3\\lib\\site-packages\\keras\\backend\\tensorflow_backend.py:517: The name tf.placeholder is deprecated. Please use tf.compat.v1.placeholder instead.\n",
      "\n",
      "W1031 11:40:38.515925 15384 deprecation_wrapper.py:119] From C:\\ProgramData\\Anaconda3\\lib\\site-packages\\keras\\backend\\tensorflow_backend.py:4138: The name tf.random_uniform is deprecated. Please use tf.random.uniform instead.\n",
      "\n",
      "W1031 11:40:39.006642 15384 deprecation_wrapper.py:119] From C:\\ProgramData\\Anaconda3\\lib\\site-packages\\keras\\backend\\tensorflow_backend.py:133: The name tf.placeholder_with_default is deprecated. Please use tf.compat.v1.placeholder_with_default instead.\n",
      "\n",
      "W1031 11:40:39.311465 15384 deprecation_wrapper.py:119] From C:\\ProgramData\\Anaconda3\\lib\\site-packages\\keras\\optimizers.py:790: The name tf.train.Optimizer is deprecated. Please use tf.compat.v1.train.Optimizer instead.\n",
      "\n",
      "W1031 11:40:39.320460 15384 deprecation_wrapper.py:119] From C:\\ProgramData\\Anaconda3\\lib\\site-packages\\keras\\backend\\tensorflow_backend.py:3295: The name tf.log is deprecated. Please use tf.math.log instead.\n",
      "\n"
     ]
    },
    {
     "name": "stdout",
     "output_type": "stream",
     "text": [
      "_________________________________________________________________\n",
      "Layer (type)                 Output Shape              Param #   \n",
      "=================================================================\n",
      "input_1 (InputLayer)         (None, 3072)              0         \n",
      "_________________________________________________________________\n",
      "hidden_layer1 (Dense)        (None, 512)               1573376   \n",
      "_________________________________________________________________\n",
      "batch_normalization_1 (Batch (None, 512)               2048      \n",
      "_________________________________________________________________\n",
      "hidden_layer2 (Dense)        (None, 256)               131328    \n",
      "_________________________________________________________________\n",
      "batch_normalization_2 (Batch (None, 256)               1024      \n",
      "_________________________________________________________________\n",
      "hidden_layer3 (Dense)        (None, 128)               32896     \n",
      "_________________________________________________________________\n",
      "batch_normalization_3 (Batch (None, 128)               512       \n",
      "_________________________________________________________________\n",
      "output (Dense)               (None, 10)                1290      \n",
      "=================================================================\n",
      "Total params: 1,742,474\n",
      "Trainable params: 1,740,682\n",
      "Non-trainable params: 1,792\n",
      "_________________________________________________________________\n"
     ]
    },
    {
     "name": "stderr",
     "output_type": "stream",
     "text": [
      "W1031 11:40:39.504356 15384 deprecation.py:323] From C:\\ProgramData\\Anaconda3\\lib\\site-packages\\tensorflow\\python\\ops\\math_grad.py:1250: add_dispatch_support.<locals>.wrapper (from tensorflow.python.ops.array_ops) is deprecated and will be removed in a future version.\n",
      "Instructions for updating:\n",
      "Use tf.where in 2.0, which has the same broadcast rule as np.where\n"
     ]
    },
    {
     "name": "stdout",
     "output_type": "stream",
     "text": [
      "Train on 50000 samples, validate on 10000 samples\n",
      "Epoch 1/50\n",
      "50000/50000 [==============================] - 9s 188us/step - loss: 2.2280 - acc: 0.2729 - val_loss: 2.1537 - val_acc: 0.3234\n",
      "Epoch 2/50\n",
      " 1024/50000 [..............................] - ETA: 6s - loss: 1.8072 - acc: 0.3789"
     ]
    },
    {
     "name": "stderr",
     "output_type": "stream",
     "text": [
      "C:\\ProgramData\\Anaconda3\\lib\\site-packages\\sklearn\\metrics\\classification.py:1437: UndefinedMetricWarning: F-score is ill-defined and being set to 0.0 in labels with no predicted samples.\n",
      "  'precision', 'predicted', average, warn_for)\n"
     ]
    },
    {
     "name": "stdout",
     "output_type": "stream",
     "text": [
      "50000/50000 [==============================] - 7s 133us/step - loss: 1.7468 - acc: 0.3951 - val_loss: 1.8364 - val_acc: 0.3731\n",
      "Epoch 3/50\n",
      "50000/50000 [==============================] - 7s 133us/step - loss: 1.6224 - acc: 0.4360 - val_loss: 1.7229 - val_acc: 0.4074\n",
      "Epoch 4/50\n",
      "50000/50000 [==============================] - 8s 170us/step - loss: 1.5491 - acc: 0.4615 - val_loss: 1.6562 - val_acc: 0.4276\n",
      "Epoch 5/50\n",
      "50000/50000 [==============================] - 9s 184us/step - loss: 1.4933 - acc: 0.4814 - val_loss: 1.6036 - val_acc: 0.4362\n",
      "Epoch 6/50\n",
      "50000/50000 [==============================] - 9s 172us/step - loss: 1.4482 - acc: 0.4972 - val_loss: 1.5739 - val_acc: 0.4486\n",
      "Epoch 7/50\n",
      "50000/50000 [==============================] - 8s 163us/step - loss: 1.4073 - acc: 0.5117 - val_loss: 1.5572 - val_acc: 0.4566\n",
      "Epoch 8/50\n",
      "50000/50000 [==============================] - 8s 163us/step - loss: 1.3737 - acc: 0.5230 - val_loss: 1.5527 - val_acc: 0.4558\n",
      "Epoch 9/50\n",
      "50000/50000 [==============================] - 8s 163us/step - loss: 1.3412 - acc: 0.5373 - val_loss: 1.5213 - val_acc: 0.4650\n",
      "Epoch 10/50\n",
      "50000/50000 [==============================] - 8s 163us/step - loss: 1.3091 - acc: 0.5470 - val_loss: 1.5097 - val_acc: 0.4687\n",
      "Epoch 11/50\n",
      "50000/50000 [==============================] - 8s 162us/step - loss: 1.2812 - acc: 0.5574 - val_loss: 1.5069 - val_acc: 0.4701\n",
      "Epoch 12/50\n",
      "50000/50000 [==============================] - 8s 162us/step - loss: 1.2528 - acc: 0.5685 - val_loss: 1.5006 - val_acc: 0.4715\n",
      "Epoch 13/50\n",
      "50000/50000 [==============================] - 8s 162us/step - loss: 1.2261 - acc: 0.5754 - val_loss: 1.4940 - val_acc: 0.4714\n",
      "Epoch 14/50\n",
      "50000/50000 [==============================] - 8s 162us/step - loss: 1.2033 - acc: 0.5848 - val_loss: 1.4845 - val_acc: 0.4828\n",
      "Epoch 15/50\n",
      "50000/50000 [==============================] - 8s 162us/step - loss: 1.1757 - acc: 0.5956 - val_loss: 1.4862 - val_acc: 0.4785\n",
      "Epoch 16/50\n",
      "50000/50000 [==============================] - 8s 162us/step - loss: 1.1500 - acc: 0.6053 - val_loss: 1.4735 - val_acc: 0.4838\n",
      "Epoch 17/50\n",
      "50000/50000 [==============================] - 8s 162us/step - loss: 1.1274 - acc: 0.6137 - val_loss: 1.4858 - val_acc: 0.4835\n",
      "Epoch 18/50\n",
      "50000/50000 [==============================] - 8s 163us/step - loss: 1.1061 - acc: 0.6216 - val_loss: 1.4708 - val_acc: 0.4845\n",
      "Epoch 19/50\n",
      "50000/50000 [==============================] - 8s 162us/step - loss: 1.0820 - acc: 0.6307 - val_loss: 1.4795 - val_acc: 0.4874\n",
      "Epoch 20/50\n",
      "50000/50000 [==============================] - 8s 163us/step - loss: 1.0594 - acc: 0.6391 - val_loss: 1.4674 - val_acc: 0.4887\n",
      "Epoch 21/50\n",
      "50000/50000 [==============================] - 8s 162us/step - loss: 1.0356 - acc: 0.6481 - val_loss: 1.4605 - val_acc: 0.4921\n",
      "Epoch 22/50\n",
      "50000/50000 [==============================] - 8s 163us/step - loss: 1.0148 - acc: 0.6556 - val_loss: 1.4700 - val_acc: 0.4891\n",
      "Epoch 23/50\n",
      "50000/50000 [==============================] - 8s 164us/step - loss: 0.9935 - acc: 0.6645 - val_loss: 1.4667 - val_acc: 0.4956\n",
      "Epoch 24/50\n",
      "50000/50000 [==============================] - 8s 162us/step - loss: 0.9714 - acc: 0.6727 - val_loss: 1.4658 - val_acc: 0.4944\n",
      "Epoch 25/50\n",
      "50000/50000 [==============================] - 8s 166us/step - loss: 0.9511 - acc: 0.6820 - val_loss: 1.4662 - val_acc: 0.4918\n",
      "Epoch 26/50\n",
      "50000/50000 [==============================] - 8s 162us/step - loss: 0.9310 - acc: 0.6892 - val_loss: 1.4735 - val_acc: 0.4892\n",
      "Epoch 27/50\n",
      "50000/50000 [==============================] - 8s 163us/step - loss: 0.9088 - acc: 0.6976 - val_loss: 1.4723 - val_acc: 0.4942\n",
      "Epoch 28/50\n",
      "50000/50000 [==============================] - 8s 163us/step - loss: 0.8892 - acc: 0.7054 - val_loss: 1.4754 - val_acc: 0.4943\n",
      "Epoch 29/50\n",
      "50000/50000 [==============================] - 8s 163us/step - loss: 0.8668 - acc: 0.7139 - val_loss: 1.4848 - val_acc: 0.4934\n",
      "Epoch 30/50\n",
      "50000/50000 [==============================] - 8s 164us/step - loss: 0.8483 - acc: 0.7214 - val_loss: 1.4881 - val_acc: 0.4960\n",
      "Epoch 31/50\n",
      "50000/50000 [==============================] - 9s 175us/step - loss: 0.8288 - acc: 0.7278 - val_loss: 1.4865 - val_acc: 0.4967\n",
      "Epoch 32/50\n",
      "50000/50000 [==============================] - 9s 189us/step - loss: 0.8083 - acc: 0.7383 - val_loss: 1.4940 - val_acc: 0.5005\n",
      "Epoch 33/50\n",
      "50000/50000 [==============================] - 9s 177us/step - loss: 0.7884 - acc: 0.7457 - val_loss: 1.5135 - val_acc: 0.4965\n",
      "Epoch 34/50\n",
      "50000/50000 [==============================] - 9s 179us/step - loss: 0.7695 - acc: 0.7509 - val_loss: 1.5258 - val_acc: 0.4950\n",
      "Epoch 35/50\n",
      "50000/50000 [==============================] - 9s 179us/step - loss: 0.7488 - acc: 0.7605 - val_loss: 1.5215 - val_acc: 0.4958\n",
      "Epoch 36/50\n",
      "50000/50000 [==============================] - 9s 182us/step - loss: 0.7305 - acc: 0.7684 - val_loss: 1.5186 - val_acc: 0.4986\n",
      "Epoch 37/50\n",
      "50000/50000 [==============================] - 9s 177us/step - loss: 0.7110 - acc: 0.7768 - val_loss: 1.5317 - val_acc: 0.4940\n",
      "Epoch 38/50\n",
      "50000/50000 [==============================] - 9s 178us/step - loss: 0.6904 - acc: 0.7843 - val_loss: 1.5444 - val_acc: 0.4950\n",
      "Epoch 39/50\n",
      "50000/50000 [==============================] - 9s 179us/step - loss: 0.6752 - acc: 0.7903 - val_loss: 1.5649 - val_acc: 0.4949\n",
      "Epoch 40/50\n",
      "50000/50000 [==============================] - 9s 181us/step - loss: 0.6544 - acc: 0.7981 - val_loss: 1.5649 - val_acc: 0.4944\n",
      "Epoch 41/50\n",
      "50000/50000 [==============================] - 9s 178us/step - loss: 0.6353 - acc: 0.8074 - val_loss: 1.5904 - val_acc: 0.4886\n",
      "Epoch 42/50\n",
      "50000/50000 [==============================] - 9s 178us/step - loss: 0.6201 - acc: 0.8103 - val_loss: 1.5756 - val_acc: 0.4980\n",
      "Epoch 43/50\n",
      "50000/50000 [==============================] - 8s 166us/step - loss: 0.5989 - acc: 0.8226 - val_loss: 1.5878 - val_acc: 0.4969\n",
      "Epoch 44/50\n",
      "50000/50000 [==============================] - 9s 177us/step - loss: 0.5818 - acc: 0.8281 - val_loss: 1.6244 - val_acc: 0.4891\n",
      "Epoch 45/50\n",
      "50000/50000 [==============================] - 9s 179us/step - loss: 0.5643 - acc: 0.8345 - val_loss: 1.6500 - val_acc: 0.4820\n",
      "Epoch 46/50\n",
      "50000/50000 [==============================] - 9s 178us/step - loss: 0.5469 - acc: 0.8421 - val_loss: 1.6541 - val_acc: 0.4892\n",
      "Epoch 47/50\n",
      "50000/50000 [==============================] - 9s 182us/step - loss: 0.5285 - acc: 0.8495 - val_loss: 1.6524 - val_acc: 0.4945 loss: 0.5273 - acc: 0\n",
      "Epoch 48/50\n",
      "50000/50000 [==============================] - 8s 163us/step - loss: 0.5127 - acc: 0.8557 - val_loss: 1.6901 - val_acc: 0.4844\n",
      "Epoch 49/50\n",
      "50000/50000 [==============================] - 8s 163us/step - loss: 0.4969 - acc: 0.8612 - val_loss: 1.6983 - val_acc: 0.4837\n",
      "Epoch 50/50\n",
      "50000/50000 [==============================] - 8s 160us/step - loss: 0.4783 - acc: 0.8688 - val_loss: 1.7046 - val_acc: 0.4872\n"
     ]
    }
   ],
   "source": [
    "model = build_mlp(input_shape=x_train.shape[1:])\n",
    "model.summary()\n",
    "optimizer = keras.optimizers.SGD(lr=LEARNING_RATE, nesterov=True, momentum=MOMENTUM)\n",
    "model.compile(loss=\"categorical_crossentropy\", metrics=[\"accuracy\"], optimizer=optimizer)\n",
    "\n",
    "model.fit(x_train, y_train, \n",
    "          epochs=EPOCHS, \n",
    "          batch_size=BATCH_SIZE, \n",
    "          validation_data=(x_test, y_test), \n",
    "          shuffle=True,\n",
    "          callbacks=[log_f1sc]\n",
    "         )\n",
    "\n",
    "# Collect results\n",
    "train_loss = model.history.history[\"loss\"]\n",
    "valid_loss = model.history.history[\"val_loss\"]\n",
    "train_acc = model.history.history[\"acc\"]\n",
    "valid_acc = model.history.history[\"val_acc\"]\n",
    "\n",
    "# 在訓練後，將 f1sc 紀錄調出\n",
    "valid_f1sc = model.history.history['val_f1sc']"
   ]
  },
  {
   "cell_type": "code",
   "execution_count": 10,
   "metadata": {},
   "outputs": [
    {
     "data": {
      "image/png": "[encoded data removed]",
      "text/plain": [
       "<Figure size 432x288 with 1 Axes>"
      ]
     },
     "metadata": {
      "needs_background": "light"
     },
     "output_type": "display_data"
    },
    {
     "data": {
      "image/png": "[encoded data removed]",
      "text/plain": [
       "<Figure size 432x288 with 1 Axes>"
      ]
     },
     "metadata": {
      "needs_background": "light"
     },
     "output_type": "display_data"
    },
    {
     "data": {
      "image/png": "[encoded data removed]",
      "text/plain": [
       "<Figure size 432x288 with 1 Axes>"
      ]
     },
     "metadata": {
      "needs_background": "light"
     },
     "output_type": "display_data"
    }
   ],
   "source": [
    "import matplotlib.pyplot as plt\n",
    "%matplotlib inline\n",
    "\n",
    "plt.plot(range(len(train_loss)), train_loss, label=\"train loss\")\n",
    "plt.plot(range(len(valid_loss)), valid_loss, label=\"valid loss\")\n",
    "plt.legend()\n",
    "plt.title(\"Loss\")\n",
    "plt.show()\n",
    "\n",
    "plt.plot(range(len(train_acc)), train_acc, label=\"train accuracy\")\n",
    "plt.plot(range(len(valid_acc)), valid_acc, label=\"valid accuracy\")\n",
    "plt.legend()\n",
    "plt.title(\"Accuracy\")\n",
    "plt.show()\n",
    "\n",
    "plt.plot(range(len(valid_f1sc)), valid_f1sc, label=\"valid f1-score\")\n",
    "plt.legend()\n",
    "plt.title(\"F1-score\")\n",
    "plt.show()\n"
   ]
  },
  {
   "cell_type": "markdown",
   "metadata": {},
   "source": [
    "## Work\n",
    "1. 請嘗試寫一個 callback 用來記錄各類別在訓練過程中，對驗證集的 True Positive 與 True Negative"
   ]
  }
 ],
 "metadata": {
  "kernelspec": {
   "display_name": "Python 3",
   "language": "python",
   "name": "python3"
  },
  "language_info": {
   "codemirror_mode": {
    "name": "ipython",
    "version": 3
   },
   "file_extension": ".py",
   "mimetype": "text/x-python",
   "name": "python",
   "nbconvert_exporter": "python",
   "pygments_lexer": "ipython3",
   "version": "3.7.3"
  }
 },
 "nbformat": 4,
 "nbformat_minor": 2
}
