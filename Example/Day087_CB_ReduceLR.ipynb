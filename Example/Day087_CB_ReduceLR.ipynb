{
 "cells": [
  {
   "cell_type": "markdown",
   "metadata": {},
   "source": [
    "## 範例重點\n",
    "* 學習如何在 keras 中加入 reduce learning rate\n",
    "* 知道如何設定 reduce_lr 的監控目標\n",
    "* 比較使用有無使用 reduce_lr 時的 performance"
   ]
  },
  {
   "cell_type": "code",
   "execution_count": 1,
   "metadata": {},
   "outputs": [
    {
     "name": "stderr",
     "output_type": "stream",
     "text": [
      "Using TensorFlow backend.\n"
     ]
    }
   ],
   "source": [
    "import os\n",
    "import keras\n",
    "\n",
    "# 本範例不需使用 GPU, 將 GPU 設定為 \"無\"\n",
    "os.environ[\"CUDA_VISIBLE_DEVICES\"] = \"\""
   ]
  },
  {
   "cell_type": "code",
   "execution_count": 2,
   "metadata": {},
   "outputs": [],
   "source": [
    "train, test = keras.datasets.cifar10.load_data()"
   ]
  },
  {
   "cell_type": "code",
   "execution_count": 3,
   "metadata": {},
   "outputs": [],
   "source": [
    "## 資料前處理\n",
    "def preproc_x(x, flatten=True):\n",
    "    x = x / 255.\n",
    "    if flatten:\n",
    "        x = x.reshape((len(x), -1))\n",
    "    return x\n",
    "\n",
    "def preproc_y(y, num_classes=10):\n",
    "    if y.shape[-1] == 1:\n",
    "        y = keras.utils.to_categorical(y, num_classes)\n",
    "    return y    "
   ]
  },
  {
   "cell_type": "code",
   "execution_count": 4,
   "metadata": {},
   "outputs": [],
   "source": [
    "x_train, y_train = train\n",
    "x_test, y_test = test\n",
    "\n",
    "# 資料前處理 - X 標準化\n",
    "x_train = preproc_x(x_train)\n",
    "x_test = preproc_x(x_test)\n",
    "\n",
    "# 資料前處理 -Y 轉成 onehot\n",
    "y_train = preproc_y(y_train)\n",
    "y_test = preproc_y(y_test)"
   ]
  },
  {
   "cell_type": "code",
   "execution_count": 5,
   "metadata": {},
   "outputs": [],
   "source": [
    "from keras.layers import BatchNormalization\n",
    "\n",
    "\"\"\"\n",
    "建立神經網路，並加入 BN layer\n",
    "\"\"\"\n",
    "def build_mlp(input_shape, output_units=10, num_neurons=[512, 256, 128]):\n",
    "    input_layer = keras.layers.Input(input_shape)\n",
    "    \n",
    "    for i, n_units in enumerate(num_neurons):\n",
    "        if i == 0:\n",
    "            x = keras.layers.Dense(units=n_units, \n",
    "                                   activation=\"relu\", \n",
    "                                   name=\"hidden_layer\"+str(i+1))(input_layer)\n",
    "            x = BatchNormalization()(x)\n",
    "        else:\n",
    "            x = keras.layers.Dense(units=n_units, \n",
    "                                   activation=\"relu\", \n",
    "                                   name=\"hidden_layer\"+str(i+1))(x)\n",
    "            x = BatchNormalization()(x)\n",
    "    \n",
    "    out = keras.layers.Dense(units=output_units, activation=\"softmax\", name=\"output\")(x)\n",
    "    \n",
    "    model = keras.models.Model(inputs=[input_layer], outputs=[out])\n",
    "    return model"
   ]
  },
  {
   "cell_type": "code",
   "execution_count": 6,
   "metadata": {},
   "outputs": [],
   "source": [
    "## 超參數設定\n",
    "LEARNING_RATE = 1e-3\n",
    "EPOCHS = 50\n",
    "BATCH_SIZE = 1024\n",
    "MOMENTUM = 0.95"
   ]
  },
  {
   "cell_type": "code",
   "execution_count": 7,
   "metadata": {},
   "outputs": [],
   "source": [
    "\"\"\"\n",
    "# 載入 Callbacks, 並設定監控目標為 validation loss\n",
    "\"\"\"\n",
    "from keras.callbacks import ReduceLROnPlateau\n",
    "\n",
    "reduce_lr = ReduceLROnPlateau(factor=0.5, \n",
    "                              min_lr=1e-12, \n",
    "                              monitor='val_loss', \n",
    "                              patience=5, \n",
    "                              verbose=1)"
   ]
  },
  {
   "cell_type": "code",
   "execution_count": 8,
   "metadata": {
    "scrolled": true
   },
   "outputs": [
    {
     "name": "stderr",
     "output_type": "stream",
     "text": [
      "WARNING: Logging before flag parsing goes to stderr.\n",
      "W1029 10:15:23.755027 10340 deprecation_wrapper.py:119] From C:\\ProgramData\\Anaconda3\\lib\\site-packages\\keras\\backend\\tensorflow_backend.py:74: The name tf.get_default_graph is deprecated. Please use tf.compat.v1.get_default_graph instead.\n",
      "\n",
      "W1029 10:15:24.287832 10340 deprecation_wrapper.py:119] From C:\\ProgramData\\Anaconda3\\lib\\site-packages\\keras\\backend\\tensorflow_backend.py:517: The name tf.placeholder is deprecated. Please use tf.compat.v1.placeholder instead.\n",
      "\n",
      "W1029 10:15:24.464643 10340 deprecation_wrapper.py:119] From C:\\ProgramData\\Anaconda3\\lib\\site-packages\\keras\\backend\\tensorflow_backend.py:4138: The name tf.random_uniform is deprecated. Please use tf.random.uniform instead.\n",
      "\n",
      "W1029 10:15:25.043722 10340 deprecation_wrapper.py:119] From C:\\ProgramData\\Anaconda3\\lib\\site-packages\\keras\\backend\\tensorflow_backend.py:133: The name tf.placeholder_with_default is deprecated. Please use tf.compat.v1.placeholder_with_default instead.\n",
      "\n",
      "W1029 10:15:25.358483 10340 deprecation_wrapper.py:119] From C:\\ProgramData\\Anaconda3\\lib\\site-packages\\keras\\optimizers.py:790: The name tf.train.Optimizer is deprecated. Please use tf.compat.v1.train.Optimizer instead.\n",
      "\n",
      "W1029 10:15:25.367480 10340 deprecation_wrapper.py:119] From C:\\ProgramData\\Anaconda3\\lib\\site-packages\\keras\\backend\\tensorflow_backend.py:3295: The name tf.log is deprecated. Please use tf.math.log instead.\n",
      "\n",
      "W1029 10:15:25.507409 10340 deprecation.py:323] From C:\\ProgramData\\Anaconda3\\lib\\site-packages\\tensorflow\\python\\ops\\math_grad.py:1250: add_dispatch_support.<locals>.wrapper (from tensorflow.python.ops.array_ops) is deprecated and will be removed in a future version.\n",
      "Instructions for updating:\n",
      "Use tf.where in 2.0, which has the same broadcast rule as np.where\n"
     ]
    },
    {
     "name": "stdout",
     "output_type": "stream",
     "text": [
      "_________________________________________________________________\n",
      "Layer (type)                 Output Shape              Param #   \n",
      "=================================================================\n",
      "input_1 (InputLayer)         (None, 3072)              0         \n",
      "_________________________________________________________________\n",
      "hidden_layer1 (Dense)        (None, 512)               1573376   \n",
      "_________________________________________________________________\n",
      "batch_normalization_1 (Batch (None, 512)               2048      \n",
      "_________________________________________________________________\n",
      "hidden_layer2 (Dense)        (None, 256)               131328    \n",
      "_________________________________________________________________\n",
      "batch_normalization_2 (Batch (None, 256)               1024      \n",
      "_________________________________________________________________\n",
      "hidden_layer3 (Dense)        (None, 128)               32896     \n",
      "_________________________________________________________________\n",
      "batch_normalization_3 (Batch (None, 128)               512       \n",
      "_________________________________________________________________\n",
      "output (Dense)               (None, 10)                1290      \n",
      "=================================================================\n",
      "Total params: 1,742,474\n",
      "Trainable params: 1,740,682\n",
      "Non-trainable params: 1,792\n",
      "_________________________________________________________________\n",
      "Train on 50000 samples, validate on 10000 samples\n",
      "Epoch 1/50\n",
      "50000/50000 [==============================] - 11s 218us/step - loss: 2.2320 - acc: 0.2664 - val_loss: 2.0944 - val_acc: 0.3243\n",
      "Epoch 2/50\n",
      "50000/50000 [==============================] - 7s 149us/step - loss: 1.7583 - acc: 0.3903 - val_loss: 1.8424 - val_acc: 0.3708\n",
      "Epoch 3/50\n",
      "50000/50000 [==============================] - 9s 187us/step - loss: 1.6285 - acc: 0.4332 - val_loss: 1.6847 - val_acc: 0.4146\n",
      "Epoch 4/50\n",
      "50000/50000 [==============================] - 10s 196us/step - loss: 1.5544 - acc: 0.4584 - val_loss: 1.6297 - val_acc: 0.4330\n",
      "Epoch 5/50\n",
      "50000/50000 [==============================] - 9s 182us/step - loss: 1.4991 - acc: 0.4768 - val_loss: 1.6054 - val_acc: 0.4393\n",
      "Epoch 6/50\n",
      "50000/50000 [==============================] - 10s 197us/step - loss: 1.4522 - acc: 0.4936 - val_loss: 1.5772 - val_acc: 0.4494\n",
      "Epoch 7/50\n",
      "50000/50000 [==============================] - 10s 197us/step - loss: 1.4100 - acc: 0.5083 - val_loss: 1.5505 - val_acc: 0.4603\n",
      "Epoch 8/50\n",
      "50000/50000 [==============================] - 9s 181us/step - loss: 1.3738 - acc: 0.5220 - val_loss: 1.5333 - val_acc: 0.4671\n",
      "Epoch 9/50\n",
      "50000/50000 [==============================] - 10s 204us/step - loss: 1.3418 - acc: 0.5343 - val_loss: 1.5124 - val_acc: 0.4739\n",
      "Epoch 10/50\n",
      "50000/50000 [==============================] - 9s 180us/step - loss: 1.3101 - acc: 0.5467 - val_loss: 1.5028 - val_acc: 0.4740\n",
      "Epoch 11/50\n",
      "50000/50000 [==============================] - 9s 178us/step - loss: 1.2821 - acc: 0.5559 - val_loss: 1.4864 - val_acc: 0.4742\n",
      "Epoch 12/50\n",
      "50000/50000 [==============================] - 10s 193us/step - loss: 1.2554 - acc: 0.5656 - val_loss: 1.4832 - val_acc: 0.4774\n",
      "Epoch 13/50\n",
      "50000/50000 [==============================] - 10s 192us/step - loss: 1.2288 - acc: 0.5747 - val_loss: 1.4824 - val_acc: 0.4815\n",
      "Epoch 14/50\n",
      "50000/50000 [==============================] - 10s 197us/step - loss: 1.2047 - acc: 0.5841 - val_loss: 1.4761 - val_acc: 0.4816\n",
      "Epoch 15/50\n",
      "50000/50000 [==============================] - 9s 181us/step - loss: 1.1812 - acc: 0.5910 - val_loss: 1.4669 - val_acc: 0.4851\n",
      "Epoch 16/50\n",
      "50000/50000 [==============================] - 9s 187us/step - loss: 1.1569 - acc: 0.6025 - val_loss: 1.4599 - val_acc: 0.4914\n",
      "Epoch 17/50\n",
      "50000/50000 [==============================] - 10s 193us/step - loss: 1.1337 - acc: 0.6099 - val_loss: 1.4570 - val_acc: 0.4882\n",
      "Epoch 18/50\n",
      "50000/50000 [==============================] - 10s 198us/step - loss: 1.1106 - acc: 0.6195 - val_loss: 1.4495 - val_acc: 0.4961\n",
      "Epoch 19/50\n",
      "50000/50000 [==============================] - 10s 199us/step - loss: 1.0897 - acc: 0.6273 - val_loss: 1.4506 - val_acc: 0.4918\n",
      "Epoch 20/50\n",
      "50000/50000 [==============================] - 10s 200us/step - loss: 1.0660 - acc: 0.6363 - val_loss: 1.4525 - val_acc: 0.4981\n",
      "Epoch 21/50\n",
      "50000/50000 [==============================] - 9s 180us/step - loss: 1.0457 - acc: 0.6443 - val_loss: 1.4552 - val_acc: 0.4887\n",
      "Epoch 22/50\n",
      "50000/50000 [==============================] - 9s 179us/step - loss: 1.0250 - acc: 0.6513 - val_loss: 1.4609 - val_acc: 0.4883\n",
      "Epoch 23/50\n",
      "50000/50000 [==============================] - 9s 186us/step - loss: 1.0037 - acc: 0.6616 - val_loss: 1.4633 - val_acc: 0.4929\n",
      "\n",
      "Epoch 00023: ReduceLROnPlateau reducing learning rate to 0.0005000000237487257.\n",
      "Epoch 24/50\n",
      "50000/50000 [==============================] - 8s 170us/step - loss: 0.9743 - acc: 0.6727 - val_loss: 1.4462 - val_acc: 0.4997\n",
      "Epoch 25/50\n",
      "50000/50000 [==============================] - 8s 167us/step - loss: 0.9548 - acc: 0.6812 - val_loss: 1.4408 - val_acc: 0.5038\n",
      "Epoch 26/50\n",
      "50000/50000 [==============================] - 8s 165us/step - loss: 0.9430 - acc: 0.6856 - val_loss: 1.4464 - val_acc: 0.5040\n",
      "Epoch 27/50\n",
      "50000/50000 [==============================] - 8s 164us/step - loss: 0.9321 - acc: 0.6905 - val_loss: 1.4470 - val_acc: 0.5052\n",
      "Epoch 28/50\n",
      "50000/50000 [==============================] - 8s 164us/step - loss: 0.9206 - acc: 0.6948 - val_loss: 1.4441 - val_acc: 0.5034\n",
      "Epoch 29/50\n",
      "50000/50000 [==============================] - 8s 164us/step - loss: 0.9104 - acc: 0.6969 - val_loss: 1.4483 - val_acc: 0.5031\n",
      "Epoch 30/50\n",
      "50000/50000 [==============================] - 8s 164us/step - loss: 0.9001 - acc: 0.7028 - val_loss: 1.4571 - val_acc: 0.5017\n",
      "\n",
      "Epoch 00030: ReduceLROnPlateau reducing learning rate to 0.0002500000118743628.\n",
      "Epoch 31/50\n",
      "50000/50000 [==============================] - 8s 164us/step - loss: 0.8851 - acc: 0.7095 - val_loss: 1.4522 - val_acc: 0.5024\n",
      "Epoch 32/50\n",
      "50000/50000 [==============================] - 8s 164us/step - loss: 0.8739 - acc: 0.7146 - val_loss: 1.4479 - val_acc: 0.5085\n",
      "Epoch 33/50\n",
      "50000/50000 [==============================] - 8s 163us/step - loss: 0.8673 - acc: 0.7177 - val_loss: 1.4507 - val_acc: 0.5064\n",
      "Epoch 34/50\n",
      "50000/50000 [==============================] - 8s 165us/step - loss: 0.8616 - acc: 0.7186 - val_loss: 1.4558 - val_acc: 0.5073\n",
      "Epoch 35/50\n",
      "50000/50000 [==============================] - 8s 163us/step - loss: 0.8563 - acc: 0.7217 - val_loss: 1.4553 - val_acc: 0.5060\n",
      "\n",
      "Epoch 00035: ReduceLROnPlateau reducing learning rate to 0.0001250000059371814.\n",
      "Epoch 36/50\n",
      "50000/50000 [==============================] - 8s 163us/step - loss: 0.8491 - acc: 0.7234 - val_loss: 1.4541 - val_acc: 0.5074\n",
      "Epoch 37/50\n",
      "50000/50000 [==============================] - 8s 163us/step - loss: 0.8434 - acc: 0.7268 - val_loss: 1.4536 - val_acc: 0.5070\n",
      "Epoch 38/50\n",
      "50000/50000 [==============================] - 8s 164us/step - loss: 0.8405 - acc: 0.7285 - val_loss: 1.4543 - val_acc: 0.5082\n",
      "Epoch 39/50\n",
      "50000/50000 [==============================] - 8s 164us/step - loss: 0.8365 - acc: 0.7305 - val_loss: 1.4578 - val_acc: 0.5061\n",
      "Epoch 40/50\n",
      "50000/50000 [==============================] - 8s 164us/step - loss: 0.8346 - acc: 0.7297 - val_loss: 1.4559 - val_acc: 0.5073\n",
      "\n",
      "Epoch 00040: ReduceLROnPlateau reducing learning rate to 6.25000029685907e-05.\n",
      "Epoch 41/50\n",
      "50000/50000 [==============================] - 8s 164us/step - loss: 0.8302 - acc: 0.7331 - val_loss: 1.4564 - val_acc: 0.5069\n",
      "Epoch 42/50\n",
      "50000/50000 [==============================] - 8s 164us/step - loss: 0.8276 - acc: 0.7331 - val_loss: 1.4563 - val_acc: 0.5068\n",
      "Epoch 43/50\n",
      "50000/50000 [==============================] - 8s 165us/step - loss: 0.8256 - acc: 0.7352 - val_loss: 1.4569 - val_acc: 0.5080\n",
      "Epoch 44/50\n",
      "50000/50000 [==============================] - 8s 168us/step - loss: 0.8235 - acc: 0.7375 - val_loss: 1.4574 - val_acc: 0.5069\n",
      "Epoch 45/50\n",
      "50000/50000 [==============================] - 8s 165us/step - loss: 0.8234 - acc: 0.7364 - val_loss: 1.4575 - val_acc: 0.5067\n",
      "\n",
      "Epoch 00045: ReduceLROnPlateau reducing learning rate to 3.125000148429535e-05.\n",
      "Epoch 46/50\n"
     ]
    },
    {
     "name": "stdout",
     "output_type": "stream",
     "text": [
      "50000/50000 [==============================] - 8s 161us/step - loss: 0.8211 - acc: 0.7368 - val_loss: 1.4579 - val_acc: 0.5081\n",
      "Epoch 47/50\n",
      "50000/50000 [==============================] - 8s 161us/step - loss: 0.8192 - acc: 0.7377 - val_loss: 1.4582 - val_acc: 0.5083\n",
      "Epoch 48/50\n",
      "50000/50000 [==============================] - 8s 162us/step - loss: 0.8185 - acc: 0.7382 - val_loss: 1.4584 - val_acc: 0.5078\n",
      "Epoch 49/50\n",
      "50000/50000 [==============================] - 8s 163us/step - loss: 0.8174 - acc: 0.7378 - val_loss: 1.4588 - val_acc: 0.5072\n",
      "Epoch 50/50\n",
      "50000/50000 [==============================] - 8s 162us/step - loss: 0.8178 - acc: 0.7395 - val_loss: 1.4594 - val_acc: 0.5086\n",
      "\n",
      "Epoch 00050: ReduceLROnPlateau reducing learning rate to 1.5625000742147677e-05.\n"
     ]
    }
   ],
   "source": [
    "model = build_mlp(input_shape=x_train.shape[1:])\n",
    "model.summary()\n",
    "optimizer = keras.optimizers.SGD(lr=LEARNING_RATE, nesterov=True, momentum=MOMENTUM)\n",
    "model.compile(loss=\"categorical_crossentropy\", metrics=[\"accuracy\"], optimizer=optimizer)\n",
    "\n",
    "model.fit(x_train, y_train, \n",
    "          epochs=EPOCHS, \n",
    "          batch_size=BATCH_SIZE, \n",
    "          validation_data=(x_test, y_test), \n",
    "          shuffle=True,\n",
    "          callbacks=[reduce_lr]\n",
    "         )\n",
    "\n",
    "# Collect results\n",
    "train_loss = model.history.history[\"loss\"]\n",
    "valid_loss = model.history.history[\"val_loss\"]\n",
    "train_acc = model.history.history[\"acc\"]\n",
    "valid_acc = model.history.history[\"val_acc\"]"
   ]
  },
  {
   "cell_type": "code",
   "execution_count": 10,
   "metadata": {},
   "outputs": [
    {
     "data": {
      "image/png": "[encoded data removed]",
      "text/plain": [
       "<Figure size 432x288 with 1 Axes>"
      ]
     },
     "metadata": {
      "needs_background": "light"
     },
     "output_type": "display_data"
    },
    {
     "data": {
      "image/png": "[encoded data removed]",
      "text/plain": [
       "<Figure size 432x288 with 1 Axes>"
      ]
     },
     "metadata": {
      "needs_background": "light"
     },
     "output_type": "display_data"
    }
   ],
   "source": [
    "import matplotlib.pyplot as plt\n",
    "%matplotlib inline\n",
    "\n",
    "plt.plot(range(len(train_loss)), train_loss, label=\"train loss\")\n",
    "plt.plot(range(len(valid_loss)), valid_loss, label=\"valid loss\")\n",
    "plt.legend()\n",
    "plt.title(\"Loss\")\n",
    "plt.show()\n",
    "\n",
    "plt.plot(range(len(train_acc)), train_acc, label=\"train accuracy\")\n",
    "plt.plot(range(len(valid_acc)), valid_acc, label=\"valid accuracy\")\n",
    "plt.legend()\n",
    "plt.title(\"Accuracy\")\n",
    "plt.show()"
   ]
  },
  {
   "cell_type": "markdown",
   "metadata": {},
   "source": [
    "## Work\n",
    "1. 請改變 reduce_lr 的 patience 和 factor 並比較不同設定下，對訓練/驗證集的影響\n",
    "2. 請將 optimizer 換成 Adam、RMSprop 搭配 reduce_lr 並比較訓練結果"
   ]
  }
 ],
 "metadata": {
  "kernelspec": {
   "display_name": "Python 3",
   "language": "python",
   "name": "python3"
  },
  "language_info": {
   "codemirror_mode": {
    "name": "ipython",
    "version": 3
   },
   "file_extension": ".py",
   "mimetype": "text/x-python",
   "name": "python",
   "nbconvert_exporter": "python",
   "pygments_lexer": "ipython3",
   "version": "3.7.3"
  }
 },
 "nbformat": 4,
 "nbformat_minor": 2
}
