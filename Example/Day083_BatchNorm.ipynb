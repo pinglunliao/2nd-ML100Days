{
 "cells": [
  {
   "cell_type": "markdown",
   "metadata": {},
   "source": [
    "## 範例重點\n",
    "* 學習如何在 keras 中加入 BatchNorm\n",
    "* 知道有無 BN 對訓練的影響\n",
    "* 比較 BN 在不同 batch size 下的效果"
   ]
  },
  {
   "cell_type": "code",
   "execution_count": 1,
   "metadata": {},
   "outputs": [
    {
     "name": "stderr",
     "output_type": "stream",
     "text": [
      "Using TensorFlow backend.\n"
     ]
    }
   ],
   "source": [
    "import os\n",
    "import keras\n",
    "\n",
    "# 本範例不需使用 GPU, 將 GPU 設定為 \"無\"\n",
    "os.environ[\"CUDA_VISIBLE_DEVICES\"] = \"\""
   ]
  },
  {
   "cell_type": "code",
   "execution_count": 2,
   "metadata": {},
   "outputs": [],
   "source": [
    "train, test = keras.datasets.cifar10.load_data()"
   ]
  },
  {
   "cell_type": "code",
   "execution_count": 3,
   "metadata": {},
   "outputs": [],
   "source": [
    "## 資料前處理\n",
    "def preproc_x(x, flatten=True):\n",
    "    x = x / 255.\n",
    "    if flatten:\n",
    "        x = x.reshape((len(x), -1))\n",
    "    return x\n",
    "\n",
    "def preproc_y(y, num_classes=10):\n",
    "    if y.shape[-1] == 1:\n",
    "        y = keras.utils.to_categorical(y, num_classes)\n",
    "    return y    "
   ]
  },
  {
   "cell_type": "code",
   "execution_count": 4,
   "metadata": {},
   "outputs": [],
   "source": [
    "x_train, y_train = train\n",
    "x_test, y_test = test\n",
    "\n",
    "# 資料前處理 - X 標準化\n",
    "x_train = preproc_x(x_train)\n",
    "x_test = preproc_x(x_test)\n",
    "\n",
    "# 資料前處理 -Y 轉成 onehot\n",
    "y_train = preproc_y(y_train)\n",
    "y_test = preproc_y(y_test)"
   ]
  },
  {
   "cell_type": "code",
   "execution_count": 5,
   "metadata": {},
   "outputs": [],
   "source": [
    "from keras.layers import BatchNormalization\n",
    "\n",
    "\"\"\"\n",
    "建立神經網路，並加入 BN layer\n",
    "\"\"\"\n",
    "def build_mlp(input_shape, output_units=10, num_neurons=[512, 256, 128]):\n",
    "    input_layer = keras.layers.Input(input_shape)\n",
    "    \n",
    "    for i, n_units in enumerate(num_neurons):\n",
    "        if i == 0:\n",
    "            x = keras.layers.Dense(units=n_units, \n",
    "                                   activation=\"relu\", \n",
    "                                   name=\"hidden_layer\"+str(i+1))(input_layer)\n",
    "            x = BatchNormalization()(x)\n",
    "        else:\n",
    "            x = keras.layers.Dense(units=n_units, \n",
    "                                   activation=\"relu\", \n",
    "                                   name=\"hidden_layer\"+str(i+1))(x)\n",
    "            x = BatchNormalization()(x)\n",
    "    \n",
    "    out = keras.layers.Dense(units=output_units, activation=\"softmax\", name=\"output\")(x)\n",
    "    \n",
    "    model = keras.models.Model(inputs=[input_layer], outputs=[out])\n",
    "    return model"
   ]
  },
  {
   "cell_type": "code",
   "execution_count": 6,
   "metadata": {},
   "outputs": [],
   "source": [
    "## 超參數設定\n",
    "LEARNING_RATE = 1e-3\n",
    "EPOCHS = 50\n",
    "BATCH_SIZE = 1024\n",
    "MOMENTUM = 0.95"
   ]
  },
  {
   "cell_type": "code",
   "execution_count": 7,
   "metadata": {
    "scrolled": true
   },
   "outputs": [
    {
     "name": "stderr",
     "output_type": "stream",
     "text": [
      "WARNING: Logging before flag parsing goes to stderr.\n",
      "W1024 13:31:55.388455 13768 deprecation_wrapper.py:119] From C:\\ProgramData\\Anaconda3\\lib\\site-packages\\keras\\backend\\tensorflow_backend.py:74: The name tf.get_default_graph is deprecated. Please use tf.compat.v1.get_default_graph instead.\n",
      "\n",
      "W1024 13:31:55.845193 13768 deprecation_wrapper.py:119] From C:\\ProgramData\\Anaconda3\\lib\\site-packages\\keras\\backend\\tensorflow_backend.py:517: The name tf.placeholder is deprecated. Please use tf.compat.v1.placeholder instead.\n",
      "\n",
      "W1024 13:31:56.003102 13768 deprecation_wrapper.py:119] From C:\\ProgramData\\Anaconda3\\lib\\site-packages\\keras\\backend\\tensorflow_backend.py:4138: The name tf.random_uniform is deprecated. Please use tf.random.uniform instead.\n",
      "\n",
      "W1024 13:31:56.489834 13768 deprecation_wrapper.py:119] From C:\\ProgramData\\Anaconda3\\lib\\site-packages\\keras\\backend\\tensorflow_backend.py:133: The name tf.placeholder_with_default is deprecated. Please use tf.compat.v1.placeholder_with_default instead.\n",
      "\n",
      "W1024 13:31:56.985550 13768 deprecation_wrapper.py:119] From C:\\ProgramData\\Anaconda3\\lib\\site-packages\\keras\\optimizers.py:790: The name tf.train.Optimizer is deprecated. Please use tf.compat.v1.train.Optimizer instead.\n",
      "\n",
      "W1024 13:31:57.001541 13768 deprecation_wrapper.py:119] From C:\\ProgramData\\Anaconda3\\lib\\site-packages\\keras\\backend\\tensorflow_backend.py:3295: The name tf.log is deprecated. Please use tf.math.log instead.\n",
      "\n"
     ]
    },
    {
     "name": "stdout",
     "output_type": "stream",
     "text": [
      "_________________________________________________________________\n",
      "Layer (type)                 Output Shape              Param #   \n",
      "=================================================================\n",
      "input_1 (InputLayer)         (None, 3072)              0         \n",
      "_________________________________________________________________\n",
      "hidden_layer1 (Dense)        (None, 512)               1573376   \n",
      "_________________________________________________________________\n",
      "batch_normalization_1 (Batch (None, 512)               2048      \n",
      "_________________________________________________________________\n",
      "hidden_layer2 (Dense)        (None, 256)               131328    \n",
      "_________________________________________________________________\n",
      "batch_normalization_2 (Batch (None, 256)               1024      \n",
      "_________________________________________________________________\n",
      "hidden_layer3 (Dense)        (None, 128)               32896     \n",
      "_________________________________________________________________\n",
      "batch_normalization_3 (Batch (None, 128)               512       \n",
      "_________________________________________________________________\n",
      "output (Dense)               (None, 10)                1290      \n",
      "=================================================================\n",
      "Total params: 1,742,474\n",
      "Trainable params: 1,740,682\n",
      "Non-trainable params: 1,792\n",
      "_________________________________________________________________\n"
     ]
    },
    {
     "name": "stderr",
     "output_type": "stream",
     "text": [
      "W1024 13:31:57.233417 13768 deprecation.py:323] From C:\\ProgramData\\Anaconda3\\lib\\site-packages\\tensorflow\\python\\ops\\math_grad.py:1250: add_dispatch_support.<locals>.wrapper (from tensorflow.python.ops.array_ops) is deprecated and will be removed in a future version.\n",
      "Instructions for updating:\n",
      "Use tf.where in 2.0, which has the same broadcast rule as np.where\n"
     ]
    },
    {
     "name": "stdout",
     "output_type": "stream",
     "text": [
      "Train on 50000 samples, validate on 10000 samples\n",
      "Epoch 1/50\n",
      "50000/50000 [==============================] - 11s 214us/step - loss: 2.2225 - acc: 0.2654 - val_loss: 2.0598 - val_acc: 0.3301\n",
      "Epoch 2/50\n",
      "50000/50000 [==============================] - 8s 160us/step - loss: 1.7307 - acc: 0.3944 - val_loss: 1.7669 - val_acc: 0.3892\n",
      "Epoch 3/50\n",
      "50000/50000 [==============================] - 9s 184us/step - loss: 1.6074 - acc: 0.4353 - val_loss: 1.6920 - val_acc: 0.4010\n",
      "Epoch 4/50\n",
      "50000/50000 [==============================] - 9s 181us/step - loss: 1.5359 - acc: 0.4599 - val_loss: 1.6396 - val_acc: 0.4173\n",
      "Epoch 5/50\n",
      "50000/50000 [==============================] - 9s 182us/step - loss: 1.4812 - acc: 0.4807 - val_loss: 1.5949 - val_acc: 0.4357\n",
      "Epoch 6/50\n",
      "50000/50000 [==============================] - 9s 183us/step - loss: 1.4375 - acc: 0.4967 - val_loss: 1.5647 - val_acc: 0.4500\n",
      "Epoch 7/50\n",
      "50000/50000 [==============================] - 9s 182us/step - loss: 1.3981 - acc: 0.5110 - val_loss: 1.5418 - val_acc: 0.4552\n",
      "Epoch 8/50\n",
      "50000/50000 [==============================] - 9s 185us/step - loss: 1.3665 - acc: 0.5227 - val_loss: 1.5212 - val_acc: 0.4649\n",
      "Epoch 9/50\n",
      "50000/50000 [==============================] - 9s 182us/step - loss: 1.3334 - acc: 0.5354 - val_loss: 1.5094 - val_acc: 0.4626\n",
      "Epoch 10/50\n",
      "50000/50000 [==============================] - 9s 183us/step - loss: 1.3028 - acc: 0.5462 - val_loss: 1.4946 - val_acc: 0.4714\n",
      "Epoch 11/50\n",
      "50000/50000 [==============================] - 9s 179us/step - loss: 1.2724 - acc: 0.5570 - val_loss: 1.4935 - val_acc: 0.4711\n",
      "Epoch 12/50\n",
      "50000/50000 [==============================] - 9s 183us/step - loss: 1.2470 - acc: 0.5681 - val_loss: 1.4738 - val_acc: 0.4792\n",
      "Epoch 13/50\n",
      "50000/50000 [==============================] - 9s 182us/step - loss: 1.2227 - acc: 0.5763 - val_loss: 1.4733 - val_acc: 0.4788\n",
      "Epoch 14/50\n",
      "50000/50000 [==============================] - 9s 189us/step - loss: 1.1954 - acc: 0.5859 - val_loss: 1.4652 - val_acc: 0.4847\n",
      "Epoch 15/50\n",
      "50000/50000 [==============================] - 9s 175us/step - loss: 1.1724 - acc: 0.5965 - val_loss: 1.4604 - val_acc: 0.4899\n",
      "Epoch 16/50\n",
      "50000/50000 [==============================] - 9s 175us/step - loss: 1.1506 - acc: 0.6019 - val_loss: 1.4628 - val_acc: 0.4861\n",
      "Epoch 17/50\n",
      "50000/50000 [==============================] - 9s 178us/step - loss: 1.1278 - acc: 0.6118 - val_loss: 1.4580 - val_acc: 0.4902\n",
      "Epoch 18/50\n",
      "50000/50000 [==============================] - 9s 181us/step - loss: 1.1044 - acc: 0.6218 - val_loss: 1.4528 - val_acc: 0.4894\n",
      "Epoch 19/50\n",
      "50000/50000 [==============================] - 9s 179us/step - loss: 1.0833 - acc: 0.6280 - val_loss: 1.4512 - val_acc: 0.4932\n",
      "Epoch 20/50\n",
      "50000/50000 [==============================] - 9s 189us/step - loss: 1.0613 - acc: 0.6370 - val_loss: 1.4490 - val_acc: 0.4903\n",
      "Epoch 21/50\n",
      "50000/50000 [==============================] - 10s 193us/step - loss: 1.0387 - acc: 0.6470 - val_loss: 1.4523 - val_acc: 0.4918\n",
      "Epoch 22/50\n",
      "50000/50000 [==============================] - 10s 192us/step - loss: 1.0179 - acc: 0.6547 - val_loss: 1.4522 - val_acc: 0.4914\n",
      "Epoch 23/50\n",
      "50000/50000 [==============================] - 10s 205us/step - loss: 0.9984 - acc: 0.6610 - val_loss: 1.4557 - val_acc: 0.4962\n",
      "Epoch 24/50\n",
      "50000/50000 [==============================] - 8s 168us/step - loss: 0.9780 - acc: 0.6677 - val_loss: 1.4517 - val_acc: 0.4913\n",
      "Epoch 25/50\n",
      "50000/50000 [==============================] - 9s 172us/step - loss: 0.9579 - acc: 0.6769 - val_loss: 1.4504 - val_acc: 0.4966\n",
      "Epoch 26/50\n",
      "50000/50000 [==============================] - 9s 187us/step - loss: 0.9366 - acc: 0.6855 - val_loss: 1.4516 - val_acc: 0.4952\n",
      "Epoch 27/50\n",
      "50000/50000 [==============================] - 9s 174us/step - loss: 0.9156 - acc: 0.6936 - val_loss: 1.4673 - val_acc: 0.4931\n",
      "Epoch 28/50\n",
      "50000/50000 [==============================] - 9s 174us/step - loss: 0.8982 - acc: 0.7010 - val_loss: 1.4641 - val_acc: 0.4932\n",
      "Epoch 29/50\n",
      "50000/50000 [==============================] - 9s 174us/step - loss: 0.8782 - acc: 0.7092 - val_loss: 1.4686 - val_acc: 0.4929\n",
      "Epoch 30/50\n",
      "50000/50000 [==============================] - 9s 179us/step - loss: 0.8579 - acc: 0.7159 - val_loss: 1.4760 - val_acc: 0.4927\n",
      "Epoch 31/50\n",
      "50000/50000 [==============================] - 9s 188us/step - loss: 0.8394 - acc: 0.7237 - val_loss: 1.4831 - val_acc: 0.4905\n",
      "Epoch 32/50\n",
      "50000/50000 [==============================] - 8s 164us/step - loss: 0.8190 - acc: 0.7325 - val_loss: 1.4938 - val_acc: 0.4914\n",
      "Epoch 33/50\n",
      "50000/50000 [==============================] - 9s 177us/step - loss: 0.7987 - acc: 0.7415 - val_loss: 1.4999 - val_acc: 0.4924\n",
      "Epoch 34/50\n",
      "50000/50000 [==============================] - 9s 171us/step - loss: 0.7802 - acc: 0.7461 - val_loss: 1.5107 - val_acc: 0.4894\n",
      "Epoch 35/50\n",
      "50000/50000 [==============================] - 8s 162us/step - loss: 0.7626 - acc: 0.7533 - val_loss: 1.5129 - val_acc: 0.4916\n",
      "Epoch 36/50\n",
      "50000/50000 [==============================] - 9s 184us/step - loss: 0.7436 - acc: 0.7611 - val_loss: 1.5312 - val_acc: 0.4929\n",
      "Epoch 37/50\n",
      "50000/50000 [==============================] - 9s 182us/step - loss: 0.7252 - acc: 0.7694 - val_loss: 1.5233 - val_acc: 0.4997\n",
      "Epoch 38/50\n",
      "50000/50000 [==============================] - 9s 178us/step - loss: 0.7070 - acc: 0.7765 - val_loss: 1.5362 - val_acc: 0.4983\n",
      "Epoch 39/50\n",
      "50000/50000 [==============================] - 9s 183us/step - loss: 0.6913 - acc: 0.7815 - val_loss: 1.5608 - val_acc: 0.4883\n",
      "Epoch 40/50\n",
      "50000/50000 [==============================] - 9s 184us/step - loss: 0.6717 - acc: 0.7898 - val_loss: 1.5697 - val_acc: 0.4914\n",
      "Epoch 41/50\n",
      "50000/50000 [==============================] - 9s 185us/step - loss: 0.6548 - acc: 0.7962 - val_loss: 1.5721 - val_acc: 0.4898\n",
      "Epoch 42/50\n",
      "50000/50000 [==============================] - 9s 185us/step - loss: 0.6373 - acc: 0.8036 - val_loss: 1.5758 - val_acc: 0.4929\n",
      "Epoch 43/50\n",
      "50000/50000 [==============================] - 9s 186us/step - loss: 0.6184 - acc: 0.8126 - val_loss: 1.5945 - val_acc: 0.4940\n",
      "Epoch 44/50\n",
      "50000/50000 [==============================] - 9s 182us/step - loss: 0.6028 - acc: 0.8166 - val_loss: 1.5982 - val_acc: 0.4891\n",
      "Epoch 45/50\n",
      "50000/50000 [==============================] - 9s 184us/step - loss: 0.5847 - acc: 0.8251 - val_loss: 1.6037 - val_acc: 0.4945\n",
      "Epoch 46/50\n",
      "50000/50000 [==============================] - 9s 182us/step - loss: 0.5672 - acc: 0.8319 - val_loss: 1.6300 - val_acc: 0.4917\n",
      "Epoch 47/50\n",
      "50000/50000 [==============================] - 9s 189us/step - loss: 0.5524 - acc: 0.8381 - val_loss: 1.6408 - val_acc: 0.4890\n",
      "Epoch 48/50\n",
      "50000/50000 [==============================] - 9s 184us/step - loss: 0.5358 - acc: 0.8444 - val_loss: 1.6449 - val_acc: 0.4867\n",
      "Epoch 49/50\n",
      "50000/50000 [==============================] - 9s 181us/step - loss: 0.5203 - acc: 0.8509 - val_loss: 1.6461 - val_acc: 0.4864\n",
      "Epoch 50/50\n",
      "50000/50000 [==============================] - 9s 183us/step - loss: 0.5043 - acc: 0.8570 - val_loss: 1.6726 - val_acc: 0.4899\n"
     ]
    }
   ],
   "source": [
    "model = build_mlp(input_shape=x_train.shape[1:])\n",
    "model.summary()\n",
    "optimizer = keras.optimizers.SGD(lr=LEARNING_RATE, nesterov=True, momentum=MOMENTUM)\n",
    "model.compile(loss=\"categorical_crossentropy\", metrics=[\"accuracy\"], optimizer=optimizer)\n",
    "\n",
    "model.fit(x_train, y_train, \n",
    "          epochs=EPOCHS, \n",
    "          batch_size=BATCH_SIZE, \n",
    "          validation_data=(x_test, y_test), \n",
    "          shuffle=True)\n",
    "\n",
    "# Collect results\n",
    "train_loss = model.history.history[\"loss\"]\n",
    "valid_loss = model.history.history[\"val_loss\"]\n",
    "train_acc = model.history.history[\"acc\"]\n",
    "valid_acc = model.history.history[\"val_acc\"]"
   ]
  },
  {
   "cell_type": "code",
   "execution_count": 8,
   "metadata": {},
   "outputs": [
    {
     "data": {
      "image/png": "[encoded data removed]",
      "text/plain": [
       "<Figure size 432x288 with 1 Axes>"
      ]
     },
     "metadata": {
      "needs_background": "light"
     },
     "output_type": "display_data"
    },
    {
     "data": {
      "image/png": "[encoded data removed]",
      "text/plain": [
       "<Figure size 432x288 with 1 Axes>"
      ]
     },
     "metadata": {
      "needs_background": "light"
     },
     "output_type": "display_data"
    }
   ],
   "source": [
    "import matplotlib.pyplot as plt\n",
    "%matplotlib inline\n",
    "\n",
    "plt.plot(range(len(train_loss)), train_loss, label=\"train loss\")\n",
    "plt.plot(range(len(valid_loss)), valid_loss, label=\"valid loss\")\n",
    "plt.legend()\n",
    "plt.title(\"Loss\")\n",
    "plt.show()\n",
    "\n",
    "plt.plot(range(len(train_acc)), train_acc, label=\"train accuracy\")\n",
    "plt.plot(range(len(valid_acc)), valid_acc, label=\"valid accuracy\")\n",
    "plt.legend()\n",
    "plt.title(\"Accuracy\")\n",
    "plt.show()"
   ]
  },
  {
   "cell_type": "markdown",
   "metadata": {},
   "source": [
    "## Work\n",
    "1. 試比較有 BN 在 Batch_size = 2, 16, 32, 128, 256 下的差異\n",
    "2. 請嘗試將 BN 放在 Activation 之前，並比較訓練結果\n",
    "3. 請於 BN 放在 Input Layer 後，並比較結果"
   ]
  }
 ],
 "metadata": {
  "kernelspec": {
   "display_name": "Python 3",
   "language": "python",
   "name": "python3"
  },
  "language_info": {
   "codemirror_mode": {
    "name": "ipython",
    "version": 3
   },
   "file_extension": ".py",
   "mimetype": "text/x-python",
   "name": "python",
   "nbconvert_exporter": "python",
   "pygments_lexer": "ipython3",
   "version": "3.7.3"
  }
 },
 "nbformat": 4,
 "nbformat_minor": 2
}
