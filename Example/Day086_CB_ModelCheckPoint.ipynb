{
 "cells": [
  {
   "cell_type": "markdown",
   "metadata": {},
   "source": [
    "## 範例重點\n",
    "* 學習如何在 keras 中加入 model checkpoint\n",
    "* 知道如何設定監控目標\n",
    "* 比較使用最佳與非最佳參數時的 performance"
   ]
  },
  {
   "cell_type": "code",
   "execution_count": 1,
   "metadata": {},
   "outputs": [
    {
     "name": "stderr",
     "output_type": "stream",
     "text": [
      "Using TensorFlow backend.\n"
     ]
    }
   ],
   "source": [
    "import os\n",
    "import keras\n",
    "\n",
    "# 本範例不需使用 GPU, 將 GPU 設定為 \"無\"\n",
    "os.environ[\"CUDA_VISIBLE_DEVICES\"] = \"\""
   ]
  },
  {
   "cell_type": "code",
   "execution_count": 2,
   "metadata": {},
   "outputs": [],
   "source": [
    "train, test = keras.datasets.cifar10.load_data()"
   ]
  },
  {
   "cell_type": "code",
   "execution_count": 3,
   "metadata": {},
   "outputs": [],
   "source": [
    "## 資料前處理\n",
    "def preproc_x(x, flatten=True):\n",
    "    x = x / 255.\n",
    "    if flatten:\n",
    "        x = x.reshape((len(x), -1))\n",
    "    return x\n",
    "\n",
    "def preproc_y(y, num_classes=10):\n",
    "    if y.shape[-1] == 1:\n",
    "        y = keras.utils.to_categorical(y, num_classes)\n",
    "    return y    "
   ]
  },
  {
   "cell_type": "code",
   "execution_count": 4,
   "metadata": {},
   "outputs": [],
   "source": [
    "x_train, y_train = train\n",
    "x_test, y_test = test\n",
    "\n",
    "# 資料前處理 - X 標準化\n",
    "x_train = preproc_x(x_train)\n",
    "x_test = preproc_x(x_test)\n",
    "\n",
    "# 資料前處理 -Y 轉成 onehot\n",
    "y_train = preproc_y(y_train)\n",
    "y_test = preproc_y(y_test)"
   ]
  },
  {
   "cell_type": "code",
   "execution_count": 5,
   "metadata": {},
   "outputs": [],
   "source": [
    "from keras.layers import BatchNormalization\n",
    "\n",
    "\"\"\"\n",
    "建立神經網路，並加入 BN layer\n",
    "\"\"\"\n",
    "def build_mlp(input_shape, output_units=10, num_neurons=[512, 256, 128]):\n",
    "    input_layer = keras.layers.Input(input_shape)\n",
    "    \n",
    "    for i, n_units in enumerate(num_neurons):\n",
    "        if i == 0:\n",
    "            x = keras.layers.Dense(units=n_units, \n",
    "                                   activation=\"relu\", \n",
    "                                   name=\"hidden_layer\"+str(i+1))(input_layer)\n",
    "            x = BatchNormalization()(x)\n",
    "        else:\n",
    "            x = keras.layers.Dense(units=n_units, \n",
    "                                   activation=\"relu\", \n",
    "                                   name=\"hidden_layer\"+str(i+1))(x)\n",
    "            x = BatchNormalization()(x)\n",
    "    \n",
    "    out = keras.layers.Dense(units=output_units, activation=\"softmax\", name=\"output\")(x)\n",
    "    \n",
    "    model = keras.models.Model(inputs=[input_layer], outputs=[out])\n",
    "    return model"
   ]
  },
  {
   "cell_type": "code",
   "execution_count": 6,
   "metadata": {},
   "outputs": [],
   "source": [
    "## 超參數設定\n",
    "LEARNING_RATE = 1e-3\n",
    "EPOCHS = 50\n",
    "BATCH_SIZE = 1024\n",
    "MOMENTUM = 0.95"
   ]
  },
  {
   "cell_type": "code",
   "execution_count": 7,
   "metadata": {},
   "outputs": [],
   "source": [
    "\"\"\"\n",
    "# 載入 Callbacks, 並將監控目標設為 validation loss, 且只存最佳參數時的模型\n",
    "\"\"\"\n",
    "from keras.callbacks import ModelCheckpoint\n",
    "\n",
    "model_ckpt = ModelCheckpoint(filepath=\"./tmp.h5\", \n",
    "                             monitor=\"val_loss\", \n",
    "                             save_best_only=True)"
   ]
  },
  {
   "cell_type": "code",
   "execution_count": 8,
   "metadata": {
    "scrolled": true
   },
   "outputs": [
    {
     "name": "stderr",
     "output_type": "stream",
     "text": [
      "WARNING: Logging before flag parsing goes to stderr.\n",
      "W1028 10:47:52.936861 13476 deprecation_wrapper.py:119] From C:\\ProgramData\\Anaconda3\\lib\\site-packages\\keras\\backend\\tensorflow_backend.py:74: The name tf.get_default_graph is deprecated. Please use tf.compat.v1.get_default_graph instead.\n",
      "\n",
      "W1028 10:47:52.965845 13476 deprecation_wrapper.py:119] From C:\\ProgramData\\Anaconda3\\lib\\site-packages\\keras\\backend\\tensorflow_backend.py:517: The name tf.placeholder is deprecated. Please use tf.compat.v1.placeholder instead.\n",
      "\n",
      "W1028 10:47:52.970843 13476 deprecation_wrapper.py:119] From C:\\ProgramData\\Anaconda3\\lib\\site-packages\\keras\\backend\\tensorflow_backend.py:4138: The name tf.random_uniform is deprecated. Please use tf.random.uniform instead.\n",
      "\n",
      "W1028 10:47:53.109762 13476 deprecation_wrapper.py:119] From C:\\ProgramData\\Anaconda3\\lib\\site-packages\\keras\\backend\\tensorflow_backend.py:133: The name tf.placeholder_with_default is deprecated. Please use tf.compat.v1.placeholder_with_default instead.\n",
      "\n",
      "W1028 10:47:53.526032 13476 deprecation_wrapper.py:119] From C:\\ProgramData\\Anaconda3\\lib\\site-packages\\keras\\optimizers.py:790: The name tf.train.Optimizer is deprecated. Please use tf.compat.v1.train.Optimizer instead.\n",
      "\n",
      "W1028 10:47:53.538024 13476 deprecation_wrapper.py:119] From C:\\ProgramData\\Anaconda3\\lib\\site-packages\\keras\\backend\\tensorflow_backend.py:3295: The name tf.log is deprecated. Please use tf.math.log instead.\n",
      "\n",
      "W1028 10:47:53.657963 13476 deprecation.py:323] From C:\\ProgramData\\Anaconda3\\lib\\site-packages\\tensorflow\\python\\ops\\math_grad.py:1250: add_dispatch_support.<locals>.wrapper (from tensorflow.python.ops.array_ops) is deprecated and will be removed in a future version.\n",
      "Instructions for updating:\n",
      "Use tf.where in 2.0, which has the same broadcast rule as np.where\n"
     ]
    },
    {
     "name": "stdout",
     "output_type": "stream",
     "text": [
      "_________________________________________________________________\n",
      "Layer (type)                 Output Shape              Param #   \n",
      "=================================================================\n",
      "input_1 (InputLayer)         (None, 3072)              0         \n",
      "_________________________________________________________________\n",
      "hidden_layer1 (Dense)        (None, 512)               1573376   \n",
      "_________________________________________________________________\n",
      "batch_normalization_1 (Batch (None, 512)               2048      \n",
      "_________________________________________________________________\n",
      "hidden_layer2 (Dense)        (None, 256)               131328    \n",
      "_________________________________________________________________\n",
      "batch_normalization_2 (Batch (None, 256)               1024      \n",
      "_________________________________________________________________\n",
      "hidden_layer3 (Dense)        (None, 128)               32896     \n",
      "_________________________________________________________________\n",
      "batch_normalization_3 (Batch (None, 128)               512       \n",
      "_________________________________________________________________\n",
      "output (Dense)               (None, 10)                1290      \n",
      "=================================================================\n",
      "Total params: 1,742,474\n",
      "Trainable params: 1,740,682\n",
      "Non-trainable params: 1,792\n",
      "_________________________________________________________________\n",
      "Train on 50000 samples, validate on 10000 samples\n",
      "Epoch 1/50\n",
      "50000/50000 [==============================] - 9s 175us/step - loss: 2.2473 - acc: 0.2690 - val_loss: 2.2556 - val_acc: 0.3125\n",
      "Epoch 2/50\n",
      "50000/50000 [==============================] - 8s 161us/step - loss: 1.7483 - acc: 0.3961 - val_loss: 1.8496 - val_acc: 0.3686\n",
      "Epoch 3/50\n",
      "50000/50000 [==============================] - 9s 177us/step - loss: 1.6161 - acc: 0.4381 - val_loss: 1.7007 - val_acc: 0.4014\n",
      "Epoch 4/50\n",
      "50000/50000 [==============================] - 9s 178us/step - loss: 1.5374 - acc: 0.4649 - val_loss: 1.6284 - val_acc: 0.4251\n",
      "Epoch 5/50\n",
      "50000/50000 [==============================] - 9s 177us/step - loss: 1.4808 - acc: 0.4846 - val_loss: 1.5871 - val_acc: 0.4415\n",
      "Epoch 6/50\n",
      "50000/50000 [==============================] - 9s 176us/step - loss: 1.4338 - acc: 0.5007 - val_loss: 1.5611 - val_acc: 0.4531\n",
      "Epoch 7/50\n",
      "50000/50000 [==============================] - 9s 177us/step - loss: 1.3934 - acc: 0.5150 - val_loss: 1.5413 - val_acc: 0.4586\n",
      "Epoch 8/50\n",
      "50000/50000 [==============================] - 9s 179us/step - loss: 1.3578 - acc: 0.5298 - val_loss: 1.5255 - val_acc: 0.4634\n",
      "Epoch 9/50\n",
      "50000/50000 [==============================] - 9s 178us/step - loss: 1.3254 - acc: 0.5393 - val_loss: 1.5027 - val_acc: 0.4692\n",
      "Epoch 10/50\n",
      "50000/50000 [==============================] - 9s 175us/step - loss: 1.2956 - acc: 0.5510 - val_loss: 1.5022 - val_acc: 0.4672\n",
      "Epoch 11/50\n",
      "50000/50000 [==============================] - 9s 181us/step - loss: 1.2681 - acc: 0.5599 - val_loss: 1.4792 - val_acc: 0.4771\n",
      "Epoch 12/50\n",
      "50000/50000 [==============================] - 9s 177us/step - loss: 1.2413 - acc: 0.5682 - val_loss: 1.4900 - val_acc: 0.4772\n",
      "Epoch 13/50\n",
      "50000/50000 [==============================] - 9s 176us/step - loss: 1.2179 - acc: 0.5800 - val_loss: 1.4688 - val_acc: 0.4799\n",
      "Epoch 14/50\n",
      "50000/50000 [==============================] - 9s 177us/step - loss: 1.1917 - acc: 0.5885 - val_loss: 1.4593 - val_acc: 0.4841\n",
      "Epoch 15/50\n",
      "50000/50000 [==============================] - 9s 178us/step - loss: 1.1675 - acc: 0.5985 - val_loss: 1.4627 - val_acc: 0.4847\n",
      "Epoch 16/50\n",
      "50000/50000 [==============================] - 9s 185us/step - loss: 1.1444 - acc: 0.6060 - val_loss: 1.4504 - val_acc: 0.4937\n",
      "Epoch 17/50\n",
      "50000/50000 [==============================] - 9s 176us/step - loss: 1.1225 - acc: 0.6162 - val_loss: 1.4492 - val_acc: 0.4965\n",
      "Epoch 18/50\n",
      "50000/50000 [==============================] - 9s 175us/step - loss: 1.0987 - acc: 0.6239 - val_loss: 1.4564 - val_acc: 0.4923\n",
      "Epoch 19/50\n",
      "50000/50000 [==============================] - 9s 174us/step - loss: 1.0790 - acc: 0.6316 - val_loss: 1.4459 - val_acc: 0.4966\n",
      "Epoch 20/50\n",
      "50000/50000 [==============================] - 9s 176us/step - loss: 1.0543 - acc: 0.6406 - val_loss: 1.4518 - val_acc: 0.4947\n",
      "Epoch 21/50\n",
      "50000/50000 [==============================] - 9s 180us/step - loss: 1.0327 - acc: 0.6481 - val_loss: 1.4478 - val_acc: 0.4957\n",
      "Epoch 22/50\n",
      "50000/50000 [==============================] - 9s 178us/step - loss: 1.0129 - acc: 0.6563 - val_loss: 1.4384 - val_acc: 0.4991\n",
      "Epoch 23/50\n",
      "50000/50000 [==============================] - 9s 175us/step - loss: 0.9915 - acc: 0.6653 - val_loss: 1.4470 - val_acc: 0.4964\n",
      "Epoch 24/50\n",
      "50000/50000 [==============================] - 9s 175us/step - loss: 0.9709 - acc: 0.6730 - val_loss: 1.4494 - val_acc: 0.4966\n",
      "Epoch 25/50\n",
      "50000/50000 [==============================] - 9s 176us/step - loss: 0.9496 - acc: 0.6795 - val_loss: 1.4930 - val_acc: 0.4858\n",
      "Epoch 26/50\n",
      "50000/50000 [==============================] - 9s 175us/step - loss: 0.9301 - acc: 0.6884 - val_loss: 1.4522 - val_acc: 0.4971\n",
      "Epoch 27/50\n",
      "50000/50000 [==============================] - 9s 175us/step - loss: 0.9088 - acc: 0.6971 - val_loss: 1.4610 - val_acc: 0.4911\n",
      "Epoch 28/50\n",
      "50000/50000 [==============================] - 9s 176us/step - loss: 0.8900 - acc: 0.7015 - val_loss: 1.4834 - val_acc: 0.4917\n",
      "Epoch 29/50\n",
      "50000/50000 [==============================] - 9s 174us/step - loss: 0.8698 - acc: 0.7113 - val_loss: 1.4633 - val_acc: 0.5019\n",
      "Epoch 30/50\n",
      "50000/50000 [==============================] - 9s 174us/step - loss: 0.8489 - acc: 0.7207 - val_loss: 1.4782 - val_acc: 0.4930\n",
      "Epoch 31/50\n",
      "50000/50000 [==============================] - 9s 176us/step - loss: 0.8297 - acc: 0.7264 - val_loss: 1.4809 - val_acc: 0.4994\n",
      "Epoch 32/50\n",
      "50000/50000 [==============================] - 9s 177us/step - loss: 0.8107 - acc: 0.7354 - val_loss: 1.4675 - val_acc: 0.5001\n",
      "Epoch 33/50\n",
      "50000/50000 [==============================] - 9s 175us/step - loss: 0.7906 - acc: 0.7427 - val_loss: 1.4853 - val_acc: 0.4976\n",
      "Epoch 34/50\n",
      "50000/50000 [==============================] - 9s 174us/step - loss: 0.7722 - acc: 0.7486 - val_loss: 1.4931 - val_acc: 0.4984\n",
      "Epoch 35/50\n",
      "50000/50000 [==============================] - 9s 177us/step - loss: 0.7530 - acc: 0.7582 - val_loss: 1.4955 - val_acc: 0.4979\n",
      "Epoch 36/50\n",
      "50000/50000 [==============================] - 9s 173us/step - loss: 0.7338 - acc: 0.7660 - val_loss: 1.5161 - val_acc: 0.4978\n",
      "Epoch 37/50\n",
      "50000/50000 [==============================] - 9s 176us/step - loss: 0.7126 - acc: 0.7744 - val_loss: 1.5122 - val_acc: 0.4953\n",
      "Epoch 38/50\n",
      "50000/50000 [==============================] - 9s 180us/step - loss: 0.6974 - acc: 0.7816 - val_loss: 1.5297 - val_acc: 0.4984\n",
      "Epoch 39/50\n",
      "50000/50000 [==============================] - 9s 175us/step - loss: 0.6792 - acc: 0.7876 - val_loss: 1.5360 - val_acc: 0.4958\n",
      "Epoch 40/50\n",
      "50000/50000 [==============================] - 9s 176us/step - loss: 0.6580 - acc: 0.7959 - val_loss: 1.5415 - val_acc: 0.5031\n",
      "Epoch 41/50\n",
      "50000/50000 [==============================] - 9s 175us/step - loss: 0.6418 - acc: 0.8028 - val_loss: 1.5783 - val_acc: 0.4937\n",
      "Epoch 42/50\n",
      "50000/50000 [==============================] - 9s 176us/step - loss: 0.6230 - acc: 0.8117 - val_loss: 1.5623 - val_acc: 0.4934\n",
      "Epoch 43/50\n",
      "50000/50000 [==============================] - 9s 176us/step - loss: 0.6049 - acc: 0.8166 - val_loss: 1.5676 - val_acc: 0.4967\n",
      "Epoch 44/50\n",
      "50000/50000 [==============================] - 9s 180us/step - loss: 0.5887 - acc: 0.8259 - val_loss: 1.5711 - val_acc: 0.4948\n",
      "Epoch 45/50\n",
      "50000/50000 [==============================] - 9s 176us/step - loss: 0.5694 - acc: 0.8315 - val_loss: 1.5952 - val_acc: 0.4949\n",
      "Epoch 46/50\n",
      "50000/50000 [==============================] - 9s 176us/step - loss: 0.5533 - acc: 0.8379 - val_loss: 1.6103 - val_acc: 0.4930\n",
      "Epoch 47/50\n",
      "50000/50000 [==============================] - 9s 176us/step - loss: 0.5365 - acc: 0.8431 - val_loss: 1.6276 - val_acc: 0.4987\n",
      "Epoch 48/50\n",
      "50000/50000 [==============================] - 9s 178us/step - loss: 0.5193 - acc: 0.8505 - val_loss: 1.6293 - val_acc: 0.4956\n",
      "Epoch 49/50\n"
     ]
    },
    {
     "name": "stdout",
     "output_type": "stream",
     "text": [
      "50000/50000 [==============================] - 8s 169us/step - loss: 0.5015 - acc: 0.8596 - val_loss: 1.6505 - val_acc: 0.4918\n",
      "Epoch 50/50\n",
      "50000/50000 [==============================] - 8s 169us/step - loss: 0.4848 - acc: 0.8652 - val_loss: 1.6582 - val_acc: 0.4922\n",
      "10000/10000 [==============================] - 2s 166us/step\n"
     ]
    }
   ],
   "source": [
    "model = build_mlp(input_shape=x_train.shape[1:])\n",
    "model.summary()\n",
    "optimizer = keras.optimizers.SGD(lr=LEARNING_RATE, nesterov=True, momentum=MOMENTUM)\n",
    "model.compile(loss=\"categorical_crossentropy\", metrics=[\"accuracy\"], optimizer=optimizer)\n",
    "\n",
    "model.fit(x_train, y_train, \n",
    "          epochs=EPOCHS, \n",
    "          batch_size=BATCH_SIZE, \n",
    "          validation_data=(x_test, y_test), \n",
    "          shuffle=True,\n",
    "          callbacks=[model_ckpt]\n",
    "         )\n",
    "\n",
    "# Collect results\n",
    "train_loss = model.history.history[\"loss\"]\n",
    "valid_loss = model.history.history[\"val_loss\"]\n",
    "train_acc = model.history.history[\"acc\"]\n",
    "valid_acc = model.history.history[\"val_acc\"]\n",
    "\n",
    "# Load back\n",
    "model = keras.models.load_model(\"./tmp.h5\")\n",
    "loss_loadback, acc_loadback = model.evaluate(x_test, y_test)"
   ]
  },
  {
   "cell_type": "code",
   "execution_count": 10,
   "metadata": {},
   "outputs": [
    {
     "data": {
      "image/png": "[encoded data removed]",
      "text/plain": [
       "<Figure size 432x288 with 1 Axes>"
      ]
     },
     "metadata": {
      "needs_background": "light"
     },
     "output_type": "display_data"
    },
    {
     "data": {
      "image/png": "[encoded data removed]",
      "text/plain": [
       "<Figure size 432x288 with 1 Axes>"
      ]
     },
     "metadata": {
      "needs_background": "light"
     },
     "output_type": "display_data"
    }
   ],
   "source": [
    "import matplotlib.pyplot as plt\n",
    "%matplotlib inline\n",
    "\n",
    "plt.plot(range(len(train_loss)), train_loss, label=\"train loss\")\n",
    "plt.plot(range(len(valid_loss)), valid_loss, label=\"valid loss\")\n",
    "plt.hlines(y=loss_loadback, xmin=0, xmax=len(train_loss), colors='r', linestyles='--')\n",
    "plt.legend()\n",
    "plt.title(\"Loss\")\n",
    "plt.show()\n",
    "\n",
    "plt.plot(range(len(train_acc)), train_acc, label=\"train accuracy\")\n",
    "plt.plot(range(len(valid_acc)), valid_acc, label=\"valid accuracy\")\n",
    "plt.hlines(y=acc_loadback, xmin=0, xmax=len(train_loss), colors='r', linestyles='--')\n",
    "plt.legend()\n",
    "plt.title(\"Accuracy\")\n",
    "plt.show()"
   ]
  },
  {
   "cell_type": "markdown",
   "metadata": {},
   "source": [
    "## Work\n",
    "1. 試比較 save_best_only 與否的差異\n",
    "2. 請僅存入將 save_weights_only 設定為 True, 並嘗試 reset ipynb 並將模型與權重重新建回並預測 x_test"
   ]
  }
 ],
 "metadata": {
  "kernelspec": {
   "display_name": "Python 3",
   "language": "python",
   "name": "python3"
  },
  "language_info": {
   "codemirror_mode": {
    "name": "ipython",
    "version": 3
   },
   "file_extension": ".py",
   "mimetype": "text/x-python",
   "name": "python",
   "nbconvert_exporter": "python",
   "pygments_lexer": "ipython3",
   "version": "3.7.3"
  }
 },
 "nbformat": 4,
 "nbformat_minor": 2
}
