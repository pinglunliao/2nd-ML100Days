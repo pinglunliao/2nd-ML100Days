{
 "cells": [
  {
   "cell_type": "markdown",
   "metadata": {},
   "source": [
    "## 範例重點\n",
    "### 學習在模型開始前檢查各個環節\n",
    "1. 是否有 GPU 資源\n",
    "2. 將前處理轉為函式，統一處理訓練、驗證與測試集\n",
    "3. 將超參數變數化，易於重複使用函式、模型等"
   ]
  },
  {
   "cell_type": "code",
   "execution_count": 1,
   "metadata": {},
   "outputs": [
    {
     "name": "stderr",
     "output_type": "stream",
     "text": [
      "'nvidia-smi' 不是內部或外部命令、可執行的程式或批次檔。\n"
     ]
    }
   ],
   "source": [
    "## 確認硬體資源 (如果你是在 Linux, 若是在 Windows, 請參考 https://blog.csdn.net/idwtwt/article/details/78017565)\n",
    "!nvidia-smi"
   ]
  },
  {
   "cell_type": "code",
   "execution_count": 2,
   "metadata": {},
   "outputs": [
    {
     "name": "stderr",
     "output_type": "stream",
     "text": [
      "Using TensorFlow backend.\n"
     ]
    }
   ],
   "source": [
    "import os\n",
    "import keras\n",
    "\n",
    "# 本範例不需使用 GPU, 將 GPU 設定為 \"無\"\n",
    "os.environ[\"CUDA_VISIBLE_DEVICES\"] = \"\""
   ]
  },
  {
   "cell_type": "code",
   "execution_count": 3,
   "metadata": {},
   "outputs": [],
   "source": [
    "# 從 Keras 的內建功能中，取得 train 與 test 資料集\n",
    "train, test = keras.datasets.cifar10.load_data()"
   ]
  },
  {
   "cell_type": "code",
   "execution_count": 4,
   "metadata": {},
   "outputs": [],
   "source": [
    "## 資料前處理\n",
    "def preproc_x(x, flatten=True):\n",
    "    x = x / 255.\n",
    "    if flatten:\n",
    "        x = x.reshape((len(x), -1))\n",
    "    return x\n",
    "\n",
    "def preproc_y(y, num_classes=10):\n",
    "    if y.shape[-1] == 1:\n",
    "        y = keras.utils.to_categorical(y, num_classes)\n",
    "    return y    "
   ]
  },
  {
   "cell_type": "code",
   "execution_count": 5,
   "metadata": {},
   "outputs": [],
   "source": [
    "x_train, y_train = train\n",
    "x_test, y_test = test\n",
    "\n",
    "# 資料前處理 - X 標準化\n",
    "x_train = preproc_x(x_train)\n",
    "x_test = preproc_x(x_test)\n",
    "\n",
    "# 資料前處理 -Y 轉成 onehot\n",
    "y_train = preproc_y(y_train)\n",
    "y_test = preproc_y(y_test)"
   ]
  },
  {
   "cell_type": "code",
   "execution_count": 6,
   "metadata": {},
   "outputs": [],
   "source": [
    "def build_mlp(input_shape, output_units=10, num_neurons=[512, 256, 128]):\n",
    "    input_layer = keras.layers.Input(input_shape)\n",
    "    \n",
    "    for i, n_units in enumerate(num_neurons):\n",
    "        if i == 0:\n",
    "            x = keras.layers.Dense(units=n_units, activation=\"relu\", name=\"hidden_layer\"+str(i+1))(input_layer)\n",
    "        else:\n",
    "            x = keras.layers.Dense(units=n_units, activation=\"relu\", name=\"hidden_layer\"+str(i+1))(x)\n",
    "    \n",
    "    out = keras.layers.Dense(units=output_units, activation=\"softmax\", name=\"output\")(x)\n",
    "    \n",
    "    model = keras.models.Model(inputs=[input_layer], outputs=[out])\n",
    "    return model"
   ]
  },
  {
   "cell_type": "code",
   "execution_count": 7,
   "metadata": {},
   "outputs": [
    {
     "name": "stderr",
     "output_type": "stream",
     "text": [
      "WARNING: Logging before flag parsing goes to stderr.\n",
      "W1021 14:29:29.912093 11868 deprecation_wrapper.py:119] From C:\\ProgramData\\Anaconda3\\lib\\site-packages\\keras\\backend\\tensorflow_backend.py:74: The name tf.get_default_graph is deprecated. Please use tf.compat.v1.get_default_graph instead.\n",
      "\n",
      "W1021 14:29:30.382201 11868 deprecation_wrapper.py:119] From C:\\ProgramData\\Anaconda3\\lib\\site-packages\\keras\\backend\\tensorflow_backend.py:517: The name tf.placeholder is deprecated. Please use tf.compat.v1.placeholder instead.\n",
      "\n",
      "W1021 14:29:30.655543 11868 deprecation_wrapper.py:119] From C:\\ProgramData\\Anaconda3\\lib\\site-packages\\keras\\backend\\tensorflow_backend.py:4138: The name tf.random_uniform is deprecated. Please use tf.random.uniform instead.\n",
      "\n"
     ]
    },
    {
     "name": "stdout",
     "output_type": "stream",
     "text": [
      "_________________________________________________________________\n",
      "Layer (type)                 Output Shape              Param #   \n",
      "=================================================================\n",
      "input_1 (InputLayer)         (None, 3072)              0         \n",
      "_________________________________________________________________\n",
      "hidden_layer1 (Dense)        (None, 512)               1573376   \n",
      "_________________________________________________________________\n",
      "hidden_layer2 (Dense)        (None, 256)               131328    \n",
      "_________________________________________________________________\n",
      "hidden_layer3 (Dense)        (None, 128)               32896     \n",
      "_________________________________________________________________\n",
      "output (Dense)               (None, 10)                1290      \n",
      "=================================================================\n",
      "Total params: 1,738,890\n",
      "Trainable params: 1,738,890\n",
      "Non-trainable params: 0\n",
      "_________________________________________________________________\n"
     ]
    }
   ],
   "source": [
    "model = build_mlp(input_shape=x_train.shape[1:])\n",
    "model.summary()"
   ]
  },
  {
   "cell_type": "code",
   "execution_count": 8,
   "metadata": {},
   "outputs": [],
   "source": [
    "## 超參數設定\n",
    "LEARNING_RATE = 0.001\n",
    "EPOCHS = 100\n",
    "BATCH_SIZE = 256"
   ]
  },
  {
   "cell_type": "code",
   "execution_count": 9,
   "metadata": {},
   "outputs": [
    {
     "name": "stderr",
     "output_type": "stream",
     "text": [
      "W1021 14:29:31.031327 11868 deprecation_wrapper.py:119] From C:\\ProgramData\\Anaconda3\\lib\\site-packages\\keras\\optimizers.py:790: The name tf.train.Optimizer is deprecated. Please use tf.compat.v1.train.Optimizer instead.\n",
      "\n",
      "W1021 14:29:31.108284 11868 deprecation_wrapper.py:119] From C:\\ProgramData\\Anaconda3\\lib\\site-packages\\keras\\backend\\tensorflow_backend.py:3295: The name tf.log is deprecated. Please use tf.math.log instead.\n",
      "\n"
     ]
    }
   ],
   "source": [
    "optimizer = keras.optimizers.Adam(lr=LEARNING_RATE)\n",
    "model.compile(loss=\"categorical_crossentropy\", metrics=[\"accuracy\"], optimizer=optimizer)"
   ]
  },
  {
   "cell_type": "code",
   "execution_count": 10,
   "metadata": {},
   "outputs": [
    {
     "name": "stderr",
     "output_type": "stream",
     "text": [
      "W1021 14:29:31.689506 11868 deprecation.py:323] From C:\\ProgramData\\Anaconda3\\lib\\site-packages\\tensorflow\\python\\ops\\math_grad.py:1250: add_dispatch_support.<locals>.wrapper (from tensorflow.python.ops.array_ops) is deprecated and will be removed in a future version.\n",
      "Instructions for updating:\n",
      "Use tf.where in 2.0, which has the same broadcast rule as np.where\n",
      "W1021 14:29:31.843419 11868 deprecation_wrapper.py:119] From C:\\ProgramData\\Anaconda3\\lib\\site-packages\\keras\\backend\\tensorflow_backend.py:986: The name tf.assign_add is deprecated. Please use tf.compat.v1.assign_add instead.\n",
      "\n"
     ]
    },
    {
     "name": "stdout",
     "output_type": "stream",
     "text": [
      "Train on 50000 samples, validate on 10000 samples\n",
      "Epoch 1/100\n",
      "50000/50000 [==============================] - 14s 271us/step - loss: 1.9327 - acc: 0.3004 - val_loss: 1.7282 - val_acc: 0.3920\n",
      "Epoch 2/100\n",
      "50000/50000 [==============================] - 15s 291us/step - loss: 1.6938 - acc: 0.3952 - val_loss: 1.6701 - val_acc: 0.3979\n",
      "Epoch 3/100\n",
      "50000/50000 [==============================] - 14s 284us/step - loss: 1.6049 - acc: 0.4267 - val_loss: 1.5561 - val_acc: 0.4479\n",
      "Epoch 4/100\n",
      "50000/50000 [==============================] - 15s 295us/step - loss: 1.5495 - acc: 0.4515 - val_loss: 1.5733 - val_acc: 0.4365\n",
      "Epoch 5/100\n",
      "50000/50000 [==============================] - 14s 282us/step - loss: 1.5110 - acc: 0.4608 - val_loss: 1.5100 - val_acc: 0.4693\n",
      "Epoch 6/100\n",
      "50000/50000 [==============================] - 14s 286us/step - loss: 1.4597 - acc: 0.4802 - val_loss: 1.5216 - val_acc: 0.4662\n",
      "Epoch 7/100\n",
      "50000/50000 [==============================] - 14s 285us/step - loss: 1.4328 - acc: 0.4909 - val_loss: 1.4698 - val_acc: 0.4745\n",
      "Epoch 8/100\n",
      "50000/50000 [==============================] - 14s 277us/step - loss: 1.4144 - acc: 0.4957 - val_loss: 1.4653 - val_acc: 0.4792\n",
      "Epoch 9/100\n",
      "50000/50000 [==============================] - 13s 268us/step - loss: 1.3731 - acc: 0.5088 - val_loss: 1.4412 - val_acc: 0.4959\n",
      "Epoch 10/100\n",
      "50000/50000 [==============================] - 13s 269us/step - loss: 1.3521 - acc: 0.5174 - val_loss: 1.4009 - val_acc: 0.4998\n",
      "Epoch 11/100\n",
      "50000/50000 [==============================] - 13s 266us/step - loss: 1.3231 - acc: 0.5290 - val_loss: 1.4036 - val_acc: 0.5003\n",
      "Epoch 12/100\n",
      "50000/50000 [==============================] - 13s 265us/step - loss: 1.3001 - acc: 0.5368 - val_loss: 1.4080 - val_acc: 0.4975\n",
      "Epoch 13/100\n",
      "50000/50000 [==============================] - 13s 267us/step - loss: 1.2744 - acc: 0.5456 - val_loss: 1.3682 - val_acc: 0.5142\n",
      "Epoch 14/100\n",
      "50000/50000 [==============================] - 13s 268us/step - loss: 1.2517 - acc: 0.5509 - val_loss: 1.3628 - val_acc: 0.5112\n",
      "Epoch 15/100\n",
      "50000/50000 [==============================] - 13s 264us/step - loss: 1.2285 - acc: 0.5647 - val_loss: 1.3819 - val_acc: 0.5120\n",
      "Epoch 16/100\n",
      "50000/50000 [==============================] - 13s 266us/step - loss: 1.2082 - acc: 0.5711 - val_loss: 1.3734 - val_acc: 0.5140\n",
      "Epoch 17/100\n",
      "50000/50000 [==============================] - 13s 266us/step - loss: 1.1811 - acc: 0.5788 - val_loss: 1.3757 - val_acc: 0.5163\n",
      "Epoch 18/100\n",
      "50000/50000 [==============================] - 13s 266us/step - loss: 1.1735 - acc: 0.5810 - val_loss: 1.3911 - val_acc: 0.5161\n",
      "Epoch 19/100\n",
      "50000/50000 [==============================] - 14s 276us/step - loss: 1.1524 - acc: 0.5888 - val_loss: 1.3588 - val_acc: 0.5259\n",
      "Epoch 20/100\n",
      "50000/50000 [==============================] - 14s 272us/step - loss: 1.1240 - acc: 0.5971 - val_loss: 1.3667 - val_acc: 0.5256\n",
      "Epoch 21/100\n",
      "50000/50000 [==============================] - 14s 271us/step - loss: 1.1100 - acc: 0.6038 - val_loss: 1.3999 - val_acc: 0.5066\n",
      "Epoch 22/100\n",
      "50000/50000 [==============================] - 14s 287us/step - loss: 1.0819 - acc: 0.6162 - val_loss: 1.3472 - val_acc: 0.5311\n",
      "Epoch 23/100\n",
      "50000/50000 [==============================] - 14s 274us/step - loss: 1.0643 - acc: 0.6193 - val_loss: 1.3555 - val_acc: 0.5270\n",
      "Epoch 24/100\n",
      "50000/50000 [==============================] - 13s 267us/step - loss: 1.0480 - acc: 0.6275 - val_loss: 1.3915 - val_acc: 0.5180\n",
      "Epoch 25/100\n",
      "50000/50000 [==============================] - 13s 266us/step - loss: 1.0288 - acc: 0.6321 - val_loss: 1.3665 - val_acc: 0.5241\n",
      "Epoch 26/100\n",
      "50000/50000 [==============================] - 13s 269us/step - loss: 1.0108 - acc: 0.6394 - val_loss: 1.3873 - val_acc: 0.5305\n",
      "Epoch 27/100\n",
      "50000/50000 [==============================] - 13s 266us/step - loss: 0.9985 - acc: 0.6445 - val_loss: 1.3921 - val_acc: 0.5282\n",
      "Epoch 28/100\n",
      "50000/50000 [==============================] - 13s 267us/step - loss: 0.9749 - acc: 0.6525 - val_loss: 1.4396 - val_acc: 0.5162\n",
      "Epoch 29/100\n",
      "50000/50000 [==============================] - 14s 274us/step - loss: 0.9619 - acc: 0.6581 - val_loss: 1.4970 - val_acc: 0.5080\n",
      "Epoch 30/100\n",
      "50000/50000 [==============================] - 13s 269us/step - loss: 0.9371 - acc: 0.6649 - val_loss: 1.4273 - val_acc: 0.5258\n",
      "Epoch 31/100\n",
      "50000/50000 [==============================] - 13s 265us/step - loss: 0.9227 - acc: 0.6712 - val_loss: 1.4528 - val_acc: 0.5188\n",
      "Epoch 32/100\n",
      "50000/50000 [==============================] - 13s 265us/step - loss: 0.8973 - acc: 0.6803 - val_loss: 1.4356 - val_acc: 0.5232\n",
      "Epoch 33/100\n",
      "50000/50000 [==============================] - 13s 268us/step - loss: 0.8899 - acc: 0.6797 - val_loss: 1.4609 - val_acc: 0.5249\n",
      "Epoch 34/100\n",
      "50000/50000 [==============================] - 13s 265us/step - loss: 0.8783 - acc: 0.6886 - val_loss: 1.4930 - val_acc: 0.5196\n",
      "Epoch 35/100\n",
      "50000/50000 [==============================] - 13s 264us/step - loss: 0.8495 - acc: 0.6941 - val_loss: 1.4717 - val_acc: 0.5240\n",
      "Epoch 36/100\n",
      "50000/50000 [==============================] - 13s 265us/step - loss: 0.8315 - acc: 0.7047 - val_loss: 1.4983 - val_acc: 0.5244\n",
      "Epoch 37/100\n",
      "50000/50000 [==============================] - 13s 265us/step - loss: 0.8296 - acc: 0.7025 - val_loss: 1.5166 - val_acc: 0.5230\n",
      "Epoch 38/100\n",
      "50000/50000 [==============================] - 13s 264us/step - loss: 0.8015 - acc: 0.7124 - val_loss: 1.5603 - val_acc: 0.5223\n",
      "Epoch 39/100\n",
      "50000/50000 [==============================] - 13s 266us/step - loss: 0.7863 - acc: 0.7177 - val_loss: 1.5491 - val_acc: 0.5239\n",
      "Epoch 40/100\n",
      "50000/50000 [==============================] - 13s 265us/step - loss: 0.7747 - acc: 0.7231 - val_loss: 1.5585 - val_acc: 0.5223\n",
      "Epoch 41/100\n",
      "50000/50000 [==============================] - 14s 271us/step - loss: 0.7384 - acc: 0.7374 - val_loss: 1.6130 - val_acc: 0.5238\n",
      "Epoch 42/100\n",
      "50000/50000 [==============================] - 13s 265us/step - loss: 0.7455 - acc: 0.7327 - val_loss: 1.6666 - val_acc: 0.5160\n",
      "Epoch 43/100\n",
      "50000/50000 [==============================] - 13s 265us/step - loss: 0.7305 - acc: 0.7377 - val_loss: 1.6292 - val_acc: 0.5152\n",
      "Epoch 44/100\n",
      "50000/50000 [==============================] - 13s 266us/step - loss: 0.7124 - acc: 0.7440 - val_loss: 1.6579 - val_acc: 0.5135\n",
      "Epoch 45/100\n",
      "50000/50000 [==============================] - 13s 265us/step - loss: 0.7028 - acc: 0.7485 - val_loss: 1.6307 - val_acc: 0.5182\n",
      "Epoch 46/100\n",
      "50000/50000 [==============================] - 13s 267us/step - loss: 0.6815 - acc: 0.7572 - val_loss: 1.7195 - val_acc: 0.5190\n",
      "Epoch 47/100\n",
      "50000/50000 [==============================] - 13s 265us/step - loss: 0.6686 - acc: 0.7630 - val_loss: 1.7571 - val_acc: 0.5164\n",
      "Epoch 48/100\n",
      "50000/50000 [==============================] - 13s 266us/step - loss: 0.6676 - acc: 0.7619 - val_loss: 1.7785 - val_acc: 0.5051\n",
      "Epoch 49/100\n",
      "50000/50000 [==============================] - 13s 263us/step - loss: 0.6444 - acc: 0.7707 - val_loss: 1.7481 - val_acc: 0.5164\n",
      "Epoch 50/100\n",
      "50000/50000 [==============================] - 14s 271us/step - loss: 0.6274 - acc: 0.7756 - val_loss: 1.8086 - val_acc: 0.5110\n",
      "Epoch 51/100\n",
      "50000/50000 [==============================] - 14s 273us/step - loss: 0.6120 - acc: 0.7789 - val_loss: 1.7757 - val_acc: 0.5166\n",
      "Epoch 52/100\n",
      "50000/50000 [==============================] - 13s 267us/step - loss: 0.6028 - acc: 0.7839 - val_loss: 1.8683 - val_acc: 0.5089\n",
      "Epoch 53/100\n",
      "50000/50000 [==============================] - 14s 280us/step - loss: 0.6018 - acc: 0.7842 - val_loss: 1.8611 - val_acc: 0.5142\n",
      "Epoch 54/100\n",
      "50000/50000 [==============================] - 14s 285us/step - loss: 0.5901 - acc: 0.7881 - val_loss: 1.9449 - val_acc: 0.5059\n",
      "Epoch 55/100\n",
      "50000/50000 [==============================] - 14s 281us/step - loss: 0.5739 - acc: 0.7940 - val_loss: 2.0044 - val_acc: 0.5028\n",
      "Epoch 56/100\n",
      "50000/50000 [==============================] - 13s 264us/step - loss: 0.5642 - acc: 0.7995 - val_loss: 1.9277 - val_acc: 0.5178\n",
      "Epoch 57/100\n",
      "50000/50000 [==============================] - 13s 264us/step - loss: 0.5441 - acc: 0.8058 - val_loss: 2.0113 - val_acc: 0.5079\n",
      "Epoch 58/100\n",
      "50000/50000 [==============================] - 13s 260us/step - loss: 0.5338 - acc: 0.8083 - val_loss: 1.9872 - val_acc: 0.5167\n"
     ]
    },
    {
     "name": "stdout",
     "output_type": "stream",
     "text": [
      "Epoch 59/100\n",
      "50000/50000 [==============================] - 13s 264us/step - loss: 0.5350 - acc: 0.8063 - val_loss: 1.9745 - val_acc: 0.5132\n",
      "Epoch 60/100\n",
      "50000/50000 [==============================] - 13s 262us/step - loss: 0.5137 - acc: 0.8144 - val_loss: 2.0466 - val_acc: 0.5122\n",
      "Epoch 61/100\n",
      "50000/50000 [==============================] - 13s 264us/step - loss: 0.5025 - acc: 0.8183 - val_loss: 2.0462 - val_acc: 0.5125\n",
      "Epoch 62/100\n",
      "50000/50000 [==============================] - 13s 264us/step - loss: 0.4891 - acc: 0.8257 - val_loss: 2.0942 - val_acc: 0.5106\n",
      "Epoch 63/100\n",
      "50000/50000 [==============================] - 13s 263us/step - loss: 0.5036 - acc: 0.8177 - val_loss: 2.1762 - val_acc: 0.5035\n",
      "Epoch 64/100\n",
      "50000/50000 [==============================] - 13s 266us/step - loss: 0.4801 - acc: 0.8283 - val_loss: 2.1518 - val_acc: 0.5089\n",
      "Epoch 65/100\n",
      "50000/50000 [==============================] - 13s 264us/step - loss: 0.4768 - acc: 0.8272 - val_loss: 2.1996 - val_acc: 0.5078\n",
      "Epoch 66/100\n",
      "50000/50000 [==============================] - 13s 266us/step - loss: 0.4728 - acc: 0.8307 - val_loss: 2.2699 - val_acc: 0.5045\n",
      "Epoch 67/100\n",
      "50000/50000 [==============================] - 13s 263us/step - loss: 0.4535 - acc: 0.8374 - val_loss: 2.2433 - val_acc: 0.5077\n",
      "Epoch 68/100\n",
      "50000/50000 [==============================] - 13s 263us/step - loss: 0.4659 - acc: 0.8333 - val_loss: 2.2803 - val_acc: 0.5053\n",
      "Epoch 69/100\n",
      "50000/50000 [==============================] - 13s 265us/step - loss: 0.4544 - acc: 0.8354 - val_loss: 2.3007 - val_acc: 0.5028\n",
      "Epoch 70/100\n",
      "50000/50000 [==============================] - 13s 265us/step - loss: 0.4316 - acc: 0.8460 - val_loss: 2.3188 - val_acc: 0.5073\n",
      "Epoch 71/100\n",
      "50000/50000 [==============================] - 15s 307us/step - loss: 0.4180 - acc: 0.8490 - val_loss: 2.3983 - val_acc: 0.5039\n",
      "Epoch 72/100\n",
      "50000/50000 [==============================] - 14s 283us/step - loss: 0.4358 - acc: 0.8430 - val_loss: 2.3723 - val_acc: 0.5024\n",
      "Epoch 73/100\n",
      "50000/50000 [==============================] - 14s 279us/step - loss: 0.4129 - acc: 0.8512 - val_loss: 2.4134 - val_acc: 0.5096\n",
      "Epoch 74/100\n",
      "50000/50000 [==============================] - 14s 280us/step - loss: 0.4021 - acc: 0.8561 - val_loss: 2.5113 - val_acc: 0.5030\n",
      "Epoch 75/100\n",
      "50000/50000 [==============================] - 14s 278us/step - loss: 0.3847 - acc: 0.8617 - val_loss: 2.4858 - val_acc: 0.5070\n",
      "Epoch 76/100\n",
      "50000/50000 [==============================] - 14s 283us/step - loss: 0.4028 - acc: 0.8535 - val_loss: 2.5253 - val_acc: 0.5073\n",
      "Epoch 77/100\n",
      "50000/50000 [==============================] - 14s 279us/step - loss: 0.3813 - acc: 0.8626 - val_loss: 2.5122 - val_acc: 0.5064\n",
      "Epoch 78/100\n",
      "50000/50000 [==============================] - 14s 281us/step - loss: 0.3912 - acc: 0.8592 - val_loss: 2.5709 - val_acc: 0.4992\n",
      "Epoch 79/100\n",
      "50000/50000 [==============================] - 14s 282us/step - loss: 0.3701 - acc: 0.8678 - val_loss: 2.6105 - val_acc: 0.5014\n",
      "Epoch 80/100\n",
      "50000/50000 [==============================] - 14s 280us/step - loss: 0.3665 - acc: 0.8687 - val_loss: 2.6031 - val_acc: 0.5045\n",
      "Epoch 81/100\n",
      "50000/50000 [==============================] - 14s 283us/step - loss: 0.3495 - acc: 0.8742 - val_loss: 2.6020 - val_acc: 0.4959\n",
      "Epoch 82/100\n",
      "50000/50000 [==============================] - 14s 279us/step - loss: 0.3550 - acc: 0.8725 - val_loss: 2.6609 - val_acc: 0.5017\n",
      "Epoch 83/100\n",
      "50000/50000 [==============================] - 14s 281us/step - loss: 0.3417 - acc: 0.8785 - val_loss: 2.7071 - val_acc: 0.5023\n",
      "Epoch 84/100\n",
      "50000/50000 [==============================] - 14s 281us/step - loss: 0.3385 - acc: 0.8787 - val_loss: 2.7748 - val_acc: 0.4960\n",
      "Epoch 85/100\n",
      "50000/50000 [==============================] - 14s 280us/step - loss: 0.3576 - acc: 0.8713 - val_loss: 2.7661 - val_acc: 0.4958\n",
      "Epoch 86/100\n",
      "50000/50000 [==============================] - 14s 282us/step - loss: 0.3381 - acc: 0.8772 - val_loss: 2.8510 - val_acc: 0.4994\n",
      "Epoch 87/100\n",
      "50000/50000 [==============================] - 14s 282us/step - loss: 0.3267 - acc: 0.8817 - val_loss: 2.8653 - val_acc: 0.4974\n",
      "Epoch 88/100\n",
      "50000/50000 [==============================] - 14s 282us/step - loss: 0.3381 - acc: 0.8793 - val_loss: 2.8699 - val_acc: 0.4929\n",
      "Epoch 89/100\n",
      "50000/50000 [==============================] - 14s 281us/step - loss: 0.3113 - acc: 0.8878 - val_loss: 2.8721 - val_acc: 0.4999\n",
      "Epoch 90/100\n",
      "50000/50000 [==============================] - 14s 283us/step - loss: 0.3208 - acc: 0.8842 - val_loss: 2.8804 - val_acc: 0.4950\n",
      "Epoch 91/100\n",
      "50000/50000 [==============================] - 14s 281us/step - loss: 0.3091 - acc: 0.8897 - val_loss: 2.8986 - val_acc: 0.5008\n",
      "Epoch 92/100\n",
      "50000/50000 [==============================] - 14s 282us/step - loss: 0.3260 - acc: 0.8821 - val_loss: 3.0253 - val_acc: 0.4900\n",
      "Epoch 93/100\n",
      "50000/50000 [==============================] - 14s 282us/step - loss: 0.3124 - acc: 0.8885 - val_loss: 2.9234 - val_acc: 0.4984\n",
      "Epoch 94/100\n",
      "50000/50000 [==============================] - 14s 281us/step - loss: 0.2871 - acc: 0.8973 - val_loss: 2.9394 - val_acc: 0.5051\n",
      "Epoch 95/100\n",
      "50000/50000 [==============================] - 14s 286us/step - loss: 0.3034 - acc: 0.8904 - val_loss: 3.0499 - val_acc: 0.5038\n",
      "Epoch 96/100\n",
      "50000/50000 [==============================] - 14s 282us/step - loss: 0.2914 - acc: 0.8955 - val_loss: 2.9926 - val_acc: 0.5019\n",
      "Epoch 97/100\n",
      "50000/50000 [==============================] - 14s 283us/step - loss: 0.2789 - acc: 0.8991 - val_loss: 3.1047 - val_acc: 0.4972\n",
      "Epoch 98/100\n",
      "50000/50000 [==============================] - 14s 286us/step - loss: 0.2708 - acc: 0.9030 - val_loss: 3.1201 - val_acc: 0.5014\n",
      "Epoch 99/100\n",
      "50000/50000 [==============================] - 14s 285us/step - loss: 0.2701 - acc: 0.9025 - val_loss: 3.1205 - val_acc: 0.5035\n",
      "Epoch 100/100\n",
      "50000/50000 [==============================] - 14s 284us/step - loss: 0.2774 - acc: 0.9004 - val_loss: 3.1178 - val_acc: 0.5029\n"
     ]
    },
    {
     "data": {
      "text/plain": [
       "<keras.callbacks.History at 0x217d9afae80>"
      ]
     },
     "execution_count": 10,
     "metadata": {},
     "output_type": "execute_result"
    }
   ],
   "source": [
    "model.fit(x_train, y_train, \n",
    "          epochs=EPOCHS, \n",
    "          batch_size=BATCH_SIZE, \n",
    "          validation_data=(x_test, y_test), \n",
    "          shuffle=True)"
   ]
  },
  {
   "cell_type": "code",
   "execution_count": 12,
   "metadata": {},
   "outputs": [
    {
     "data": {
      "image/png": "[encoded data removed]",
      "text/plain": [
       "<Figure size 432x288 with 1 Axes>"
      ]
     },
     "metadata": {
      "needs_background": "light"
     },
     "output_type": "display_data"
    },
    {
     "data": {
      "image/png": "[encoded data removed]",
      "text/plain": [
       "<Figure size 432x288 with 1 Axes>"
      ]
     },
     "metadata": {
      "needs_background": "light"
     },
     "output_type": "display_data"
    }
   ],
   "source": [
    "# 訓練模型並檢視驗證集的結果\n",
    "import matplotlib.pyplot as plt\n",
    "\n",
    "train_loss = model.history.history[\"loss\"]\n",
    "valid_loss = model.history.history[\"val_loss\"]\n",
    "\n",
    "train_acc = model.history.history[\"acc\"]\n",
    "valid_acc = model.history.history[\"val_acc\"]\n",
    "\n",
    "plt.plot(range(len(train_loss)), train_loss, label=\"train loss\")\n",
    "plt.plot(range(len(valid_loss)), valid_loss, label=\"valid loss\")\n",
    "plt.legend()\n",
    "plt.title(\"Loss\")\n",
    "plt.show()\n",
    "\n",
    "plt.plot(range(len(train_acc)), train_acc, label=\"train accuracy\")\n",
    "plt.plot(range(len(valid_acc)), valid_acc, label=\"valid accuracy\")\n",
    "plt.legend()\n",
    "plt.title(\"Accuracy\")\n",
    "plt.show()"
   ]
  },
  {
   "cell_type": "markdown",
   "metadata": {},
   "source": [
    "## Work\n",
    "1. 請嘗試將 preproc_x 替換成以每筆資料的 min/max 進行標準化至 -1 ~ 1 間，再進行訓練\n",
    "2. 請嘗試將 mlp 疊更深 (e.g 5~10 層)，進行訓練後觀察 learning curve 的走勢\n",
    "3. (optional) 請改用 GPU 進行訓練 (如果你有 GPU 的話)，比較使用 CPU 與 GPU 的訓練速度"
   ]
  }
 ],
 "metadata": {
  "kernelspec": {
   "display_name": "Python 3",
   "language": "python",
   "name": "python3"
  },
  "language_info": {
   "codemirror_mode": {
    "name": "ipython",
    "version": 3
   },
   "file_extension": ".py",
   "mimetype": "text/x-python",
   "name": "python",
   "nbconvert_exporter": "python",
   "pygments_lexer": "ipython3",
   "version": "3.7.3"
  }
 },
 "nbformat": 4,
 "nbformat_minor": 2
}
